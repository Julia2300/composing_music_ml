{
 "cells": [
  {
   "cell_type": "code",
   "execution_count": 1,
   "metadata": {},
   "outputs": [],
   "source": [
    "import json\n",
    "from tokenizing_functions import extract_events, transform_to_prompt\n",
    "from tqdm import tqdm\n",
    "\n",
    "PATH_TRANSPOSED = \"../0_data/4_preprocessed_sets\"\n",
    "PATH_VOCAB = \"../0_data/5_vocabs\"\n",
    "PATH_WORD_DATA = \"../0_data/6_word_data\""
   ]
  },
  {
   "cell_type": "code",
   "execution_count": 2,
   "metadata": {},
   "outputs": [],
   "source": [
    "vocab_configs = {\n",
    "    \"a1\" : {\n",
    "        \"pitch_start\": 0,\n",
    "        \"pitch_end\": 127,\n",
    "        \"duration_steps\": 64,\n",
    "        \"triole_tokens\": False,\n",
    "        \"folder_name\": \"a)_4_4_metric_120_bpm\"\n",
    "    },\n",
    "    \"a2\" : {\n",
    "        \"pitch_start\": 0,\n",
    "        \"pitch_end\": 127,\n",
    "        \"duration_steps\": 64,\n",
    "        \"triole_tokens\": True,\n",
    "        \"folder_name\": \"a)_4_4_metric_120_bpm\"\n",
    "    },\n",
    "    \"a3\" : {\n",
    "        \"pitch_start\": 0,\n",
    "        \"pitch_end\": 127,\n",
    "        \"duration_steps\": 32,\n",
    "        \"triole_tokens\": False,\n",
    "        \"folder_name\": \"a)_4_4_metric_120_bpm\"\n",
    "    },\n",
    "    \"b\" : {\n",
    "        \"pitch_start\": 0,\n",
    "        \"pitch_end\": 127,\n",
    "        \"duration_steps\": 64,\n",
    "        \"triole_tokens\": False,\n",
    "        \"folder_name\": \"b)_transposed_key\"\n",
    "    },\n",
    "    \"c\" : {\n",
    "        \"pitch_start\": 60,\n",
    "        \"pitch_end\": 95,\n",
    "        \"duration_steps\": 64,\n",
    "        \"triole_tokens\": False,\n",
    "        \"folder_name\": \"c)_transposed_octave\"\n",
    "    },\n",
    "    \"d\" : {\n",
    "        \"pitch_start\": 60,\n",
    "        \"pitch_end\": 95,\n",
    "        \"duration_steps\": 32,\n",
    "        \"triole_tokens\": True,\n",
    "        \"folder_name\": \"d)_transposed_key_and_octave\"\n",
    "    }\n",
    "}"
   ]
  },
  {
   "cell_type": "code",
   "execution_count": 3,
   "metadata": {},
   "outputs": [
    {
     "name": "stderr",
     "output_type": "stream",
     "text": [
      "100%|██████████| 3/3 [00:00<00:00, 32.24it/s]"
     ]
    },
    {
     "name": "stdout",
     "output_type": "stream",
     "text": [
      "prompts :  3\n"
     ]
    },
    {
     "name": "stderr",
     "output_type": "stream",
     "text": [
      "\n"
     ]
    }
   ],
   "source": [
    "folder_name = vocab_configs[\"d\"][\"folder_name\"]\n",
    "dir = f\"{PATH_TRANSPOSED}/{folder_name}/17_POP909-Dataset-master\"\n",
    "files = [(\"040.mid\", 4), (\"095.mid\",2), (\"600.mid\",8)]\n",
    "\n",
    "word_data = {}\n",
    "for file, max_bars in tqdm(files):\n",
    "    path = f\"{dir}/{file}\"\n",
    "    events =extract_events(path, vocab_configs[\"d\"][\"duration_steps\"], vocab_configs[\"d\"][\"triole_tokens\"])\n",
    "    words = [f\"{e['name']}_{e['value']}\" for e in events]\n",
    "    words = transform_to_prompt(words, max_bars)\n",
    "    word_data[file] = words\n",
    "\n",
    "with open(f\"{PATH_WORD_DATA}/prompt_data.json\", \"w\") as fp:\n",
    "    json.dump(word_data, fp)\n",
    "    \n",
    "print(\"prompts : \", len(word_data))"
   ]
  }
 ],
 "metadata": {
  "kernelspec": {
   "display_name": "MusicAI",
   "language": "python",
   "name": "python3"
  },
  "language_info": {
   "codemirror_mode": {
    "name": "ipython",
    "version": 3
   },
   "file_extension": ".py",
   "mimetype": "text/x-python",
   "name": "python",
   "nbconvert_exporter": "python",
   "pygments_lexer": "ipython3",
   "version": "3.8.0"
  },
  "orig_nbformat": 4
 },
 "nbformat": 4,
 "nbformat_minor": 2
}
