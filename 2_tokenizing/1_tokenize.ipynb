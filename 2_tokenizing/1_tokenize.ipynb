{
 "cells": [
  {
   "cell_type": "code",
   "execution_count": 1,
   "metadata": {},
   "outputs": [],
   "source": [
    "import pandas as pd\n",
    "import numpy as np\n",
    "from music21 import converter, midi, interval, pitch\n",
    "from mido import MidiFile\n",
    "import miditoolkit\n",
    "import os\n",
    "from os import walk\n",
    "import json\n",
    "from tokenizing_functions import extract_events, get_file_and_dirnames\n",
    "#from helper_functions import get_file_and_dirnames\n",
    "#from analysis_functions import analyse_data_folder\n",
    "from tqdm import tqdm\n",
    "import warnings\n",
    "warnings.filterwarnings('ignore')\n",
    "\n",
    "PATH_TRANSPOSED = \"../0_data/4_preprocessed_sets\"\n",
    "PATH_VOCAB = \"../0_data/5_vocabs\"\n",
    "PATH_WORD_DATA = \"../0_data/6_word_data\"\n",
    "\n",
    "for path in [PATH_VOCAB, PATH_WORD_DATA]:\n",
    "    if not os.path.exists(path):\n",
    "        os.makedirs(path)"
   ]
  },
  {
   "cell_type": "code",
   "execution_count": 2,
   "metadata": {},
   "outputs": [],
   "source": [
    "vocab_configs = {\n",
    "    \"a1\" : {\n",
    "        \"pitch_start\": 0,\n",
    "        \"pitch_end\": 127,\n",
    "        \"duration_steps\": 64,\n",
    "        \"triole_tokens\": False,\n",
    "        \"folder_name\": \"a)_4_4_metric_120_bpm\"\n",
    "    },\n",
    "    \"a2\" : {\n",
    "        \"pitch_start\": 0,\n",
    "        \"pitch_end\": 127,\n",
    "        \"duration_steps\": 64,\n",
    "        \"triole_tokens\": True,\n",
    "        \"folder_name\": \"a)_4_4_metric_120_bpm\"\n",
    "    },\n",
    "    \"a3\" : {\n",
    "        \"pitch_start\": 0,\n",
    "        \"pitch_end\": 127,\n",
    "        \"duration_steps\": 32,\n",
    "        \"triole_tokens\": False,\n",
    "        \"folder_name\": \"a)_4_4_metric_120_bpm\"\n",
    "    },\n",
    "    \"b\" : {\n",
    "        \"pitch_start\": 0,\n",
    "        \"pitch_end\": 127,\n",
    "        \"duration_steps\": 64,\n",
    "        \"triole_tokens\": False,\n",
    "        \"folder_name\": \"b)_transposed_key\"\n",
    "    },\n",
    "    \"c\" : {\n",
    "        \"pitch_start\": 60,\n",
    "        \"pitch_end\": 95,\n",
    "        \"duration_steps\": 64,\n",
    "        \"triole_tokens\": False,\n",
    "        \"folder_name\": \"c)_transposed_octave\"\n",
    "    },\n",
    "    \"d\" : {\n",
    "        \"pitch_start\": 60,\n",
    "        \"pitch_end\": 95,\n",
    "        \"duration_steps\": 32,\n",
    "        \"triole_tokens\": True,\n",
    "        \"folder_name\": \"d)_transposed_key_and_octave\"\n",
    "    }\n",
    "}"
   ]
  },
  {
   "cell_type": "code",
   "execution_count": 3,
   "metadata": {},
   "outputs": [],
   "source": [
    "POSITION_STEPS = 16\n",
    "TICKS_PER_BEAT = 1024\n",
    "TRIOLE_POS_1 = (TICKS_PER_BEAT/12).__round__()\n",
    "TRIOLE_POS_2 = (TICKS_PER_BEAT/6).__round__()\n",
    "TICKS_PER_MIN_DURATION = TICKS_PER_BEAT*4/32\n",
    "\n",
    "for key in vocab_configs:\n",
    "\n",
    "    duration_steps = vocab_configs[key][\"duration_steps\"]\n",
    "    pitch_start = vocab_configs[key][\"pitch_start\"]\n",
    "    pitch_end = vocab_configs[key][\"pitch_end\"]\n",
    "    pitch_range = pitch_end - pitch_start + 1\n",
    "    triole_tokens = vocab_configs[key][\"triole_tokens\"]\n",
    "\n",
    "    # 1 Bar token\n",
    "    token2word = {0: \"Bar_None\"}\n",
    "    # 36 or 128 Note-On tokens\n",
    "    for i in range(1, pitch_range+1):\n",
    "        token2word[i] = f\"Note-On_{i+pitch_start-1}\"\n",
    "    # 32 or 64 Note-Duration tokens\n",
    "    for i in range(pitch_range+1, pitch_range+duration_steps+1):\n",
    "        token2word[i] = f\"Note-Duration_{i-pitch_range}\"\n",
    "    # 1 duration triole token if triole_tokens is True\n",
    "    if triole_tokens:\n",
    "        token2word[pitch_range+duration_steps+1] = \"Note-Duration_triole\"\n",
    "        start_position_tokens = pitch_range+duration_steps+2\n",
    "    else:\n",
    "        start_position_tokens = pitch_range+duration_steps+1\n",
    "    # 16 Position tokens\n",
    "    for i in range(start_position_tokens, start_position_tokens+POSITION_STEPS):\n",
    "        token2word[i] = f\"Position_{i-start_position_tokens+1}/{POSITION_STEPS}\"\n",
    "    # 2 Position triole tokens if triole_tokens is True\n",
    "    if triole_tokens:\n",
    "        token2word[start_position_tokens+POSITION_STEPS] = \"Position-Triole_1\"\n",
    "        token2word[start_position_tokens+POSITION_STEPS+1] = \"Position-Triole_2\"\n",
    "\n",
    "    word2token = {v: k for k, v in token2word.items()}\n",
    "    \n",
    "    with open(f\"{PATH_VOCAB}/vocab_{key}.json\", \"w\") as fp:\n",
    "        json.dump(word2token, fp)"
   ]
  },
  {
   "cell_type": "code",
   "execution_count": 4,
   "metadata": {},
   "outputs": [
    {
     "name": "stderr",
     "output_type": "stream",
     "text": [
      "100%|██████████| 902/902 [00:19<00:00, 45.91it/s]\n"
     ]
    },
    {
     "name": "stdout",
     "output_type": "stream",
     "text": [
      "a1 :  902\n"
     ]
    },
    {
     "name": "stderr",
     "output_type": "stream",
     "text": [
      "100%|██████████| 902/902 [00:23<00:00, 37.74it/s]\n"
     ]
    },
    {
     "name": "stdout",
     "output_type": "stream",
     "text": [
      "a2 :  902\n"
     ]
    },
    {
     "name": "stderr",
     "output_type": "stream",
     "text": [
      "100%|██████████| 902/902 [00:19<00:00, 45.82it/s]\n"
     ]
    },
    {
     "name": "stdout",
     "output_type": "stream",
     "text": [
      "a3 :  902\n"
     ]
    },
    {
     "name": "stderr",
     "output_type": "stream",
     "text": [
      "100%|██████████| 845/845 [00:18<00:00, 46.22it/s]\n"
     ]
    },
    {
     "name": "stdout",
     "output_type": "stream",
     "text": [
      "b :  845\n"
     ]
    },
    {
     "name": "stderr",
     "output_type": "stream",
     "text": [
      "100%|██████████| 858/858 [00:18<00:00, 45.84it/s]\n"
     ]
    },
    {
     "name": "stdout",
     "output_type": "stream",
     "text": [
      "c :  858\n"
     ]
    },
    {
     "name": "stderr",
     "output_type": "stream",
     "text": [
      "100%|██████████| 803/803 [00:20<00:00, 39.56it/s]\n"
     ]
    },
    {
     "name": "stdout",
     "output_type": "stream",
     "text": [
      "d :  803\n"
     ]
    }
   ],
   "source": [
    "for key in vocab_configs:\n",
    "\n",
    "    # get files\n",
    "    folder_name = vocab_configs[key][\"folder_name\"]\n",
    "    dir = f\"{PATH_TRANSPOSED}/{folder_name}/17_POP909-Dataset-master\"\n",
    "    files,_ = get_file_and_dirnames(dir)\n",
    "    files.sort()\n",
    "\n",
    "    # process midi files into word sequences\n",
    "    word_data = {}\n",
    "    for file in tqdm(files):\n",
    "        path = f\"{dir}/{file}\"\n",
    "        events =extract_events(path, vocab_configs[key][\"duration_steps\"], vocab_configs[key][\"triole_tokens\"])\n",
    "        words = [f\"{e['name']}_{e['value']}\" for e in events]\n",
    "        word_data[file] = words\n",
    "    print(key, \": \", len(word_data))\n",
    "\n",
    "    with open(f\"{PATH_WORD_DATA}/{key}_data.json\", \"w\") as fp:\n",
    "        json.dump(word_data, fp)"
   ]
  },
  {
   "cell_type": "code",
   "execution_count": null,
   "metadata": {},
   "outputs": [],
   "source": []
  },
  {
   "cell_type": "code",
   "execution_count": null,
   "metadata": {},
   "outputs": [],
   "source": []
  },
  {
   "cell_type": "code",
   "execution_count": null,
   "metadata": {},
   "outputs": [],
   "source": []
  },
  {
   "cell_type": "code",
   "execution_count": 13,
   "metadata": {},
   "outputs": [],
   "source": [
    "def token_to_event(tokens, token2word):\n",
    "    events = []\n",
    "    for token in tokens:\n",
    "        event_name, event_value = token2word.get(token).split('_')\n",
    "        events.append({\n",
    "            \"name\": event_name,\n",
    "            \"time\": None,\n",
    "            \"value\": event_value,\n",
    "            \"text\": None\n",
    "        })\n",
    "    return events\n",
    "\n",
    "def get_position_triole(flags, position, triole_position):\n",
    "    if triole_position == 0:\n",
    "        st = flags[position]\n",
    "    elif triole_position == 1:\n",
    "        st = flags[position] + TRIOLE_POS_1\n",
    "    elif triole_position == 2:\n",
    "        st = flags[position] + TRIOLE_POS_2\n",
    "    return st\n",
    "\n",
    "DURATION_BINS = np.arange(TICKS_PER_MIN_DURATION, (TICKS_PER_MIN_DURATION*duration_steps)+1, TICKS_PER_MIN_DURATION, dtype=int)\n",
    "\n",
    "def write_midi(tokens, token2word, output_path):\n",
    "    events = token_to_event(tokens, token2word)\n",
    "    # get downbeat and note (no time)\n",
    "    incorrect_notes = 0\n",
    "    temp_notes = []\n",
    "    for i in range(len(events)-3):\n",
    "        if events[i][\"name\"] == 'Bar' and i > 0:\n",
    "            temp_notes.append('Bar')\n",
    "        elif events[i][\"name\"] == 'Position':\n",
    "            # get position bin \n",
    "            position = int(events[i][\"value\"].split('/')[0]) - 1\n",
    "            # get triole position\n",
    "            if events[i+1][\"name\"] == 'Position-Triole':\n",
    "                triole_position = int(events[i+1][\"value\"])\n",
    "                n = 1\n",
    "            else:\n",
    "                triole_position = 0\n",
    "                n = 0\n",
    "            if events[i+n+1][\"name\"] == 'Note-On' and \\\n",
    "            events[i+n+2][\"name\"] == 'Note-Duration' and events[i+n+2][\"value\"] != 'triole':\n",
    "                # pitch\n",
    "                pitch = int(events[i+n+1][\"value\"])\n",
    "            else:\n",
    "                incorrect_notes += 1\n",
    "                continue\n",
    "            # duration\n",
    "            if events[i+n+3][\"name\"] == 'Note-Duration' and events[i+n+3][\"value\"] == 'triole':\n",
    "                index = int(events[i+n+2][\"value\"])-1\n",
    "                duration = int(DURATION_BINS[index] / 3)\n",
    "            else:\n",
    "                index = int(events[i+n+2][\"value\"])-1\n",
    "                duration = DURATION_BINS[index]\n",
    "            # adding\n",
    "            temp_notes.append([position, triole_position ,pitch, duration])\n",
    "    # get specific time for notes\n",
    "    ticks_per_bar = TICKS_PER_BEAT * 4 # assume 4/4\n",
    "    notes = []\n",
    "    current_bar = 0\n",
    "    for note in temp_notes:\n",
    "        if note == 'Bar':\n",
    "            current_bar += 1\n",
    "        else:\n",
    "            position, triole_position, pitch, duration = note\n",
    "            # position (start time)\n",
    "            current_bar_st = current_bar * ticks_per_bar\n",
    "            current_bar_et = (current_bar + 1) * ticks_per_bar\n",
    "            flags = np.linspace(current_bar_st, current_bar_et, POSITION_STEPS, endpoint=False, dtype=int)\n",
    "            st = get_position_triole(flags, position, triole_position)\n",
    "            # duration (end time)\n",
    "            et = st + duration\n",
    "            notes.append(miditoolkit.Note(100, pitch, st, et))\n",
    "    # write to midi\n",
    "    midi = miditoolkit.midi.parser.MidiFile()\n",
    "    midi.ticks_per_beat = TICKS_PER_BEAT\n",
    "    # write instrument\n",
    "    inst = miditoolkit.midi.containers.Instrument(0, is_drum=False)\n",
    "    inst.notes = notes\n",
    "    midi.instruments.append(inst)\n",
    "        \n",
    "    # write\n",
    "    midi.dump(output_path)\n",
    "    print(\"midi saved in {}\".format(output_path))\n",
    "    print(\"Number of incorrect notes: {}\".format(incorrect_notes))\n",
    "    return incorrect_notes"
   ]
  },
  {
   "cell_type": "code",
   "execution_count": 14,
   "metadata": {},
   "outputs": [],
   "source": [
    "PATH_TEST = \"../0_data/99_test\"\n",
    "\n",
    "# when paths not exist, create directories\n",
    "if not os.path.exists(PATH_TEST):\n",
    "    os.makedirs(PATH_TEST)"
   ]
  },
  {
   "cell_type": "code",
   "execution_count": 15,
   "metadata": {},
   "outputs": [
    {
     "name": "stdout",
     "output_type": "stream",
     "text": [
      "midi saved in ../0_data/99_test/test.mid\n",
      "Number of incorrect notes: 0\n"
     ]
    }
   ],
   "source": [
    "write_midi(tokens, token2word, f\"{PATH_TEST}/test.mid\")"
   ]
  },
  {
   "cell_type": "code",
   "execution_count": 16,
   "metadata": {},
   "outputs": [
    {
     "name": "stdout",
     "output_type": "stream",
     "text": [
      "midi saved in ../0_data/99_test/seq_0.mid\n",
      "Number of incorrect notes: 13\n",
      "midi saved in ../0_data/99_test/seq_1.mid\n",
      "Number of incorrect notes: 20\n",
      "midi saved in ../0_data/99_test/seq_2.mid\n",
      "Number of incorrect notes: 17\n"
     ]
    }
   ],
   "source": [
    "test_sequences = [[  0, 103, 118,   8, 103, 102,  13,  48, 115,   5,  40, 114, 119,  18,\n",
    "           8,  38, 109,  15,  52,  84, 112,  20,  44,  40, 111,  12,   8,  38,\n",
    "         108, 119, 118, 114,  17, 111,  12, 119,  15,  40,  20,  38,  29,  38,\n",
    "         117,  12,  78, 101, 107,  12,  29,  12,  68,  17,  40,  52, 103,  15,\n",
    "          44,  13,  38,  22,  46,  15, 118, 104, 119,  11, 104,  25,  40,  77,\n",
    "          65,  10,  40,  46,   8, 119,  60, 113,  19,  29,  38, 101, 117,  17,\n",
    "          23,  25,  59,  52,  12, 100,  95,  10,  38, 108,  13, 115,  44, 101,\n",
    "         113,  17],\n",
    "        [  0,  94,  44, 101, 111, 119,  15,  52,  65,  38, 103,  22,  17, 101,\n",
    "         116,  42, 113, 116,  13,  38, 114,  44, 115,  44, 101,  41,  13,  25,\n",
    "         102, 116,  25,  42, 112, 119,   5,  44,  12, 102,  15,  29, 109,  10,\n",
    "          10,  10, 105,  15, 112, 119,  26,  13, 107,  12,  59,  48, 101,  44,\n",
    "         115,  64,  38, 110,  12,  19,  32,   0,  46,   2,   8,  19,  40, 111,\n",
    "          92,  26, 104,  17, 103, 106,   8,  11,  38,  69, 112, 118,  10,  29,\n",
    "           6,  56,   8, 112, 106,  15,  19,  52, 104, 119,  42,   0,  55, 104,\n",
    "         119,  18],\n",
    "        [  0, 103,  24,  38, 112, 107,  92,  44,   5,  40,   8,  17,  59, 101,\n",
    "         108,  17,   0,   7,  48, 109, 119,  16, 103, 105,  41,  40,   0,  60,\n",
    "          15,  38, 106,   5, 116,  17,  40, 107,  17,  44, 110, 108, 109,  15,\n",
    "          44, 101, 117,  13,  44,  61,  42, 108,  77,  13,   0, 102,  44, 101,\n",
    "          77,  38, 111,   5,  40, 110,  16,  52, 101, 107,  12,  48,  38,  77,\n",
    "         109,  18,  52, 104,  84,  26, 111, 112, 118,  25,  19, 113,  20,  38,\n",
    "           0,   8,  13,  15, 110,  10,  48,  65, 111, 119, 114, 107, 119,  15,\n",
    "          13,  76]]\n",
    "\n",
    "write_midi(test_sequences[0], token2word, f\"{PATH_TEST}/seq_0.mid\")\n",
    "write_midi(test_sequences[1], token2word, f\"{PATH_TEST}/seq_1.mid\")\n",
    "write_midi(test_sequences[2], token2word, f\"{PATH_TEST}/seq_2.mid\")"
   ]
  }
 ],
 "metadata": {
  "kernelspec": {
   "display_name": "Python 3 (ipykernel)",
   "language": "python",
   "name": "python3"
  },
  "language_info": {
   "codemirror_mode": {
    "name": "ipython",
    "version": 3
   },
   "file_extension": ".py",
   "mimetype": "text/x-python",
   "name": "python",
   "nbconvert_exporter": "python",
   "pygments_lexer": "ipython3",
   "version": "3.8.0"
  },
  "vscode": {
   "interpreter": {
    "hash": "b45485cfab4f9d3f2b74db78e445236bebb198055b9cbaed4a83d587e72b6464"
   }
  }
 },
 "nbformat": 4,
 "nbformat_minor": 4
}
