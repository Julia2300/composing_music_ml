{
 "cells": [
  {
   "cell_type": "code",
   "execution_count": 16,
   "metadata": {},
   "outputs": [],
   "source": [
    "import pandas as pd\n",
    "import numpy as np\n",
    "from music21 import converter, midi, interval, pitch\n",
    "from mido import MidiFile\n",
    "import miditoolkit\n",
    "import os\n",
    "from os import walk\n",
    "import json\n",
    "from tokenizing_functions import extract_events, get_file_and_dirnames\n",
    "#from helper_functions import get_file_and_dirnames\n",
    "#from analysis_functions import analyse_data_folder\n",
    "from tqdm import tqdm\n",
    "import warnings\n",
    "warnings.filterwarnings('ignore')\n",
    "\n",
    "PATH_TRANSPOSED = \"../0_data/4_preprocessed_sets\""
   ]
  },
  {
   "cell_type": "code",
   "execution_count": 3,
   "metadata": {},
   "outputs": [
    {
     "data": {
      "text/plain": [
       "{'Bar_None': 0,\n",
       " 'Note-On_60': 1,\n",
       " 'Note-On_61': 2,\n",
       " 'Note-On_62': 3,\n",
       " 'Note-On_63': 4,\n",
       " 'Note-On_64': 5,\n",
       " 'Note-On_65': 6,\n",
       " 'Note-On_66': 7,\n",
       " 'Note-On_67': 8,\n",
       " 'Note-On_68': 9,\n",
       " 'Note-On_69': 10,\n",
       " 'Note-On_70': 11,\n",
       " 'Note-On_71': 12,\n",
       " 'Note-On_72': 13,\n",
       " 'Note-On_73': 14,\n",
       " 'Note-On_74': 15,\n",
       " 'Note-On_75': 16,\n",
       " 'Note-On_76': 17,\n",
       " 'Note-On_77': 18,\n",
       " 'Note-On_78': 19,\n",
       " 'Note-On_79': 20,\n",
       " 'Note-On_80': 21,\n",
       " 'Note-On_81': 22,\n",
       " 'Note-On_82': 23,\n",
       " 'Note-On_83': 24,\n",
       " 'Note-On_84': 25,\n",
       " 'Note-On_85': 26,\n",
       " 'Note-On_86': 27,\n",
       " 'Note-On_87': 28,\n",
       " 'Note-On_88': 29,\n",
       " 'Note-On_89': 30,\n",
       " 'Note-On_90': 31,\n",
       " 'Note-On_91': 32,\n",
       " 'Note-On_92': 33,\n",
       " 'Note-On_93': 34,\n",
       " 'Note-On_94': 35,\n",
       " 'Note-On_95': 36,\n",
       " 'Note-Duration_1': 37,\n",
       " 'Note-Duration_2': 38,\n",
       " 'Note-Duration_3': 39,\n",
       " 'Note-Duration_4': 40,\n",
       " 'Note-Duration_5': 41,\n",
       " 'Note-Duration_6': 42,\n",
       " 'Note-Duration_7': 43,\n",
       " 'Note-Duration_8': 44,\n",
       " 'Note-Duration_9': 45,\n",
       " 'Note-Duration_10': 46,\n",
       " 'Note-Duration_11': 47,\n",
       " 'Note-Duration_12': 48,\n",
       " 'Note-Duration_13': 49,\n",
       " 'Note-Duration_14': 50,\n",
       " 'Note-Duration_15': 51,\n",
       " 'Note-Duration_16': 52,\n",
       " 'Note-Duration_17': 53,\n",
       " 'Note-Duration_18': 54,\n",
       " 'Note-Duration_19': 55,\n",
       " 'Note-Duration_20': 56,\n",
       " 'Note-Duration_21': 57,\n",
       " 'Note-Duration_22': 58,\n",
       " 'Note-Duration_23': 59,\n",
       " 'Note-Duration_24': 60,\n",
       " 'Note-Duration_25': 61,\n",
       " 'Note-Duration_26': 62,\n",
       " 'Note-Duration_27': 63,\n",
       " 'Note-Duration_28': 64,\n",
       " 'Note-Duration_29': 65,\n",
       " 'Note-Duration_30': 66,\n",
       " 'Note-Duration_31': 67,\n",
       " 'Note-Duration_32': 68,\n",
       " 'Note-Duration_33': 69,\n",
       " 'Note-Duration_34': 70,\n",
       " 'Note-Duration_35': 71,\n",
       " 'Note-Duration_36': 72,\n",
       " 'Note-Duration_37': 73,\n",
       " 'Note-Duration_38': 74,\n",
       " 'Note-Duration_39': 75,\n",
       " 'Note-Duration_40': 76,\n",
       " 'Note-Duration_41': 77,\n",
       " 'Note-Duration_42': 78,\n",
       " 'Note-Duration_43': 79,\n",
       " 'Note-Duration_44': 80,\n",
       " 'Note-Duration_45': 81,\n",
       " 'Note-Duration_46': 82,\n",
       " 'Note-Duration_47': 83,\n",
       " 'Note-Duration_48': 84,\n",
       " 'Note-Duration_49': 85,\n",
       " 'Note-Duration_50': 86,\n",
       " 'Note-Duration_51': 87,\n",
       " 'Note-Duration_52': 88,\n",
       " 'Note-Duration_53': 89,\n",
       " 'Note-Duration_54': 90,\n",
       " 'Note-Duration_55': 91,\n",
       " 'Note-Duration_56': 92,\n",
       " 'Note-Duration_57': 93,\n",
       " 'Note-Duration_58': 94,\n",
       " 'Note-Duration_59': 95,\n",
       " 'Note-Duration_60': 96,\n",
       " 'Note-Duration_61': 97,\n",
       " 'Note-Duration_62': 98,\n",
       " 'Note-Duration_63': 99,\n",
       " 'Note-Duration_64': 100,\n",
       " 'Note-Duration_triole': 101,\n",
       " 'Position_1/16': 102,\n",
       " 'Position_2/16': 103,\n",
       " 'Position_3/16': 104,\n",
       " 'Position_4/16': 105,\n",
       " 'Position_5/16': 106,\n",
       " 'Position_6/16': 107,\n",
       " 'Position_7/16': 108,\n",
       " 'Position_8/16': 109,\n",
       " 'Position_9/16': 110,\n",
       " 'Position_10/16': 111,\n",
       " 'Position_11/16': 112,\n",
       " 'Position_12/16': 113,\n",
       " 'Position_13/16': 114,\n",
       " 'Position_14/16': 115,\n",
       " 'Position_15/16': 116,\n",
       " 'Position_16/16': 117,\n",
       " 'Position-Triole_1': 118,\n",
       " 'Position-Triole_2': 119}"
      ]
     },
     "execution_count": 3,
     "metadata": {},
     "output_type": "execute_result"
    }
   ],
   "source": [
    "MIN_DURATION_DENOMINATOR = 32\n",
    "DURATION_STEPS = 64\n",
    "POSITION_STEPS = 16\n",
    "TICKS_PER_BEAT = 1024\n",
    "TRIOLE_POS_1 = (TICKS_PER_BEAT/12).__round__()\n",
    "TRIOLE_POS_2 = (TICKS_PER_BEAT/6).__round__()\n",
    "TICKS_PER_MIN_DURATION = TICKS_PER_BEAT*4/MIN_DURATION_DENOMINATOR\n",
    "DURATION_BINS = np.arange(TICKS_PER_MIN_DURATION, (TICKS_PER_MIN_DURATION*DURATION_STEPS)+1, TICKS_PER_MIN_DURATION, dtype=int)\n",
    "\n",
    "start_position_tokens = 37 + DURATION_STEPS + 1\n",
    "end_position_tokens = start_position_tokens + POSITION_STEPS\n",
    "\n",
    "word2message = {0: \"Bar_None\"}\n",
    "for i in range(1, 37):\n",
    "    word2message[i] = f\"Note-On_{i+59}\"\n",
    "for i in range(37, start_position_tokens-1):\n",
    "    word2message[i] = f\"Note-Duration_{i-36}\"\n",
    "word2message[start_position_tokens-1] = \"Note-Duration_triole\"\n",
    "for i in range(start_position_tokens, end_position_tokens):\n",
    "    word2message[i] = f\"Position_{i-start_position_tokens+1}/{POSITION_STEPS}\"\n",
    "word2message[end_position_tokens] = \"Position-Triole_1\"\n",
    "word2message[end_position_tokens+1] = \"Position-Triole_2\"\n",
    "\n",
    "message2word = {v: k for k, v in word2message.items()}\n",
    "message2word"
   ]
  },
  {
   "cell_type": "code",
   "execution_count": 4,
   "metadata": {},
   "outputs": [
    {
     "data": {
      "text/plain": [
       "['002.mid',\n",
       " '003.mid',\n",
       " '004.mid',\n",
       " '005.mid',\n",
       " '006.mid',\n",
       " '007.mid',\n",
       " '008.mid',\n",
       " '009.mid',\n",
       " '010.mid',\n",
       " '011.mid']"
      ]
     },
     "execution_count": 4,
     "metadata": {},
     "output_type": "execute_result"
    }
   ],
   "source": [
    "dir = \"17_POP909-Dataset-master\"\n",
    "file = \"111.mid\"\n",
    "files,_ = get_file_and_dirnames(f'{PATH_TRANSPOSED}/c)_transposed_octave/{dir}')\n",
    "files.sort()\n",
    "files[:10]"
   ]
  },
  {
   "cell_type": "code",
   "execution_count": 5,
   "metadata": {},
   "outputs": [
    {
     "data": {
      "text/plain": [
       "'note_items = convert_to_note_items(path)\\nnote_items_shifts = compute_shifts(note_items)\\nmax_time = note_items_shifts[-1][\"end\"]\\ngrouped_items = group_items(note_items_shifts, max_time)\\nevents = item2event(grouped_items)\\nevents'"
      ]
     },
     "execution_count": 5,
     "metadata": {},
     "output_type": "execute_result"
    }
   ],
   "source": [
    "path = f'{PATH_TRANSPOSED}/c)_transposed_octave/{dir}/100.mid'\n",
    "\"\"\"note_items = convert_to_note_items(path)\n",
    "note_items_shifts = compute_shifts(note_items)\n",
    "max_time = note_items_shifts[-1][\"end\"]\n",
    "grouped_items = group_items(note_items_shifts, max_time)\n",
    "events = item2event(grouped_items)\n",
    "events\"\"\""
   ]
  },
  {
   "cell_type": "code",
   "execution_count": 9,
   "metadata": {},
   "outputs": [
    {
     "data": {
      "text/plain": [
       "[0, 112, 17, 38, 114, 17, 38, 116, 17, 38]"
      ]
     },
     "execution_count": 9,
     "metadata": {},
     "output_type": "execute_result"
    }
   ],
   "source": [
    "events = extract_events(path)\n",
    "tokens = [message2word[f\"{e['name']}_{e['value']}\"] for e in events]\n",
    "tokens[:10]\n"
   ]
  },
  {
   "cell_type": "code",
   "execution_count": 11,
   "metadata": {},
   "outputs": [
    {
     "name": "stderr",
     "output_type": "stream",
     "text": [
      "100%|██████████| 803/803 [00:21<00:00, 37.27it/s]\n"
     ]
    }
   ],
   "source": [
    "token_dict = {}\n",
    "for file in tqdm(files):\n",
    "    path = f'{PATH_TRANSPOSED}/c)_transposed_octave/{dir}/{file}'\n",
    "    events = extract_events(path)\n",
    "    tokens = [message2word[f\"{e['name']}_{e['value']}\"] for e in events]\n",
    "    token_dict[file] = tokens\n"
   ]
  },
  {
   "cell_type": "code",
   "execution_count": 15,
   "metadata": {},
   "outputs": [
    {
     "data": {
      "text/plain": [
       "803"
      ]
     },
     "execution_count": 15,
     "metadata": {},
     "output_type": "execute_result"
    }
   ],
   "source": [
    "len(token_dict.keys())"
   ]
  },
  {
   "cell_type": "code",
   "execution_count": 17,
   "metadata": {},
   "outputs": [],
   "source": [
    "with open('data.json', 'w') as fp:\n",
    "    json.dump(token_dict, fp)"
   ]
  },
  {
   "cell_type": "code",
   "execution_count": 138,
   "metadata": {},
   "outputs": [],
   "source": [
    "def word_to_event(words, word2message):\n",
    "    events = []\n",
    "    for word in words:\n",
    "        event_name, event_value = word2message.get(word).split('_')\n",
    "        events.append({\n",
    "            \"name\": event_name,\n",
    "            \"time\": None,\n",
    "            \"value\": event_value,\n",
    "            \"text\": None\n",
    "        })\n",
    "    return events\n",
    "\n",
    "def write_midi(words, word2event, output_path, prompt_path=None):\n",
    "    events = word_to_event(words, word2event)\n",
    "    # get downbeat and note (no time)\n",
    "    temp_notes = []\n",
    "    for i in range(len(events)-3):\n",
    "        if events[i][\"name\"] == 'Bar' and i > 0:\n",
    "            temp_notes.append('Bar')\n",
    "        elif events[i][\"name\"] == 'Position':\n",
    "            # get position bin \n",
    "            position = int(events[i][\"value\"].split('/')[0]) - 1\n",
    "            # get triole position\n",
    "            if events[i+1][\"name\"] == 'Position-Triole':\n",
    "                triole_position = int(events[i+1][\"value\"])\n",
    "                n = 1\n",
    "            else:\n",
    "                triole_position = 0\n",
    "                n = 0\n",
    "            if events[i+n+1][\"name\"] == 'Note-On' and \\\n",
    "            events[i+n+2][\"name\"] == 'Note-Duration':\n",
    "                # pitch\n",
    "                pitch = int(events[i+n+1][\"value\"])\n",
    "            # duration\n",
    "            if events[i+n+3][\"name\"] != 'Note-Duration':\n",
    "                index = int(events[i+n+2][\"value\"])-1\n",
    "                duration = DURATION_BINS[index]\n",
    "            elif events[i+n+3][\"value\"] == 'triole':\n",
    "                index = int(events[i+n+2][\"value\"])-1\n",
    "                duration = int(DURATION_BINS[index] / 3)\n",
    "            # adding\n",
    "            temp_notes.append([position, triole_position ,pitch, duration])\n",
    "    # get specific time for notes\n",
    "    ticks_per_bar = TICKS_PER_BEAT * 4 # assume 4/4\n",
    "    notes = []\n",
    "    current_bar = 0\n",
    "    for note in temp_notes:\n",
    "        if note == 'Bar':\n",
    "            current_bar += 1\n",
    "        else:\n",
    "            position, triole_position, pitch, duration = note\n",
    "            # position (start time)\n",
    "            current_bar_st = current_bar * ticks_per_bar\n",
    "            current_bar_et = (current_bar + 1) * ticks_per_bar\n",
    "            flags = np.linspace(current_bar_st, current_bar_et, POSITION_STEPS, endpoint=False, dtype=int)\n",
    "            if triole_position == 0:\n",
    "                st = flags[position]\n",
    "            elif triole_position == 1:\n",
    "                st = flags[position] + TRIOLE_POS_1\n",
    "            elif triole_position == 2:\n",
    "                st = flags[position] + TRIOLE_POS_2\n",
    "            # duration (end time)\n",
    "            et = st + duration\n",
    "            notes.append(miditoolkit.Note(100, pitch, st, et))\n",
    "    # write\n",
    "    if prompt_path:\n",
    "        midi = miditoolkit.midi.parser.MidiFile(prompt_path)\n",
    "        last_time = TICKS_PER_BEAT * 4 * 4\n",
    "        # note shift\n",
    "        for note in notes:\n",
    "            note.start += last_time\n",
    "            note.end += last_time\n",
    "        midi.instruments[0].notes.extend(notes)\n",
    "    else:\n",
    "        midi = miditoolkit.midi.parser.MidiFile()\n",
    "        midi.ticks_per_beat = TICKS_PER_BEAT\n",
    "        # write instrument\n",
    "        inst = miditoolkit.midi.containers.Instrument(0, is_drum=False)\n",
    "        inst.notes = notes\n",
    "        midi.instruments.append(inst)\n",
    "        \n",
    "\n",
    "    # write\n",
    "    midi.dump(output_path)\n",
    "    print(\"midi saved\")"
   ]
  },
  {
   "cell_type": "code",
   "execution_count": 139,
   "metadata": {},
   "outputs": [],
   "source": [
    "PATH_TEST = \"../0_data/99_test\"\n",
    "\n",
    "# when paths not exist, create directories\n",
    "if not os.path.exists(PATH_TEST):\n",
    "    os.makedirs(PATH_TEST)"
   ]
  },
  {
   "cell_type": "code",
   "execution_count": 140,
   "metadata": {},
   "outputs": [
    {
     "name": "stdout",
     "output_type": "stream",
     "text": [
      "midi saved\n"
     ]
    }
   ],
   "source": [
    "write_midi(tokens, word2message, f\"{PATH_TEST}/test.mid\")"
   ]
  },
  {
   "cell_type": "code",
   "execution_count": null,
   "metadata": {},
   "outputs": [],
   "source": []
  }
 ],
 "metadata": {
  "kernelspec": {
   "display_name": "MusicAI",
   "language": "python",
   "name": "python3"
  },
  "language_info": {
   "codemirror_mode": {
    "name": "ipython",
    "version": 3
   },
   "file_extension": ".py",
   "mimetype": "text/x-python",
   "name": "python",
   "nbconvert_exporter": "python",
   "pygments_lexer": "ipython3",
   "version": "3.8.0"
  },
  "orig_nbformat": 4,
  "vscode": {
   "interpreter": {
    "hash": "b45485cfab4f9d3f2b74db78e445236bebb198055b9cbaed4a83d587e72b6464"
   }
  }
 },
 "nbformat": 4,
 "nbformat_minor": 2
}
