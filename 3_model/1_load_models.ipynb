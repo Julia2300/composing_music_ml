{
 "cells": [
  {
   "cell_type": "code",
   "execution_count": 1,
   "id": "a4f97d2f-6ac1-4348-8876-690002b854db",
   "metadata": {},
   "outputs": [],
   "source": [
    "from model_functions import analyze_token_sequence\n",
    "\n",
    "import numpy as np\n",
    "import pandas as pd\n",
    "import matplotlib.pyplot as plt\n",
    "\n",
    "import torch\n",
    "from transformers import GPT2Config, GPT2Tokenizer, GPT2LMHeadModel, DataCollatorForLanguageModeling, TrainingArguments, Trainer\n"
   ]
  },
  {
   "cell_type": "markdown",
   "id": "f1521cdc-0c06-404a-96f8-42b9555a6047",
   "metadata": {
    "tags": []
   },
   "source": [
    "# Tokeinzer"
   ]
  },
  {
   "cell_type": "code",
   "execution_count": 2,
   "id": "0965cee9-aa71-4575-bf8f-caf7a7966c81",
   "metadata": {},
   "outputs": [
    {
     "data": {
      "text/plain": [
       "3"
      ]
     },
     "execution_count": 2,
     "metadata": {},
     "output_type": "execute_result"
    }
   ],
   "source": [
    "tokenizer = GPT2Tokenizer(\n",
    "    vocab_file=\"vocab.json\", \n",
    "    merges_file=\"merges.txt\")\n",
    "\n",
    "tokenizer.add_special_tokens({'pad_token': 'PAD', 'bos_token': 'BOS', 'eos_token': 'EOS',})"
   ]
  },
  {
   "cell_type": "markdown",
   "id": "bf250d04-6959-453a-b327-c63ae5a81bb2",
   "metadata": {},
   "source": [
    "## Load model"
   ]
  },
  {
   "cell_type": "code",
   "execution_count": 3,
   "id": "f6f1d12d-1680-42ae-aa7a-b5571d22f0fb",
   "metadata": {},
   "outputs": [],
   "source": [
    "model = GPT2LMHeadModel.from_pretrained(f\"out/model_1/end_version\")"
   ]
  },
  {
   "cell_type": "code",
   "execution_count": 4,
   "id": "da135e05-20e9-49a5-969b-a9ed8c325964",
   "metadata": {},
   "outputs": [
    {
     "data": {
      "text/plain": [
       "tensor([[0]])"
      ]
     },
     "execution_count": 4,
     "metadata": {},
     "output_type": "execute_result"
    }
   ],
   "source": [
    "inputs = tokenizer.encode(\"Bar_None\".split(\" \"), return_tensors=\"pt\")\n",
    "inputs = inputs.to(\"cpu\")\n",
    "inputs"
   ]
  },
  {
   "cell_type": "code",
   "execution_count": 5,
   "id": "7052ca8a-5e36-4092-8134-5c09313a23ca",
   "metadata": {},
   "outputs": [
    {
     "name": "stderr",
     "output_type": "stream",
     "text": [
      "The attention mask and the pad token id were not set. As a consequence, you may observe unexpected behavior. Please pass your input's `attention_mask` to obtain reliable results.\n",
      "Setting `pad_token_id` to `eos_token_id`:122 for open-end generation.\n"
     ]
    },
    {
     "data": {
      "text/plain": [
       "tensor([[  0, 103, 118,  10,  38, 106,  10,  44, 101, 107, 118,  10,  44, 101,\n",
       "         110,  12,  44, 101, 111, 118]])"
      ]
     },
     "execution_count": 5,
     "metadata": {},
     "output_type": "execute_result"
    }
   ],
   "source": [
    "outputs = model.generate(inputs, max_length=20, temperature=0.8)\n",
    "outputs"
   ]
  },
  {
   "cell_type": "code",
   "execution_count": 6,
   "id": "46c7908d-37c8-4732-8b46-c8d2497adf1a",
   "metadata": {},
   "outputs": [
    {
     "name": "stderr",
     "output_type": "stream",
     "text": [
      "The attention mask and the pad token id were not set. As a consequence, you may observe unexpected behavior. Please pass your input's `attention_mask` to obtain reliable results.\n",
      "Setting `pad_token_id` to `eos_token_id`:122 for open-end generation.\n"
     ]
    },
    {
     "data": {
      "text/plain": [
       "tensor([[  0, 104, 119,   8,  38, 106,  13,  44, 101, 107, 118,  12,  38, 110,\n",
       "          13,  44, 101, 111, 118,  15,  44, 101, 112, 119,  15,  46,   0, 104,\n",
       "         119,  12,  38, 106,  13,  38, 106,  12,  38, 106,  12,  38, 106,  12,\n",
       "          38, 106,  13,  38, 106,  12,  38, 106,  12,  38, 106,  13,  38, 106,\n",
       "          13,  38, 106,  13,  38, 106,  13,  38, 106,  13,  38, 106,  13,  38,\n",
       "         106,  13,  38, 106,  12,  38, 106,  13,  38, 106,  12,  38, 106,  13,\n",
       "          38, 106,  13,  38, 106,  13,  38, 106,  12,  44, 101, 107, 118,  12,\n",
       "          38, 106],\n",
       "        [  0, 107,  13,  38, 109,  13,  40, 111,  13,  38, 112,  13,  38, 114,\n",
       "           8,  44,   0, 103,   8,  38, 104,  15,  40, 107,  17,  38, 108,  13,\n",
       "          68, 101,   0, 107,  13,  38, 111,  13,  38, 111,  13,  38, 112,  10,\n",
       "          38, 111,  13,  38, 110,  20,  38, 112,  12,  38, 112,  12,  38, 112,\n",
       "          12,  38, 112, 119,  10,  38, 112, 119,  13,  38, 101,   0, 103,  13,\n",
       "          38, 101,   0, 103,  13,  38, 110,   8,  38, 101,   0, 103,  13,  38,\n",
       "         111,   8,  38, 101,   0, 103,  17,  38, 101,   0, 103,  13,  38, 111,\n",
       "           8,  38],\n",
       "        [  0, 107,  17,  44, 101, 108, 119,  20,  44, 101, 111,  20,  52,   0,\n",
       "         103,  20,  44, 101, 104, 119,  13,  44, 101, 107,  13,  44, 101, 108,\n",
       "         119,  20,  42, 111,  15,  44, 101, 111,  13,  44, 101, 111,  15,  38,\n",
       "         111,  15,  38, 111,  15,  38, 111,  15,  38, 111,  15,  40, 111,  13,\n",
       "          44, 101, 111,  15,  76, 101, 112, 119,  13,  52, 101,   0, 103,  20,\n",
       "          38, 111,  15,  38, 111,  13,  56,   0, 103,  20,  42, 115,  13,  44,\n",
       "         101, 111,  15,  40, 112, 119,  13,  44, 101, 112, 119,  13,  44, 101,\n",
       "         115,  20]])"
      ]
     },
     "execution_count": 6,
     "metadata": {},
     "output_type": "execute_result"
    }
   ],
   "source": [
    "output = model.generate(\n",
    "    input_ids=inputs,\n",
    "    max_length=100,  # maximum length of generated text\n",
    "    do_sample=True,  # enable random sampling\n",
    "    num_return_sequences=3  # number of generated sequences\n",
    ")\n",
    "output"
   ]
  },
  {
   "cell_type": "code",
   "execution_count": null,
   "id": "2cef9b74-3a4d-48b9-a737-523e6113e867",
   "metadata": {},
   "outputs": [],
   "source": [
    "inputs = tokenizer.encode(\"Bar_None\".split(\" \"), return_tensors=\"pt\")\n",
    "inputs = inputs.to(device)"
   ]
  },
  {
   "cell_type": "code",
   "execution_count": 7,
   "id": "148d1a05-53d9-409f-a058-1bce9e92b55b",
   "metadata": {},
   "outputs": [
    {
     "data": {
      "text/html": [
       "<div>\n",
       "<style scoped>\n",
       "    .dataframe tbody tr th:only-of-type {\n",
       "        vertical-align: middle;\n",
       "    }\n",
       "\n",
       "    .dataframe tbody tr th {\n",
       "        vertical-align: top;\n",
       "    }\n",
       "\n",
       "    .dataframe thead th {\n",
       "        text-align: right;\n",
       "    }\n",
       "</style>\n",
       "<table border=\"1\" class=\"dataframe\">\n",
       "  <thead>\n",
       "    <tr style=\"text-align: right;\">\n",
       "      <th></th>\n",
       "      <th>0</th>\n",
       "      <th>1</th>\n",
       "      <th>2</th>\n",
       "    </tr>\n",
       "  </thead>\n",
       "  <tbody>\n",
       "    <tr>\n",
       "      <th>start</th>\n",
       "      <td>1</td>\n",
       "      <td>1</td>\n",
       "      <td>1</td>\n",
       "    </tr>\n",
       "    <tr>\n",
       "      <th>start-pos</th>\n",
       "      <td>1</td>\n",
       "      <td>0</td>\n",
       "      <td>0</td>\n",
       "    </tr>\n",
       "    <tr>\n",
       "      <th>start-pos-ptriole</th>\n",
       "      <td>0</td>\n",
       "      <td>0</td>\n",
       "      <td>0</td>\n",
       "    </tr>\n",
       "    <tr>\n",
       "      <th>start-pos-pitch</th>\n",
       "      <td>0</td>\n",
       "      <td>0</td>\n",
       "      <td>1</td>\n",
       "    </tr>\n",
       "    <tr>\n",
       "      <th>start-pos-ptriole-pitch</th>\n",
       "      <td>0</td>\n",
       "      <td>0</td>\n",
       "      <td>0</td>\n",
       "    </tr>\n",
       "    <tr>\n",
       "      <th>start-pos-pitch-duration</th>\n",
       "      <td>20</td>\n",
       "      <td>21</td>\n",
       "      <td>11</td>\n",
       "    </tr>\n",
       "    <tr>\n",
       "      <th>start-pos-pitch-duration-dtriole</th>\n",
       "      <td>3</td>\n",
       "      <td>5</td>\n",
       "      <td>8</td>\n",
       "    </tr>\n",
       "    <tr>\n",
       "      <th>start-pos-ptriole-pitch-duration</th>\n",
       "      <td>5</td>\n",
       "      <td>1</td>\n",
       "      <td>1</td>\n",
       "    </tr>\n",
       "    <tr>\n",
       "      <th>start-pos-ptriole-pitch-duration-dtriole</th>\n",
       "      <td>1</td>\n",
       "      <td>1</td>\n",
       "      <td>5</td>\n",
       "    </tr>\n",
       "  </tbody>\n",
       "</table>\n",
       "</div>"
      ],
      "text/plain": [
       "                                           0   1   2\n",
       "start                                      1   1   1\n",
       "start-pos                                  1   0   0\n",
       "start-pos-ptriole                          0   0   0\n",
       "start-pos-pitch                            0   0   1\n",
       "start-pos-ptriole-pitch                    0   0   0\n",
       "start-pos-pitch-duration                  20  21  11\n",
       "start-pos-pitch-duration-dtriole           3   5   8\n",
       "start-pos-ptriole-pitch-duration           5   1   1\n",
       "start-pos-ptriole-pitch-duration-dtriole   1   1   5"
      ]
     },
     "execution_count": 7,
     "metadata": {},
     "output_type": "execute_result"
    }
   ],
   "source": [
    "dic = {}\n",
    "for idx, res in enumerate(output):\n",
    "    an = analyze_token_sequence(res)\n",
    "    dic[idx] = an\n",
    "\n",
    "pd.DataFrame(dic)"
   ]
  },
  {
   "cell_type": "code",
   "execution_count": 8,
   "id": "53901a00-387e-4705-ab9d-3a46cb6f8541",
   "metadata": {},
   "outputs": [
    {
     "data": {
      "text/plain": [
       "[0,\n",
       " 103,\n",
       " 118,\n",
       " 10,\n",
       " 38,\n",
       " 106,\n",
       " 10,\n",
       " 44,\n",
       " 101,\n",
       " 107,\n",
       " 118,\n",
       " 10,\n",
       " 44,\n",
       " 101,\n",
       " 110,\n",
       " 12,\n",
       " 44,\n",
       " 101,\n",
       " 111,\n",
       " 118]"
      ]
     },
     "execution_count": 8,
     "metadata": {},
     "output_type": "execute_result"
    }
   ],
   "source": [
    "tokens = [tensor.item() for tensor in list(outputs[0])]\n",
    "tokens"
   ]
  },
  {
   "cell_type": "code",
   "execution_count": null,
   "id": "dd06a7d7-2e4c-4b51-b037-2dbdc310c979",
   "metadata": {},
   "outputs": [],
   "source": []
  }
 ],
 "metadata": {
  "kernelspec": {
   "display_name": "Python [pipenv: PyEnv]",
   "language": "python",
   "name": "pyenv"
  },
  "language_info": {
   "codemirror_mode": {
    "name": "ipython",
    "version": 3
   },
   "file_extension": ".py",
   "mimetype": "text/x-python",
   "name": "python",
   "nbconvert_exporter": "python",
   "pygments_lexer": "ipython3",
   "version": "3.10.6"
  }
 },
 "nbformat": 4,
 "nbformat_minor": 5
}
