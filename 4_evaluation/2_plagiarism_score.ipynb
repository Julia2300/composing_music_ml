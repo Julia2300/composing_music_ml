{
 "cells": [
  {
   "cell_type": "code",
   "execution_count": 1,
   "metadata": {},
   "outputs": [],
   "source": [
    "import json\n",
    "import pandas as pd\n",
    "import numpy as np\n",
    "\n",
    "from distance_functions import get_overlap\n",
    "\n",
    "PATH_DATA = \"../0_data/6_word_data\"\n",
    "PATH_TOKENS = \"../0_data/8_predictions/tokens\""
   ]
  },
  {
   "cell_type": "code",
   "execution_count": 2,
   "metadata": {},
   "outputs": [
    {
     "name": "stdout",
     "output_type": "stream",
     "text": [
      "a1\n"
     ]
    },
    {
     "name": "stderr",
     "output_type": "stream",
     "text": [
      "100%|██████████| 400/400 [01:50<00:00,  3.62it/s]\n",
      "100%|██████████| 100/100 [00:46<00:00,  2.16it/s]\n"
     ]
    },
    {
     "name": "stdout",
     "output_type": "stream",
     "text": [
      "a2\n"
     ]
    },
    {
     "name": "stderr",
     "output_type": "stream",
     "text": [
      "100%|██████████| 400/400 [01:51<00:00,  3.59it/s]\n",
      "100%|██████████| 100/100 [00:41<00:00,  2.42it/s]\n"
     ]
    },
    {
     "name": "stdout",
     "output_type": "stream",
     "text": [
      "a3\n"
     ]
    },
    {
     "name": "stderr",
     "output_type": "stream",
     "text": [
      "100%|██████████| 400/400 [01:48<00:00,  3.69it/s]\n",
      "100%|██████████| 100/100 [00:46<00:00,  2.16it/s]\n"
     ]
    },
    {
     "name": "stdout",
     "output_type": "stream",
     "text": [
      "b\n"
     ]
    },
    {
     "name": "stderr",
     "output_type": "stream",
     "text": [
      "100%|██████████| 400/400 [01:34<00:00,  4.23it/s]\n",
      "100%|██████████| 100/100 [00:41<00:00,  2.43it/s]\n"
     ]
    },
    {
     "name": "stdout",
     "output_type": "stream",
     "text": [
      "c\n"
     ]
    },
    {
     "name": "stderr",
     "output_type": "stream",
     "text": [
      "100%|██████████| 400/400 [01:37<00:00,  4.10it/s]\n",
      "100%|██████████| 100/100 [00:42<00:00,  2.37it/s]\n"
     ]
    },
    {
     "name": "stdout",
     "output_type": "stream",
     "text": [
      "d\n"
     ]
    },
    {
     "name": "stderr",
     "output_type": "stream",
     "text": [
      "100%|██████████| 400/400 [01:29<00:00,  4.47it/s]\n",
      "100%|██████████| 100/100 [00:37<00:00,  2.67it/s]\n"
     ]
    }
   ],
   "source": [
    "plagiarism_analysis = {}\n",
    "\n",
    "for model in [\"a1\", \"a2\", \"a3\", \"b\", \"c\", \"d\"]:\n",
    "\n",
    "    print(model)\n",
    "\n",
    "    with open(f\"{PATH_DATA}/{model}_token_data.json\", \"r\") as fp:\n",
    "        tokens_original = json.load(fp)\n",
    "    token_data_original = [tokens_original[key] for key in tokens_original.keys()]\n",
    "    with open(f\"{PATH_TOKENS}/{model}.json\", \"r\") as fp:\n",
    "        tokens_generated = json.load(fp)\n",
    "    token_data_generated = tokens_generated[\"data\"]\n",
    "\n",
    "    within_overlap_count, within_max_overlap = get_overlap(token_data_original[:400], token_data_original[400:])\n",
    "    plagiarism_analysis[f\"{model} within original\"] = {\n",
    "        \"bar_overlap_count\": within_overlap_count,\n",
    "        \"bar_max_overlaps\": within_max_overlap,\n",
    "        \"bar_overlaps_total\": np.sum(within_overlap_count),\n",
    "        \"bar_max_overlap_value\": np.max(within_max_overlap),\n",
    "    }\n",
    "\n",
    "    overlap_count, max_overlap = get_overlap(token_data_generated, token_data_original)\n",
    "    plagiarism_analysis[model] = {\n",
    "        \"bar_overlap_count\": overlap_count,\n",
    "        \"bar_max_overlaps\": max_overlap,\n",
    "        \"bar_overlaps_total\": np.sum(overlap_count),\n",
    "        \"bar_max_overlap_value\": np.max(max_overlap),\n",
    "    }"
   ]
  },
  {
   "cell_type": "code",
   "execution_count": 3,
   "metadata": {},
   "outputs": [
    {
     "data": {
      "text/html": [
       "<div>\n",
       "<style scoped>\n",
       "    .dataframe tbody tr th:only-of-type {\n",
       "        vertical-align: middle;\n",
       "    }\n",
       "\n",
       "    .dataframe tbody tr th {\n",
       "        vertical-align: top;\n",
       "    }\n",
       "\n",
       "    .dataframe thead th {\n",
       "        text-align: right;\n",
       "    }\n",
       "</style>\n",
       "<table border=\"1\" class=\"dataframe\">\n",
       "  <thead>\n",
       "    <tr style=\"text-align: right;\">\n",
       "      <th></th>\n",
       "      <th>a1 within original</th>\n",
       "      <th>a1</th>\n",
       "      <th>a2 within original</th>\n",
       "      <th>a2</th>\n",
       "      <th>a3 within original</th>\n",
       "      <th>a3</th>\n",
       "      <th>b within original</th>\n",
       "      <th>b</th>\n",
       "      <th>c within original</th>\n",
       "      <th>c</th>\n",
       "      <th>d within original</th>\n",
       "      <th>d</th>\n",
       "    </tr>\n",
       "  </thead>\n",
       "  <tbody>\n",
       "    <tr>\n",
       "      <th>bar_overlap_count</th>\n",
       "      <td>[0, 0, 0, 0, 0, 0, 0, 0, 0, 0, 0, 0, 0, 0, 0, ...</td>\n",
       "      <td>[0, 0, 0, 0, 0, 0, 0, 0, 0, 0, 0, 0, 0, 0, 0, ...</td>\n",
       "      <td>[0, 0, 0, 0, 0, 0, 0, 0, 0, 0, 0, 0, 0, 0, 0, ...</td>\n",
       "      <td>[0, 0, 0, 0, 0, 0, 0, 0, 0, 0, 0, 0, 0, 0, 0, ...</td>\n",
       "      <td>[0, 0, 0, 0, 0, 0, 0, 0, 0, 0, 0, 0, 0, 0, 0, ...</td>\n",
       "      <td>[0, 0, 0, 0, 0, 0, 0, 0, 0, 0, 0, 0, 0, 0, 0, ...</td>\n",
       "      <td>[0, 0, 0, 0, 0, 0, 0, 0, 0, 0, 0, 0, 0, 0, 0, ...</td>\n",
       "      <td>[0, 0, 0, 0, 0, 0, 0, 0, 0, 0, 0, 0, 0, 0, 0, ...</td>\n",
       "      <td>[0, 0, 0, 0, 0, 0, 0, 0, 0, 0, 0, 0, 0, 0, 0, ...</td>\n",
       "      <td>[0, 0, 0, 0, 0, 0, 0, 0, 0, 0, 0, 0, 0, 0, 0, ...</td>\n",
       "      <td>[0, 0, 0, 0, 0, 0, 0, 0, 0, 0, 0, 0, 0, 0, 0, ...</td>\n",
       "      <td>[0, 0, 0, 0, 0, 0, 0, 0, 0, 0, 0, 0, 0, 0, 0, ...</td>\n",
       "    </tr>\n",
       "    <tr>\n",
       "      <th>bar_max_overlaps</th>\n",
       "      <td>[0, 0, 0, 0, 0, 0, 0, 0, 0, 0, 0, 0, 0, 0, 0, ...</td>\n",
       "      <td>[0, 0, 0, 0, 0, 0, 0, 0, 0, 0, 0, 0, 0, 0, 0, ...</td>\n",
       "      <td>[0, 0, 0, 0, 0, 0, 0, 0, 0, 0, 0, 0, 0, 0, 0, ...</td>\n",
       "      <td>[0, 0, 0, 0, 0, 0, 0, 0, 0, 0, 0, 0, 0, 0, 0, ...</td>\n",
       "      <td>[0, 0, 0, 0, 0, 0, 0, 0, 0, 0, 0, 0, 0, 0, 0, ...</td>\n",
       "      <td>[0, 0, 0, 0, 0, 0, 0, 0, 0, 0, 0, 0, 0, 0, 0, ...</td>\n",
       "      <td>[0, 0, 0, 0, 0, 0, 0, 0, 0, 0, 0, 0, 0, 0, 0, ...</td>\n",
       "      <td>[0, 0, 0, 0, 0, 0, 0, 0, 0, 0, 0, 0, 0, 0, 0, ...</td>\n",
       "      <td>[0, 0, 0, 0, 0, 0, 0, 0, 0, 0, 0, 0, 0, 0, 0, ...</td>\n",
       "      <td>[0, 0, 0, 0, 0, 0, 0, 0, 0, 0, 0, 0, 0, 0, 0, ...</td>\n",
       "      <td>[0, 0, 0, 0, 0, 0, 0, 0, 0, 0, 0, 0, 0, 0, 0, ...</td>\n",
       "      <td>[0, 0, 0, 0, 0, 0, 0, 0, 0, 0, 0, 0, 0, 0, 0, ...</td>\n",
       "    </tr>\n",
       "    <tr>\n",
       "      <th>bar_overlaps_total</th>\n",
       "      <td>442</td>\n",
       "      <td>325</td>\n",
       "      <td>259</td>\n",
       "      <td>190</td>\n",
       "      <td>775</td>\n",
       "      <td>669</td>\n",
       "      <td>769</td>\n",
       "      <td>656</td>\n",
       "      <td>442</td>\n",
       "      <td>493</td>\n",
       "      <td>1347</td>\n",
       "      <td>1184</td>\n",
       "    </tr>\n",
       "    <tr>\n",
       "      <th>bar_max_overlap_value</th>\n",
       "      <td>1</td>\n",
       "      <td>1</td>\n",
       "      <td>1</td>\n",
       "      <td>1</td>\n",
       "      <td>2</td>\n",
       "      <td>1</td>\n",
       "      <td>1</td>\n",
       "      <td>1</td>\n",
       "      <td>1</td>\n",
       "      <td>1</td>\n",
       "      <td>2</td>\n",
       "      <td>1</td>\n",
       "    </tr>\n",
       "  </tbody>\n",
       "</table>\n",
       "</div>"
      ],
      "text/plain": [
       "                                                      a1 within original  \\\n",
       "bar_overlap_count      [0, 0, 0, 0, 0, 0, 0, 0, 0, 0, 0, 0, 0, 0, 0, ...   \n",
       "bar_max_overlaps       [0, 0, 0, 0, 0, 0, 0, 0, 0, 0, 0, 0, 0, 0, 0, ...   \n",
       "bar_overlaps_total                                                   442   \n",
       "bar_max_overlap_value                                                  1   \n",
       "\n",
       "                                                                      a1  \\\n",
       "bar_overlap_count      [0, 0, 0, 0, 0, 0, 0, 0, 0, 0, 0, 0, 0, 0, 0, ...   \n",
       "bar_max_overlaps       [0, 0, 0, 0, 0, 0, 0, 0, 0, 0, 0, 0, 0, 0, 0, ...   \n",
       "bar_overlaps_total                                                   325   \n",
       "bar_max_overlap_value                                                  1   \n",
       "\n",
       "                                                      a2 within original  \\\n",
       "bar_overlap_count      [0, 0, 0, 0, 0, 0, 0, 0, 0, 0, 0, 0, 0, 0, 0, ...   \n",
       "bar_max_overlaps       [0, 0, 0, 0, 0, 0, 0, 0, 0, 0, 0, 0, 0, 0, 0, ...   \n",
       "bar_overlaps_total                                                   259   \n",
       "bar_max_overlap_value                                                  1   \n",
       "\n",
       "                                                                      a2  \\\n",
       "bar_overlap_count      [0, 0, 0, 0, 0, 0, 0, 0, 0, 0, 0, 0, 0, 0, 0, ...   \n",
       "bar_max_overlaps       [0, 0, 0, 0, 0, 0, 0, 0, 0, 0, 0, 0, 0, 0, 0, ...   \n",
       "bar_overlaps_total                                                   190   \n",
       "bar_max_overlap_value                                                  1   \n",
       "\n",
       "                                                      a3 within original  \\\n",
       "bar_overlap_count      [0, 0, 0, 0, 0, 0, 0, 0, 0, 0, 0, 0, 0, 0, 0, ...   \n",
       "bar_max_overlaps       [0, 0, 0, 0, 0, 0, 0, 0, 0, 0, 0, 0, 0, 0, 0, ...   \n",
       "bar_overlaps_total                                                   775   \n",
       "bar_max_overlap_value                                                  2   \n",
       "\n",
       "                                                                      a3  \\\n",
       "bar_overlap_count      [0, 0, 0, 0, 0, 0, 0, 0, 0, 0, 0, 0, 0, 0, 0, ...   \n",
       "bar_max_overlaps       [0, 0, 0, 0, 0, 0, 0, 0, 0, 0, 0, 0, 0, 0, 0, ...   \n",
       "bar_overlaps_total                                                   669   \n",
       "bar_max_overlap_value                                                  1   \n",
       "\n",
       "                                                       b within original  \\\n",
       "bar_overlap_count      [0, 0, 0, 0, 0, 0, 0, 0, 0, 0, 0, 0, 0, 0, 0, ...   \n",
       "bar_max_overlaps       [0, 0, 0, 0, 0, 0, 0, 0, 0, 0, 0, 0, 0, 0, 0, ...   \n",
       "bar_overlaps_total                                                   769   \n",
       "bar_max_overlap_value                                                  1   \n",
       "\n",
       "                                                                       b  \\\n",
       "bar_overlap_count      [0, 0, 0, 0, 0, 0, 0, 0, 0, 0, 0, 0, 0, 0, 0, ...   \n",
       "bar_max_overlaps       [0, 0, 0, 0, 0, 0, 0, 0, 0, 0, 0, 0, 0, 0, 0, ...   \n",
       "bar_overlaps_total                                                   656   \n",
       "bar_max_overlap_value                                                  1   \n",
       "\n",
       "                                                       c within original  \\\n",
       "bar_overlap_count      [0, 0, 0, 0, 0, 0, 0, 0, 0, 0, 0, 0, 0, 0, 0, ...   \n",
       "bar_max_overlaps       [0, 0, 0, 0, 0, 0, 0, 0, 0, 0, 0, 0, 0, 0, 0, ...   \n",
       "bar_overlaps_total                                                   442   \n",
       "bar_max_overlap_value                                                  1   \n",
       "\n",
       "                                                                       c  \\\n",
       "bar_overlap_count      [0, 0, 0, 0, 0, 0, 0, 0, 0, 0, 0, 0, 0, 0, 0, ...   \n",
       "bar_max_overlaps       [0, 0, 0, 0, 0, 0, 0, 0, 0, 0, 0, 0, 0, 0, 0, ...   \n",
       "bar_overlaps_total                                                   493   \n",
       "bar_max_overlap_value                                                  1   \n",
       "\n",
       "                                                       d within original  \\\n",
       "bar_overlap_count      [0, 0, 0, 0, 0, 0, 0, 0, 0, 0, 0, 0, 0, 0, 0, ...   \n",
       "bar_max_overlaps       [0, 0, 0, 0, 0, 0, 0, 0, 0, 0, 0, 0, 0, 0, 0, ...   \n",
       "bar_overlaps_total                                                  1347   \n",
       "bar_max_overlap_value                                                  2   \n",
       "\n",
       "                                                                       d  \n",
       "bar_overlap_count      [0, 0, 0, 0, 0, 0, 0, 0, 0, 0, 0, 0, 0, 0, 0, ...  \n",
       "bar_max_overlaps       [0, 0, 0, 0, 0, 0, 0, 0, 0, 0, 0, 0, 0, 0, 0, ...  \n",
       "bar_overlaps_total                                                  1184  \n",
       "bar_max_overlap_value                                                  1  "
      ]
     },
     "execution_count": 3,
     "metadata": {},
     "output_type": "execute_result"
    }
   ],
   "source": [
    "pd.DataFrame(plagiarism_analysis)"
   ]
  }
 ],
 "metadata": {
  "kernelspec": {
   "display_name": "MusicAI",
   "language": "python",
   "name": "python3"
  },
  "language_info": {
   "codemirror_mode": {
    "name": "ipython",
    "version": 3
   },
   "file_extension": ".py",
   "mimetype": "text/x-python",
   "name": "python",
   "nbconvert_exporter": "python",
   "pygments_lexer": "ipython3",
   "version": "3.8.0"
  },
  "orig_nbformat": 4
 },
 "nbformat": 4,
 "nbformat_minor": 2
}
