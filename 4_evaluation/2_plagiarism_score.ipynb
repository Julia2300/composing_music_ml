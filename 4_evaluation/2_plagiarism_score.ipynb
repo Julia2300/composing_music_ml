{
 "cells": [
  {
   "cell_type": "code",
   "execution_count": 1,
   "metadata": {},
   "outputs": [],
   "source": [
    "import json\n",
    "import pandas as pd\n",
    "import numpy as np\n",
    "\n",
    "from distance_functions import get_overlap\n",
    "from evaluation_metrics import get_tokens_bar, get_token_flags\n",
    "\n",
    "PATH_DATA = \"../0_data/6_word_data\"\n",
    "PATH_TOKENS = \"../0_data/8_predictions/tokens\"\n",
    "PATH_EVAL = \"../0_data/9_evaluation\""
   ]
  },
  {
   "cell_type": "code",
   "execution_count": 2,
   "metadata": {},
   "outputs": [],
   "source": [
    "vocab_configs = {\n",
    "    \"a1\" : {\n",
    "        \"pitch_range\": 128,\n",
    "        \"duration_steps\": 64,\n",
    "        \"triole_tokens\": False,\n",
    "        \"key\": \"all\",\n",
    "    },\n",
    "    \"a2\" : {\n",
    "        \"pitch_range\": 128,\n",
    "        \"duration_steps\": 64,\n",
    "        \"triole_tokens\": True,\n",
    "        \"key\": \"all\",\n",
    "    },\n",
    "    \"a3\" : {\n",
    "        \"pitch_range\": 128,\n",
    "        \"duration_steps\": 32,\n",
    "        \"triole_tokens\": False,\n",
    "        \"key\": \"all\",\n",
    "    },\n",
    "    \"b\" : {\n",
    "        \"pitch_range\": 128,\n",
    "        \"duration_steps\": 64,\n",
    "        \"triole_tokens\": False,\n",
    "        \"key\": \"C\",\n",
    "    },\n",
    "    \"c\" : {\n",
    "        \"pitch_range\": 36,\n",
    "        \"duration_steps\": 64,\n",
    "        \"triole_tokens\": False,\n",
    "        \"key\": \"all\",\n",
    "    },\n",
    "    \"d\" : {\n",
    "        \"pitch_range\": 36,\n",
    "        \"duration_steps\": 32,\n",
    "        \"triole_tokens\": True,\n",
    "        \"key\": \"C\",\n",
    "    }\n",
    "}"
   ]
  },
  {
   "cell_type": "code",
   "execution_count": 3,
   "metadata": {},
   "outputs": [
    {
     "name": "stdout",
     "output_type": "stream",
     "text": [
      "a1\n"
     ]
    },
    {
     "name": "stderr",
     "output_type": "stream",
     "text": [
      "100%|██████████| 400/400 [01:23<00:00,  4.78it/s]\n",
      "100%|██████████| 400/400 [00:59<00:00,  6.69it/s]\n",
      "100%|██████████| 400/400 [00:58<00:00,  6.81it/s]\n",
      "100%|██████████| 100/100 [00:34<00:00,  2.91it/s]\n",
      "100%|██████████| 100/100 [00:24<00:00,  4.10it/s]\n",
      "100%|██████████| 100/100 [00:23<00:00,  4.22it/s]\n"
     ]
    },
    {
     "name": "stdout",
     "output_type": "stream",
     "text": [
      "a2\n"
     ]
    },
    {
     "name": "stderr",
     "output_type": "stream",
     "text": [
      "100%|██████████| 400/400 [01:26<00:00,  4.65it/s]\n",
      "100%|██████████| 400/400 [01:00<00:00,  6.62it/s]\n",
      "100%|██████████| 400/400 [00:58<00:00,  6.89it/s]\n",
      "100%|██████████| 100/100 [00:32<00:00,  3.12it/s]\n",
      "100%|██████████| 100/100 [00:21<00:00,  4.64it/s]\n",
      "100%|██████████| 100/100 [00:20<00:00,  4.90it/s]\n"
     ]
    },
    {
     "name": "stdout",
     "output_type": "stream",
     "text": [
      "a3\n"
     ]
    },
    {
     "name": "stderr",
     "output_type": "stream",
     "text": [
      "100%|██████████| 400/400 [01:26<00:00,  4.63it/s]\n",
      "100%|██████████| 400/400 [01:02<00:00,  6.37it/s]\n",
      "100%|██████████| 400/400 [01:01<00:00,  6.55it/s]\n",
      "100%|██████████| 100/100 [00:36<00:00,  2.71it/s]\n",
      "100%|██████████| 100/100 [00:26<00:00,  3.72it/s]\n",
      "100%|██████████| 100/100 [00:25<00:00,  3.86it/s]\n"
     ]
    },
    {
     "name": "stdout",
     "output_type": "stream",
     "text": [
      "b\n"
     ]
    },
    {
     "name": "stderr",
     "output_type": "stream",
     "text": [
      "100%|██████████| 400/400 [01:14<00:00,  5.38it/s]\n",
      "100%|██████████| 400/400 [00:55<00:00,  7.26it/s]\n",
      "100%|██████████| 400/400 [00:52<00:00,  7.64it/s]\n",
      "100%|██████████| 100/100 [00:31<00:00,  3.13it/s]\n",
      "100%|██████████| 100/100 [00:23<00:00,  4.24it/s]\n",
      "100%|██████████| 100/100 [00:21<00:00,  4.55it/s]\n"
     ]
    },
    {
     "name": "stdout",
     "output_type": "stream",
     "text": [
      "c\n"
     ]
    },
    {
     "name": "stderr",
     "output_type": "stream",
     "text": [
      "100%|██████████| 400/400 [01:14<00:00,  5.37it/s]\n",
      "100%|██████████| 400/400 [00:53<00:00,  7.52it/s]\n",
      "100%|██████████| 400/400 [00:52<00:00,  7.55it/s]\n",
      "100%|██████████| 100/100 [00:32<00:00,  3.11it/s]\n",
      "100%|██████████| 100/100 [00:23<00:00,  4.32it/s]\n",
      "100%|██████████| 100/100 [00:22<00:00,  4.47it/s]\n"
     ]
    },
    {
     "name": "stdout",
     "output_type": "stream",
     "text": [
      "d\n"
     ]
    },
    {
     "name": "stderr",
     "output_type": "stream",
     "text": [
      "100%|██████████| 400/400 [01:08<00:00,  5.84it/s]\n",
      "100%|██████████| 400/400 [00:52<00:00,  7.61it/s]\n",
      "100%|██████████| 400/400 [00:46<00:00,  8.65it/s]\n",
      "100%|██████████| 100/100 [00:29<00:00,  3.43it/s]\n",
      "100%|██████████| 100/100 [00:22<00:00,  4.40it/s]\n",
      "100%|██████████| 100/100 [00:19<00:00,  5.25it/s]\n"
     ]
    }
   ],
   "source": [
    "plagiarism_analysis = {}\n",
    "\n",
    "for model in [\"a1\", \"a2\", \"a3\", \"b\", \"c\", \"d\"]:\n",
    "\n",
    "    print(model)\n",
    "\n",
    "    with open(f\"{PATH_DATA}/{model}_token_data.json\", \"r\") as fp:\n",
    "        tokens_original = json.load(fp)\n",
    "    token_data_original = [tokens_original[key] for key in tokens_original.keys()]\n",
    "    with open(f\"{PATH_TOKENS}/{model}.json\", \"r\") as fp:\n",
    "        tokens_generated = json.load(fp)\n",
    "    token_data_generated = tokens_generated[\"data\"]\n",
    "\n",
    "    token_flags = get_token_flags(vocab_configs[model])\n",
    "    pitch_start = token_flags[\"start_pitch_token\"]\n",
    "    pitch_end = token_flags[\"end_pitch_token\"]\n",
    "    rythm_start = token_flags[\"start_duration_token\"]\n",
    "    rythm_end = token_flags[\"position_triole_2\"] if token_flags[\"position_triole_2\"] > 0 else token_flags[\"end_position_token\"]\n",
    "\n",
    "    token_data_original_pitches = [get_tokens_bar(song, 0, pitch_start, pitch_end) for song in token_data_original]\n",
    "    token_data_original_rythm = [get_tokens_bar(song, 0, rythm_start, rythm_end) for song in token_data_original]\n",
    "    token_data_generated_pitches = [get_tokens_bar(song, 0, pitch_start, pitch_end) for song in token_data_generated]\n",
    "    token_data_generated_rythm = [get_tokens_bar(song, 0, rythm_start, rythm_end) for song in token_data_generated]\n",
    "\n",
    "    within_overlap_count, within_max_overlap = get_overlap(token_data_original[:400], token_data_original[400:])\n",
    "    within_overlap_pitch, within_max_overlap_pitch = get_overlap(token_data_original_pitches[:400], token_data_original_pitches[400:], bars=False)\n",
    "    within_overlap_rythm, within_max_overlap_rythm = get_overlap(token_data_original_rythm[:400], token_data_original_rythm[400:],  bars=False)\n",
    "    plagiarism_analysis[f\"{model} within original\"] = {\n",
    "        \"bar_overlaps_total\": np.sum(within_overlap_count),\n",
    "        \"bar_max_overlap_value\": np.max(within_max_overlap),\n",
    "        \"pitch_overlaps_total\": np.sum(within_overlap_pitch),\n",
    "        \"pitch_max_overlap_value\": np.max(within_max_overlap_pitch),\n",
    "        \"rythm_overlaps_total\": np.sum(within_overlap_rythm),\n",
    "        \"rythm_max_overlap_value\": np.max(within_max_overlap_rythm),\n",
    "    }\n",
    "\n",
    "    overlap_count, max_overlap = get_overlap(token_data_generated, token_data_original)\n",
    "    overlap_pitch, max_overlap_pitch = get_overlap(token_data_generated_pitches, token_data_original_pitches, bars=False)\n",
    "    overlap_rythm, max_overlap_rythm = get_overlap(token_data_generated_rythm, token_data_original_rythm,  bars=False)\n",
    "    plagiarism_analysis[f\"{model}\"] = {\n",
    "        \"bar_overlaps_total\": np.sum(overlap_count),\n",
    "        \"bar_max_overlap_value\": np.max(max_overlap),\n",
    "        \"pitch_overlaps_total\": np.sum(overlap_pitch),\n",
    "        \"pitch_max_overlap_value\": np.max(max_overlap_pitch),\n",
    "        \"rythm_overlaps_total\": np.sum(overlap_rythm),\n",
    "        \"rythm_max_overlap_value\": np.max(max_overlap_rythm),\n",
    "    }"
   ]
  },
  {
   "cell_type": "code",
   "execution_count": 4,
   "metadata": {},
   "outputs": [
    {
     "data": {
      "text/html": [
       "<div>\n",
       "<style scoped>\n",
       "    .dataframe tbody tr th:only-of-type {\n",
       "        vertical-align: middle;\n",
       "    }\n",
       "\n",
       "    .dataframe tbody tr th {\n",
       "        vertical-align: top;\n",
       "    }\n",
       "\n",
       "    .dataframe thead th {\n",
       "        text-align: right;\n",
       "    }\n",
       "</style>\n",
       "<table border=\"1\" class=\"dataframe\">\n",
       "  <thead>\n",
       "    <tr style=\"text-align: right;\">\n",
       "      <th></th>\n",
       "      <th>a1 within original</th>\n",
       "      <th>a1</th>\n",
       "      <th>a2 within original</th>\n",
       "      <th>a2</th>\n",
       "      <th>a3 within original</th>\n",
       "      <th>a3</th>\n",
       "      <th>b within original</th>\n",
       "      <th>b</th>\n",
       "      <th>c within original</th>\n",
       "      <th>c</th>\n",
       "      <th>d within original</th>\n",
       "      <th>d</th>\n",
       "    </tr>\n",
       "  </thead>\n",
       "  <tbody>\n",
       "    <tr>\n",
       "      <th>bar_overlaps_total</th>\n",
       "      <td>442</td>\n",
       "      <td>325</td>\n",
       "      <td>259</td>\n",
       "      <td>190</td>\n",
       "      <td>775</td>\n",
       "      <td>669</td>\n",
       "      <td>769</td>\n",
       "      <td>656</td>\n",
       "      <td>442</td>\n",
       "      <td>493</td>\n",
       "      <td>1347</td>\n",
       "      <td>1184</td>\n",
       "    </tr>\n",
       "    <tr>\n",
       "      <th>bar_max_overlap_value</th>\n",
       "      <td>1</td>\n",
       "      <td>1</td>\n",
       "      <td>1</td>\n",
       "      <td>1</td>\n",
       "      <td>2</td>\n",
       "      <td>1</td>\n",
       "      <td>1</td>\n",
       "      <td>1</td>\n",
       "      <td>1</td>\n",
       "      <td>1</td>\n",
       "      <td>2</td>\n",
       "      <td>1</td>\n",
       "    </tr>\n",
       "    <tr>\n",
       "      <th>pitch_overlaps_total</th>\n",
       "      <td>44926</td>\n",
       "      <td>36279</td>\n",
       "      <td>44926</td>\n",
       "      <td>32755</td>\n",
       "      <td>54958</td>\n",
       "      <td>45672</td>\n",
       "      <td>85606</td>\n",
       "      <td>62159</td>\n",
       "      <td>48402</td>\n",
       "      <td>41771</td>\n",
       "      <td>149389</td>\n",
       "      <td>117004</td>\n",
       "    </tr>\n",
       "    <tr>\n",
       "      <th>pitch_max_overlap_value</th>\n",
       "      <td>3</td>\n",
       "      <td>2</td>\n",
       "      <td>3</td>\n",
       "      <td>2</td>\n",
       "      <td>3</td>\n",
       "      <td>2</td>\n",
       "      <td>3</td>\n",
       "      <td>2</td>\n",
       "      <td>3</td>\n",
       "      <td>2</td>\n",
       "      <td>3</td>\n",
       "      <td>2</td>\n",
       "    </tr>\n",
       "    <tr>\n",
       "      <th>rythm_overlaps_total</th>\n",
       "      <td>13812</td>\n",
       "      <td>11775</td>\n",
       "      <td>9360</td>\n",
       "      <td>5813</td>\n",
       "      <td>20970</td>\n",
       "      <td>17853</td>\n",
       "      <td>12029</td>\n",
       "      <td>10950</td>\n",
       "      <td>12772</td>\n",
       "      <td>13628</td>\n",
       "      <td>10977</td>\n",
       "      <td>9875</td>\n",
       "    </tr>\n",
       "    <tr>\n",
       "      <th>rythm_max_overlap_value</th>\n",
       "      <td>3</td>\n",
       "      <td>2</td>\n",
       "      <td>3</td>\n",
       "      <td>2</td>\n",
       "      <td>4</td>\n",
       "      <td>2</td>\n",
       "      <td>3</td>\n",
       "      <td>2</td>\n",
       "      <td>3</td>\n",
       "      <td>2</td>\n",
       "      <td>2</td>\n",
       "      <td>2</td>\n",
       "    </tr>\n",
       "  </tbody>\n",
       "</table>\n",
       "</div>"
      ],
      "text/plain": [
       "                         a1 within original     a1  a2 within original     a2  \\\n",
       "bar_overlaps_total                      442    325                 259    190   \n",
       "bar_max_overlap_value                     1      1                   1      1   \n",
       "pitch_overlaps_total                  44926  36279               44926  32755   \n",
       "pitch_max_overlap_value                   3      2                   3      2   \n",
       "rythm_overlaps_total                  13812  11775                9360   5813   \n",
       "rythm_max_overlap_value                   3      2                   3      2   \n",
       "\n",
       "                         a3 within original     a3  b within original      b  \\\n",
       "bar_overlaps_total                      775    669                769    656   \n",
       "bar_max_overlap_value                     2      1                  1      1   \n",
       "pitch_overlaps_total                  54958  45672              85606  62159   \n",
       "pitch_max_overlap_value                   3      2                  3      2   \n",
       "rythm_overlaps_total                  20970  17853              12029  10950   \n",
       "rythm_max_overlap_value                   4      2                  3      2   \n",
       "\n",
       "                         c within original      c  d within original       d  \n",
       "bar_overlaps_total                     442    493               1347    1184  \n",
       "bar_max_overlap_value                    1      1                  2       1  \n",
       "pitch_overlaps_total                 48402  41771             149389  117004  \n",
       "pitch_max_overlap_value                  3      2                  3       2  \n",
       "rythm_overlaps_total                 12772  13628              10977    9875  \n",
       "rythm_max_overlap_value                  3      2                  2       2  "
      ]
     },
     "execution_count": 4,
     "metadata": {},
     "output_type": "execute_result"
    }
   ],
   "source": [
    "plagiarism_df = pd.DataFrame(plagiarism_analysis)\n",
    "plagiarism_df"
   ]
  },
  {
   "cell_type": "code",
   "execution_count": 6,
   "metadata": {},
   "outputs": [],
   "source": [
    "plagiarism_df.to_excel(f\"{PATH_EVAL}/plagiarism_analysis.xlsx\")"
   ]
  }
 ],
 "metadata": {
  "kernelspec": {
   "display_name": "MusicAI",
   "language": "python",
   "name": "python3"
  },
  "language_info": {
   "codemirror_mode": {
    "name": "ipython",
    "version": 3
   },
   "file_extension": ".py",
   "mimetype": "text/x-python",
   "name": "python",
   "nbconvert_exporter": "python",
   "pygments_lexer": "ipython3",
   "version": "3.8.0"
  },
  "orig_nbformat": 4
 },
 "nbformat": 4,
 "nbformat_minor": 2
}
