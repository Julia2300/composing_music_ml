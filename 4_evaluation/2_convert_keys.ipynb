{
 "cells": [
  {
   "cell_type": "code",
   "execution_count": null,
   "metadata": {},
   "outputs": [],
   "source": [
    "\"\"\"\n",
    "from music21 import converter, midi, key\n",
    "\n",
    "midi_score = converter.parse(f\"../0_data/4_preprocessed_sets/a)_4_4_metric_120_bpm/17_POP909-Dataset-master/111.mid\")\n",
    "music_analysis = midi_score.analyze('key')\n",
    "\n",
    "df = pd.DataFrame()\n",
    "for f in tqdm(files):\n",
    "    if f[-4:] != \".mid\":\n",
    "        continue\n",
    "    \n",
    "    music_analysis = midi_score.analyze('key')\n",
    "    row = {\n",
    "        \"name\": f,\n",
    "        \"key\": music_analysis,\n",
    "        \"confidence\": music_analysis.correlationCoefficient\n",
    "    }\n",
    "    df = df.append(row, ignore_index=True)\n",
    "df.to_csv(f\"{PATH_TRANSPOSED}/{dir}_key_analysis.csv\")\n",
    "df\"\"\""
   ]
  }
 ],
 "metadata": {
  "language_info": {
   "name": "python"
  },
  "orig_nbformat": 4
 },
 "nbformat": 4,
 "nbformat_minor": 2
}
