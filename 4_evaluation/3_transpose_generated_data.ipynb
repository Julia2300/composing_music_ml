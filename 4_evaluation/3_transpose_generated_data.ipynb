{
 "cells": [
  {
   "cell_type": "code",
   "execution_count": 1,
   "metadata": {},
   "outputs": [],
   "source": [
    "import os\n",
    "\n",
    "import pandas as pd\n",
    "from tqdm import tqdm\n",
    "from music21 import converter, midi, key\n",
    "\n",
    "from evaluation_metrics import get_file_and_dirnames\n",
    "\n",
    "import warnings\n",
    "warnings.filterwarnings('ignore')\n",
    "\n",
    "import sys\n",
    "sys.path.insert(1, '../1_preprocessing')\n",
    "from preprocessing_functions import transpose_to_Cmaj_Amin, transpose_to_octave_4_to_6\n",
    "from analysis_functions import analyse_data_folder\n",
    "\n",
    "PATH_MIDI = \"../0_data/8_predictions/midi\""
   ]
  },
  {
   "attachments": {},
   "cell_type": "markdown",
   "metadata": {},
   "source": [
    "## Analyze and Transpose Key"
   ]
  },
  {
   "cell_type": "code",
   "execution_count": 2,
   "metadata": {},
   "outputs": [
    {
     "name": "stderr",
     "output_type": "stream",
     "text": [
      "100%|██████████| 100/100 [00:07<00:00, 13.75it/s]"
     ]
    },
    {
     "name": "stdout",
     "output_type": "stream",
     "text": [
      "confidence over 90% - 15\n",
      "confidence over 80% - 79\n",
      "confidence over 75% - 91\n",
      "confidence over 70% - 97\n",
      "confidence over 50% - 100\n"
     ]
    },
    {
     "name": "stderr",
     "output_type": "stream",
     "text": [
      "\n"
     ]
    },
    {
     "data": {
      "text/html": [
       "<div>\n",
       "<style scoped>\n",
       "    .dataframe tbody tr th:only-of-type {\n",
       "        vertical-align: middle;\n",
       "    }\n",
       "\n",
       "    .dataframe tbody tr th {\n",
       "        vertical-align: top;\n",
       "    }\n",
       "\n",
       "    .dataframe thead th {\n",
       "        text-align: right;\n",
       "    }\n",
       "</style>\n",
       "<table border=\"1\" class=\"dataframe\">\n",
       "  <thead>\n",
       "    <tr style=\"text-align: right;\">\n",
       "      <th></th>\n",
       "      <th>name</th>\n",
       "      <th>key</th>\n",
       "      <th>confidence</th>\n",
       "    </tr>\n",
       "  </thead>\n",
       "  <tbody>\n",
       "    <tr>\n",
       "      <th>generated_midi_0.midi</th>\n",
       "      <td>generated_midi_0.midi</td>\n",
       "      <td>E major</td>\n",
       "      <td>0.861118</td>\n",
       "    </tr>\n",
       "    <tr>\n",
       "      <th>generated_midi_1.midi</th>\n",
       "      <td>generated_midi_1.midi</td>\n",
       "      <td>f minor</td>\n",
       "      <td>0.786468</td>\n",
       "    </tr>\n",
       "    <tr>\n",
       "      <th>generated_midi_10.midi</th>\n",
       "      <td>generated_midi_10.midi</td>\n",
       "      <td>e minor</td>\n",
       "      <td>0.757023</td>\n",
       "    </tr>\n",
       "    <tr>\n",
       "      <th>generated_midi_11.midi</th>\n",
       "      <td>generated_midi_11.midi</td>\n",
       "      <td>b- minor</td>\n",
       "      <td>0.935869</td>\n",
       "    </tr>\n",
       "    <tr>\n",
       "      <th>generated_midi_12.midi</th>\n",
       "      <td>generated_midi_12.midi</td>\n",
       "      <td>E major</td>\n",
       "      <td>0.880262</td>\n",
       "    </tr>\n",
       "    <tr>\n",
       "      <th>...</th>\n",
       "      <td>...</td>\n",
       "      <td>...</td>\n",
       "      <td>...</td>\n",
       "    </tr>\n",
       "    <tr>\n",
       "      <th>generated_midi_95.midi</th>\n",
       "      <td>generated_midi_95.midi</td>\n",
       "      <td>G major</td>\n",
       "      <td>0.850507</td>\n",
       "    </tr>\n",
       "    <tr>\n",
       "      <th>generated_midi_96.midi</th>\n",
       "      <td>generated_midi_96.midi</td>\n",
       "      <td>B major</td>\n",
       "      <td>0.923142</td>\n",
       "    </tr>\n",
       "    <tr>\n",
       "      <th>generated_midi_97.midi</th>\n",
       "      <td>generated_midi_97.midi</td>\n",
       "      <td>b- minor</td>\n",
       "      <td>0.948385</td>\n",
       "    </tr>\n",
       "    <tr>\n",
       "      <th>generated_midi_98.midi</th>\n",
       "      <td>generated_midi_98.midi</td>\n",
       "      <td>e minor</td>\n",
       "      <td>0.884402</td>\n",
       "    </tr>\n",
       "    <tr>\n",
       "      <th>generated_midi_99.midi</th>\n",
       "      <td>generated_midi_99.midi</td>\n",
       "      <td>D major</td>\n",
       "      <td>0.729757</td>\n",
       "    </tr>\n",
       "  </tbody>\n",
       "</table>\n",
       "<p>100 rows × 3 columns</p>\n",
       "</div>"
      ],
      "text/plain": [
       "                                          name       key confidence\n",
       "generated_midi_0.midi    generated_midi_0.midi   E major   0.861118\n",
       "generated_midi_1.midi    generated_midi_1.midi   f minor   0.786468\n",
       "generated_midi_10.midi  generated_midi_10.midi   e minor   0.757023\n",
       "generated_midi_11.midi  generated_midi_11.midi  b- minor   0.935869\n",
       "generated_midi_12.midi  generated_midi_12.midi   E major   0.880262\n",
       "...                                        ...       ...        ...\n",
       "generated_midi_95.midi  generated_midi_95.midi   G major   0.850507\n",
       "generated_midi_96.midi  generated_midi_96.midi   B major   0.923142\n",
       "generated_midi_97.midi  generated_midi_97.midi  b- minor   0.948385\n",
       "generated_midi_98.midi  generated_midi_98.midi   e minor   0.884402\n",
       "generated_midi_99.midi  generated_midi_99.midi   D major   0.729757\n",
       "\n",
       "[100 rows x 3 columns]"
      ]
     },
     "execution_count": 2,
     "metadata": {},
     "output_type": "execute_result"
    }
   ],
   "source": [
    "# analyze a1 data in terms of key\n",
    "\n",
    "files, dirs = get_file_and_dirnames(f\"{PATH_MIDI}/a1\")\n",
    "files.sort()\n",
    "\n",
    "df_dic = {}\n",
    "for f in tqdm(files):\n",
    "    if f[-5:] != \".midi\":\n",
    "        continue\n",
    "\n",
    "    midi_score = converter.parse(f\"{PATH_MIDI}/a1/{f}\")\n",
    "    \n",
    "    music_analysis = midi_score.analyze('key')\n",
    "    df_dic[f] = {\n",
    "        \"name\": f,\n",
    "        \"key\": music_analysis,\n",
    "        \"confidence\": music_analysis.correlationCoefficient\n",
    "    }\n",
    "df = pd.DataFrame(df_dic).T\n",
    "\n",
    "# check number of songs per key analysis confidence\n",
    "print(\"confidence over 90% -\", len(df[df[\"confidence\"] > 0.90]))\n",
    "print(\"confidence over 80% -\", len(df[df[\"confidence\"] > 0.80]))\n",
    "print(\"confidence over 75% -\", len(df[df[\"confidence\"] > 0.75]))\n",
    "print(\"confidence over 70% -\", len(df[df[\"confidence\"] > 0.70]))\n",
    "print(\"confidence over 50% -\", len(df[df[\"confidence\"] > 0.50]))\n",
    "\n",
    "df"
   ]
  },
  {
   "cell_type": "code",
   "execution_count": 3,
   "metadata": {},
   "outputs": [
    {
     "name": "stderr",
     "output_type": "stream",
     "text": [
      "100%|██████████| 100/100 [00:57<00:00,  1.75it/s]\n"
     ]
    }
   ],
   "source": [
    "# when paths not exist, create directories\n",
    "if not os.path.exists(f\"{PATH_MIDI}/a1_transposed_key\"):\n",
    "    os.makedirs(f\"{PATH_MIDI}/a1_transposed_key\")\n",
    "\n",
    "skipped = []\n",
    "\n",
    "for f in tqdm(files):\n",
    "    # skip key confidence levels below 75%\n",
    "    if df[df[\"name\"] == f][\"confidence\"].values[0] < 0.75:\n",
    "        skipped.append(f)\n",
    "    # transpose and save MIDI scores\n",
    "    else:\n",
    "        try:\n",
    "            mf = midi.MidiFile()\n",
    "            mf.open(f\"{PATH_MIDI}/a1/{f}\")\n",
    "            mf.read()\n",
    "            mf.close()\n",
    "            midi_stream = midi.translate.midiFileToStream(mf)\n",
    "            transposed_stream = transpose_to_Cmaj_Amin(midi_stream)\n",
    "            transposed_stream.write(\"midi\", fp=f\"{PATH_MIDI}/a1_transposed_key/{f}\")\n",
    "        except:\n",
    "            print(\"error in\", f)\n",
    "            continue"
   ]
  },
  {
   "cell_type": "code",
   "execution_count": 4,
   "metadata": {},
   "outputs": [
    {
     "name": "stdout",
     "output_type": "stream",
     "text": [
      "skipped files count: 9\n"
     ]
    }
   ],
   "source": [
    "print(\"skipped files count:\", len(skipped))"
   ]
  },
  {
   "attachments": {},
   "cell_type": "markdown",
   "metadata": {},
   "source": [
    "## Analyze and Transpose Octave"
   ]
  },
  {
   "cell_type": "code",
   "execution_count": 5,
   "metadata": {},
   "outputs": [
    {
     "name": "stderr",
     "output_type": "stream",
     "text": [
      "100%|██████████| 91/91 [00:25<00:00,  3.63it/s]"
     ]
    },
    {
     "name": "stdout",
     "output_type": "stream",
     "text": [
      "mean note\n",
      "transposed_key 69.32967032967034\n",
      "\n",
      "min note\n",
      "transposed_key 40.0\n",
      "\n",
      "max note\n",
      "transposed_key 95.0\n",
      "\n",
      "note variation\n",
      "transposed_key 31\n",
      "\n",
      "transposed key number range over 2 octaves: 27\n"
     ]
    },
    {
     "name": "stderr",
     "output_type": "stream",
     "text": [
      "\n"
     ]
    },
    {
     "data": {
      "text/html": [
       "<div>\n",
       "<style scoped>\n",
       "    .dataframe tbody tr th:only-of-type {\n",
       "        vertical-align: middle;\n",
       "    }\n",
       "\n",
       "    .dataframe tbody tr th {\n",
       "        vertical-align: top;\n",
       "    }\n",
       "\n",
       "    .dataframe thead th {\n",
       "        text-align: right;\n",
       "    }\n",
       "</style>\n",
       "<table border=\"1\" class=\"dataframe\">\n",
       "  <thead>\n",
       "    <tr style=\"text-align: right;\">\n",
       "      <th></th>\n",
       "      <th>octave</th>\n",
       "      <th>begin</th>\n",
       "      <th>finish</th>\n",
       "    </tr>\n",
       "  </thead>\n",
       "  <tbody>\n",
       "    <tr>\n",
       "      <th>0</th>\n",
       "      <td>2</td>\n",
       "      <td>3</td>\n",
       "      <td>0</td>\n",
       "    </tr>\n",
       "    <tr>\n",
       "      <th>1</th>\n",
       "      <td>3</td>\n",
       "      <td>28</td>\n",
       "      <td>0</td>\n",
       "    </tr>\n",
       "    <tr>\n",
       "      <th>2</th>\n",
       "      <td>4</td>\n",
       "      <td>30</td>\n",
       "      <td>5</td>\n",
       "    </tr>\n",
       "    <tr>\n",
       "      <th>3</th>\n",
       "      <td>5</td>\n",
       "      <td>2</td>\n",
       "      <td>36</td>\n",
       "    </tr>\n",
       "    <tr>\n",
       "      <th>4</th>\n",
       "      <td>6</td>\n",
       "      <td>0</td>\n",
       "      <td>15</td>\n",
       "    </tr>\n",
       "    <tr>\n",
       "      <th>5</th>\n",
       "      <td>7</td>\n",
       "      <td>0</td>\n",
       "      <td>0</td>\n",
       "    </tr>\n",
       "  </tbody>\n",
       "</table>\n",
       "</div>"
      ],
      "text/plain": [
       "   octave  begin  finish\n",
       "0       2      3       0\n",
       "1       3     28       0\n",
       "2       4     30       5\n",
       "3       5      2      36\n",
       "4       6      0      15\n",
       "5       7      0       0"
      ]
     },
     "execution_count": 5,
     "metadata": {},
     "output_type": "execute_result"
    }
   ],
   "source": [
    "# analyze a1 data in terms of octave range\n",
    "\n",
    "df_key = analyse_data_folder(f\"{PATH_MIDI}/a1_transposed_key\", compute_metrics=False)\n",
    "\n",
    "# print some metrics\n",
    "print(\"mean note\")\n",
    "print(\"transposed_key\", df_key[\"note_avg\"].mean())\n",
    "print()\n",
    "print(\"min note\")\n",
    "print(\"transposed_key\", df_key[\"note_lowest\"].min())\n",
    "print()\n",
    "print(\"max note\")\n",
    "print(\"transposed_key\", df_key[\"note_highest\"].max())\n",
    "print()\n",
    "print(\"note variation\")\n",
    "print(\"transposed_key\", df_key[\"note_variation_count\"].max())\n",
    "print()\n",
    "\n",
    "# compute note range and print number of songs over 2 octaves \n",
    "df_key[\"note_range\"] = df_key[\"note_highest\"] - df_key[\"note_lowest\"]\n",
    "print(\"transposed key number range over 2 octaves:\", len(df_key[df_key[\"note_range\"] > 24]))\n",
    "\n",
    "# filter them out in a new dataframe and check octaves\n",
    "df_key_within_2_octaves = df_key[df_key[\"note_range\"] <= 24]\n",
    "octaves = []\n",
    "for octave in range(2,8):\n",
    "    octave_start = (octave+1)*12\n",
    "    octave_end = ((octave+2)*12)-1\n",
    "\n",
    "    count_begin_end = len(df_key_within_2_octaves[df_key_within_2_octaves[\"note_lowest\"] < octave_end])\n",
    "    count_begin_start = len(df_key_within_2_octaves[df_key_within_2_octaves[\"note_lowest\"] < octave_start])\n",
    "\n",
    "    count_fin_end = len(df_key_within_2_octaves[df_key_within_2_octaves[\"note_highest\"] > octave_end])\n",
    "    count_fin_start = len(df_key_within_2_octaves[df_key_within_2_octaves[\"note_highest\"] > octave_start])\n",
    "\n",
    "    octaves.append([octave, count_begin_end - count_begin_start, count_fin_start - count_fin_end])\n",
    "\n",
    "pd.DataFrame(octaves, columns= [\"octave\", \"begin\", \"finish\"])"
   ]
  },
  {
   "cell_type": "code",
   "execution_count": 7,
   "metadata": {},
   "outputs": [
    {
     "name": "stderr",
     "output_type": "stream",
     "text": [
      "100%|██████████| 91/91 [00:32<00:00,  2.77it/s]\n"
     ]
    }
   ],
   "source": [
    "# when paths not exist, create directories\n",
    "if not os.path.exists(f\"{PATH_MIDI}/a1_transposed_key_octave\"):\n",
    "    os.makedirs(f\"{PATH_MIDI}/a1_transposed_key_octave\")\n",
    "\n",
    "transposed_key_files, _ = get_file_and_dirnames(f\"{PATH_MIDI}/a1_transposed_key\")\n",
    "transposed_key_files.sort()\n",
    "\n",
    "skipped = []\n",
    "\n",
    "# transpose octave\n",
    "for f in tqdm(transposed_key_files):\n",
    "    try:\n",
    "        note_range = df_key[df_key[\"name\"] == f][\"note_range\"].values[0]\n",
    "    except:\n",
    "        continue\n",
    "    # skip songs over more than 2 octaves\n",
    "    if note_range > 24:\n",
    "        skipped.append(f)\n",
    "    # convert other songs to octave 4 to 6\n",
    "    else:\n",
    "        try:\n",
    "            midi_score = converter.parse(f\"{PATH_MIDI}/a1_transposed_key/{f}\")\n",
    "            midi_score = transpose_to_octave_4_to_6(midi_score)\n",
    "            midi_score.write(\"midi\", fp=f\"{PATH_MIDI}/a1_transposed_key_octave/{f}\")\n",
    "        except:\n",
    "            continue"
   ]
  },
  {
   "cell_type": "code",
   "execution_count": 8,
   "metadata": {},
   "outputs": [
    {
     "name": "stdout",
     "output_type": "stream",
     "text": [
      "skipped files count: 27\n"
     ]
    }
   ],
   "source": [
    "print(\"skipped files count:\", len(skipped))"
   ]
  },
  {
   "attachments": {},
   "cell_type": "markdown",
   "metadata": {},
   "source": [
    "## Analyze Octave and Key after Transposing"
   ]
  },
  {
   "cell_type": "code",
   "execution_count": 9,
   "metadata": {},
   "outputs": [
    {
     "name": "stderr",
     "output_type": "stream",
     "text": [
      "100%|██████████| 64/64 [00:15<00:00,  4.14it/s]\n"
     ]
    },
    {
     "data": {
      "text/html": [
       "<div>\n",
       "<style scoped>\n",
       "    .dataframe tbody tr th:only-of-type {\n",
       "        vertical-align: middle;\n",
       "    }\n",
       "\n",
       "    .dataframe tbody tr th {\n",
       "        vertical-align: top;\n",
       "    }\n",
       "\n",
       "    .dataframe thead th {\n",
       "        text-align: right;\n",
       "    }\n",
       "</style>\n",
       "<table border=\"1\" class=\"dataframe\">\n",
       "  <thead>\n",
       "    <tr style=\"text-align: right;\">\n",
       "      <th></th>\n",
       "      <th>name</th>\n",
       "      <th>key</th>\n",
       "      <th>confidence</th>\n",
       "    </tr>\n",
       "  </thead>\n",
       "  <tbody>\n",
       "    <tr>\n",
       "      <th>generated_midi_0.midi</th>\n",
       "      <td>generated_midi_0.midi</td>\n",
       "      <td>C major</td>\n",
       "      <td>0.862229</td>\n",
       "    </tr>\n",
       "    <tr>\n",
       "      <th>generated_midi_1.midi</th>\n",
       "      <td>generated_midi_1.midi</td>\n",
       "      <td>a minor</td>\n",
       "      <td>0.786468</td>\n",
       "    </tr>\n",
       "    <tr>\n",
       "      <th>generated_midi_10.midi</th>\n",
       "      <td>generated_midi_10.midi</td>\n",
       "      <td>a minor</td>\n",
       "      <td>0.757023</td>\n",
       "    </tr>\n",
       "    <tr>\n",
       "      <th>generated_midi_11.midi</th>\n",
       "      <td>generated_midi_11.midi</td>\n",
       "      <td>a minor</td>\n",
       "      <td>0.935869</td>\n",
       "    </tr>\n",
       "    <tr>\n",
       "      <th>generated_midi_12.midi</th>\n",
       "      <td>generated_midi_12.midi</td>\n",
       "      <td>C major</td>\n",
       "      <td>0.892373</td>\n",
       "    </tr>\n",
       "    <tr>\n",
       "      <th>...</th>\n",
       "      <td>...</td>\n",
       "      <td>...</td>\n",
       "      <td>...</td>\n",
       "    </tr>\n",
       "    <tr>\n",
       "      <th>generated_midi_93.midi</th>\n",
       "      <td>generated_midi_93.midi</td>\n",
       "      <td>C major</td>\n",
       "      <td>0.846996</td>\n",
       "    </tr>\n",
       "    <tr>\n",
       "      <th>generated_midi_94.midi</th>\n",
       "      <td>generated_midi_94.midi</td>\n",
       "      <td>a minor</td>\n",
       "      <td>0.942381</td>\n",
       "    </tr>\n",
       "    <tr>\n",
       "      <th>generated_midi_95.midi</th>\n",
       "      <td>generated_midi_95.midi</td>\n",
       "      <td>C major</td>\n",
       "      <td>0.850507</td>\n",
       "    </tr>\n",
       "    <tr>\n",
       "      <th>generated_midi_96.midi</th>\n",
       "      <td>generated_midi_96.midi</td>\n",
       "      <td>C major</td>\n",
       "      <td>0.923142</td>\n",
       "    </tr>\n",
       "    <tr>\n",
       "      <th>generated_midi_98.midi</th>\n",
       "      <td>generated_midi_98.midi</td>\n",
       "      <td>a minor</td>\n",
       "      <td>0.884402</td>\n",
       "    </tr>\n",
       "  </tbody>\n",
       "</table>\n",
       "<p>64 rows × 3 columns</p>\n",
       "</div>"
      ],
      "text/plain": [
       "                                          name      key confidence\n",
       "generated_midi_0.midi    generated_midi_0.midi  C major   0.862229\n",
       "generated_midi_1.midi    generated_midi_1.midi  a minor   0.786468\n",
       "generated_midi_10.midi  generated_midi_10.midi  a minor   0.757023\n",
       "generated_midi_11.midi  generated_midi_11.midi  a minor   0.935869\n",
       "generated_midi_12.midi  generated_midi_12.midi  C major   0.892373\n",
       "...                                        ...      ...        ...\n",
       "generated_midi_93.midi  generated_midi_93.midi  C major   0.846996\n",
       "generated_midi_94.midi  generated_midi_94.midi  a minor   0.942381\n",
       "generated_midi_95.midi  generated_midi_95.midi  C major   0.850507\n",
       "generated_midi_96.midi  generated_midi_96.midi  C major   0.923142\n",
       "generated_midi_98.midi  generated_midi_98.midi  a minor   0.884402\n",
       "\n",
       "[64 rows x 3 columns]"
      ]
     },
     "execution_count": 9,
     "metadata": {},
     "output_type": "execute_result"
    }
   ],
   "source": [
    "# analyze transposed data in terms of key\n",
    "\n",
    "files, dirs = get_file_and_dirnames(f\"{PATH_MIDI}/a1_transposed_key_octave\")\n",
    "files.sort()\n",
    "\n",
    "df_dic = {}\n",
    "for f in tqdm(files):\n",
    "    if f[-5:] != \".midi\":\n",
    "        continue\n",
    "\n",
    "    midi_score = converter.parse(f\"{PATH_MIDI}/a1_transposed_key_octave/{f}\")\n",
    "    \n",
    "    music_analysis = midi_score.analyze('key')\n",
    "    df_dic[f] = {\n",
    "        \"name\": f,\n",
    "        \"key\": music_analysis,\n",
    "        \"confidence\": music_analysis.correlationCoefficient\n",
    "    }\n",
    "df = pd.DataFrame(df_dic).T\n",
    "df"
   ]
  },
  {
   "cell_type": "code",
   "execution_count": 10,
   "metadata": {},
   "outputs": [
    {
     "name": "stdout",
     "output_type": "stream",
     "text": [
      "confidence over 90% - 10\n",
      "confidence over 80% - 56\n",
      "confidence over 75% - 64\n",
      "confidence over 70% - 64\n",
      "confidence over 50% - 64\n"
     ]
    }
   ],
   "source": [
    "# check number of songs per key analysis confidence\n",
    "print(\"confidence over 90% -\", len(df[df[\"confidence\"] > 0.90]))\n",
    "print(\"confidence over 80% -\", len(df[df[\"confidence\"] > 0.80]))\n",
    "print(\"confidence over 75% -\", len(df[df[\"confidence\"] > 0.75]))\n",
    "print(\"confidence over 70% -\", len(df[df[\"confidence\"] > 0.70]))\n",
    "print(\"confidence over 50% -\", len(df[df[\"confidence\"] > 0.50]))"
   ]
  },
  {
   "cell_type": "code",
   "execution_count": 11,
   "metadata": {},
   "outputs": [
    {
     "name": "stderr",
     "output_type": "stream",
     "text": [
      "100%|██████████| 64/64 [00:17<00:00,  3.63it/s]"
     ]
    },
    {
     "name": "stdout",
     "output_type": "stream",
     "text": [
      "mean note\n",
      "transposed_key 76.046875\n",
      "\n",
      "min note\n",
      "transposed_key 60.0\n",
      "\n",
      "max note\n",
      "transposed_key 93.0\n",
      "\n",
      "note variation\n",
      "transposed_key 20\n",
      "\n",
      "transposed key number range over 2 octaves: 0\n"
     ]
    },
    {
     "name": "stderr",
     "output_type": "stream",
     "text": [
      "\n"
     ]
    },
    {
     "data": {
      "text/html": [
       "<div>\n",
       "<style scoped>\n",
       "    .dataframe tbody tr th:only-of-type {\n",
       "        vertical-align: middle;\n",
       "    }\n",
       "\n",
       "    .dataframe tbody tr th {\n",
       "        vertical-align: top;\n",
       "    }\n",
       "\n",
       "    .dataframe thead th {\n",
       "        text-align: right;\n",
       "    }\n",
       "</style>\n",
       "<table border=\"1\" class=\"dataframe\">\n",
       "  <thead>\n",
       "    <tr style=\"text-align: right;\">\n",
       "      <th></th>\n",
       "      <th>octave</th>\n",
       "      <th>begin</th>\n",
       "      <th>finish</th>\n",
       "    </tr>\n",
       "  </thead>\n",
       "  <tbody>\n",
       "    <tr>\n",
       "      <th>0</th>\n",
       "      <td>2</td>\n",
       "      <td>0</td>\n",
       "      <td>0</td>\n",
       "    </tr>\n",
       "    <tr>\n",
       "      <th>1</th>\n",
       "      <td>3</td>\n",
       "      <td>0</td>\n",
       "      <td>0</td>\n",
       "    </tr>\n",
       "    <tr>\n",
       "      <th>2</th>\n",
       "      <td>4</td>\n",
       "      <td>63</td>\n",
       "      <td>0</td>\n",
       "    </tr>\n",
       "    <tr>\n",
       "      <th>3</th>\n",
       "      <td>5</td>\n",
       "      <td>0</td>\n",
       "      <td>13</td>\n",
       "    </tr>\n",
       "    <tr>\n",
       "      <th>4</th>\n",
       "      <td>6</td>\n",
       "      <td>0</td>\n",
       "      <td>43</td>\n",
       "    </tr>\n",
       "    <tr>\n",
       "      <th>5</th>\n",
       "      <td>7</td>\n",
       "      <td>0</td>\n",
       "      <td>0</td>\n",
       "    </tr>\n",
       "  </tbody>\n",
       "</table>\n",
       "</div>"
      ],
      "text/plain": [
       "   octave  begin  finish\n",
       "0       2      0       0\n",
       "1       3      0       0\n",
       "2       4     63       0\n",
       "3       5      0      13\n",
       "4       6      0      43\n",
       "5       7      0       0"
      ]
     },
     "execution_count": 11,
     "metadata": {},
     "output_type": "execute_result"
    }
   ],
   "source": [
    "# analyze transposed data in terms of octave range\n",
    "\n",
    "df_key = analyse_data_folder(f\"{PATH_MIDI}/a1_transposed_key_octave\", compute_metrics=False)\n",
    "\n",
    "# compute note range\n",
    "df_key[\"note_range\"] = df_key[\"note_highest\"] - df_key[\"note_lowest\"]\n",
    "\n",
    "# filter them out in a new dataframe and check octaves\n",
    "df_key_within_2_octaves = df_key[df_key[\"note_range\"] <= 24]\n",
    "octaves = []\n",
    "for octave in range(2,8):\n",
    "    octave_start = (octave+1)*12\n",
    "    octave_end = ((octave+2)*12)-1\n",
    "\n",
    "    count_begin_end = len(df_key_within_2_octaves[df_key_within_2_octaves[\"note_lowest\"] < octave_end])\n",
    "    count_begin_start = len(df_key_within_2_octaves[df_key_within_2_octaves[\"note_lowest\"] < octave_start])\n",
    "\n",
    "    count_fin_end = len(df_key_within_2_octaves[df_key_within_2_octaves[\"note_highest\"] > octave_end])\n",
    "    count_fin_start = len(df_key_within_2_octaves[df_key_within_2_octaves[\"note_highest\"] > octave_start])\n",
    "\n",
    "    octaves.append([octave, count_begin_end - count_begin_start, count_fin_start - count_fin_end])\n",
    "\n",
    "pd.DataFrame(octaves, columns= [\"octave\", \"begin\", \"finish\"])"
   ]
  },
  {
   "cell_type": "code",
   "execution_count": 12,
   "metadata": {},
   "outputs": [
    {
     "name": "stdout",
     "output_type": "stream",
     "text": [
      "mean note\n",
      "transposed_key 76.046875\n",
      "\n",
      "min note\n",
      "transposed_key 60.0\n",
      "\n",
      "max note\n",
      "transposed_key 93.0\n",
      "\n",
      "note variation\n",
      "transposed_key 20\n",
      "\n",
      "transposed key number range over 2 octaves: 0\n"
     ]
    }
   ],
   "source": [
    "# print some metrics\n",
    "print(\"mean note\")\n",
    "print(\"transposed_key\", df_key[\"note_avg\"].mean())\n",
    "print()\n",
    "print(\"min note\")\n",
    "print(\"transposed_key\", df_key[\"note_lowest\"].min())\n",
    "print()\n",
    "print(\"max note\")\n",
    "print(\"transposed_key\", df_key[\"note_highest\"].max())\n",
    "print()\n",
    "print(\"note variation\")\n",
    "print(\"transposed_key\", df_key[\"note_variation_count\"].max())\n",
    "print()\n",
    "print(\"transposed key number range over 2 octaves:\", len(df_key[df_key[\"note_range\"] > 24]))"
   ]
  }
 ],
 "metadata": {
  "kernelspec": {
   "display_name": "MusicAI",
   "language": "python",
   "name": "python3"
  },
  "language_info": {
   "codemirror_mode": {
    "name": "ipython",
    "version": 3
   },
   "file_extension": ".py",
   "mimetype": "text/x-python",
   "name": "python",
   "nbconvert_exporter": "python",
   "pygments_lexer": "ipython3",
   "version": "3.8.0"
  },
  "orig_nbformat": 4
 },
 "nbformat": 4,
 "nbformat_minor": 2
}
