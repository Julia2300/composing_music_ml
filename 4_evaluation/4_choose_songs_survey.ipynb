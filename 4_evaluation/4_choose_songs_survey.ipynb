{
 "cells": [
  {
   "cell_type": "code",
   "execution_count": 1,
   "metadata": {},
   "outputs": [],
   "source": [
    "import random\n",
    "from evaluation_metrics import get_file_and_dirnames\n",
    "\n",
    "PATH_MIDI = \"../0_data/8_predictions/midi\"\n",
    "PATH_ORIGINAL = \"../0_data/4_preprocessed_sets/d)_transposed_key_and_octave/17_POP909-Dataset-master\""
   ]
  },
  {
   "cell_type": "code",
   "execution_count": 2,
   "metadata": {},
   "outputs": [
    {
     "name": "stdout",
     "output_type": "stream",
     "text": [
      "number of songs\n",
      "original:  803\n",
      "a1:  64\n",
      "d:  100\n"
     ]
    }
   ],
   "source": [
    "# get filenames per dataset and print number of songs\n",
    "\n",
    "original, _ = get_file_and_dirnames(f\"{PATH_ORIGINAL}\")\n",
    "a1_generated, _ = get_file_and_dirnames(f\"{PATH_MIDI}/a1_transposed_key_octave\")\n",
    "d_generated, _ = get_file_and_dirnames(f\"{PATH_MIDI}/d\")\n",
    "\n",
    "original.sort()\n",
    "a1_generated.sort()\n",
    "d_generated.sort()\n",
    "\n",
    "print(\"number of songs\")\n",
    "print(\"original: \", len(original))\n",
    "print(\"a1: \", len(a1_generated))\n",
    "print(\"d: \", len(d_generated))"
   ]
  },
  {
   "cell_type": "code",
   "execution_count": 3,
   "metadata": {},
   "outputs": [
    {
     "name": "stdout",
     "output_type": "stream",
     "text": [
      "3   original vs. a1\n",
      "orig 360.mid  -  a1 generated_midi_17.midi\n",
      "orig 673.mid  -  a1 generated_midi_12.midi\n",
      "orig 837.mid  -  a1 generated_midi_16.midi\n",
      "\n",
      "3   original vs. d\n",
      "orig 623.mid  -  d generated_midi_83.midi\n",
      "orig 822.mid  -  d generated_midi_43.midi\n",
      "orig 113.mid  -  d generated_midi_96.midi\n",
      "\n",
      "3   a1 vs. d\n",
      "a1 generated_midi_95.midi  -  d generated_midi_72.midi\n",
      "a1 generated_midi_70.midi  -  d generated_midi_14.midi\n",
      "a1 generated_midi_24.midi  -  d generated_midi_62.midi\n",
      "\n",
      "1   original vs. random\n",
      "orig 337.mid  -  random\n"
     ]
    }
   ],
   "source": [
    "# randomly choose songs from each dataset to compare in survey\n",
    "\n",
    "sample_original = random.sample(original, 7)\n",
    "sample_a1 = random.sample(a1_generated, 6)\n",
    "sample_d = random.sample(d_generated, 6)\n",
    "\n",
    "print(\"3   original vs. a1\")\n",
    "for i in range(3):\n",
    "    print(\"orig\", sample_original[i], \" - \", \"a1\", sample_a1[i])\n",
    "print()\n",
    "\n",
    "print(\"3   original vs. d\")\n",
    "for i in range(3):\n",
    "    print(\"orig\", sample_original[i+3], \" - \", \"d\", sample_d[i])\n",
    "print()\n",
    "\n",
    "print(\"3   a1 vs. d\")\n",
    "for i in range(3):\n",
    "    print(\"a1\", sample_a1[i+3], \" - \", \"d\", sample_d[i+3])\n",
    "print()\n",
    "\n",
    "print(\"1   original vs. random\")\n",
    "print(\"orig\", sample_original[6], \" - \", \"random\")"
   ]
  }
 ],
 "metadata": {
  "kernelspec": {
   "display_name": "MusicAI",
   "language": "python",
   "name": "python3"
  },
  "language_info": {
   "codemirror_mode": {
    "name": "ipython",
    "version": 3
   },
   "file_extension": ".py",
   "mimetype": "text/x-python",
   "name": "python",
   "nbconvert_exporter": "python",
   "pygments_lexer": "ipython3",
   "version": "3.8.0"
  },
  "orig_nbformat": 4
 },
 "nbformat": 4,
 "nbformat_minor": 2
}
