{
 "cells": [
  {
   "cell_type": "code",
   "execution_count": 1,
   "metadata": {
    "collapsed": true
   },
   "outputs": [],
   "source": [
    "from mido import MidiFile, tempo2bpm\n",
    "import pandas as pd\n",
    "import os\n",
    "from helper_functions import get_file_and_dirnames\n",
    "from analysis_functions import analyse_data_folder\n",
    "from tqdm import tqdm\n",
    "import warnings\n",
    "warnings.filterwarnings('ignore')\n",
    "\n",
    "PATH_MIDI = \"../data/1_midi_sets\"\n",
    "PATH_ANALYSIS = \"../data/2_analysis\"\n",
    "\n",
    "if not os.path.exists(PATH_ANALYSIS):\n",
    "    os.makedirs(PATH_ANALYSIS)"
   ]
  },
  {
   "cell_type": "markdown",
   "source": [
    "## Analyse Datasets"
   ],
   "metadata": {
    "collapsed": false,
    "pycharm": {
     "name": "#%% md\n"
    }
   }
  },
  {
   "cell_type": "code",
   "execution_count": 2,
   "outputs": [
    {
     "data": {
      "text/plain": "['10_classic_midi_cont_melodies',\n '11_classic_piano_vienna',\n '12_emotion_classification',\n '13_NES_music',\n '14_national_anthems',\n '15_baroque',\n '16_classic_piano',\n '17_POP909-Dataset-master',\n '1_lakh_full',\n '2_lakh_subset',\n '3_lofi_hiphop',\n '4_Jazz_incl_csv',\n '6_anime_music',\n '7_Pop',\n '8_maestro-v3.0.0',\n '9_classic_midi_data']"
     },
     "execution_count": 2,
     "metadata": {},
     "output_type": "execute_result"
    }
   ],
   "source": [
    "_,dirs = get_file_and_dirnames(PATH_MIDI)\n",
    "dirs.sort()\n",
    "dirs"
   ],
   "metadata": {
    "collapsed": false,
    "pycharm": {
     "name": "#%%\n"
    }
   }
  },
  {
   "cell_type": "code",
   "execution_count": 3,
   "outputs": [],
   "source": [
    "paths = [\n",
    "    #'10_classic_midi_cont_melodies',\n",
    "    #'11_classic_piano_vienna',\n",
    "    #'12_emotion_classification',\n",
    "    #'14_national_anthems',\n",
    "    #'15_baroque',\n",
    "    #'16_classic_piano',\n",
    "    '17_POP909-Dataset-master',\n",
    "    #'1_lakh_full',\n",
    "    #'2_lakh_subset',\n",
    "    #'3_lofi_hiphop',\n",
    "    #'4_Jazz_incl_csv',\n",
    "    #'5_classic_only_csv',\n",
    "    #'6_anime_music',\n",
    "    #'7_Pop',\n",
    "    #'8_maestro-v3.0.0',\n",
    "    #'9_classic_midi_data'\n",
    "]"
   ],
   "metadata": {
    "collapsed": false,
    "pycharm": {
     "name": "#%%\n"
    }
   }
  },
  {
   "cell_type": "code",
   "execution_count": 4,
   "outputs": [
    {
     "name": "stderr",
     "output_type": "stream",
     "text": [
      "100%|██████████| 94/94 [00:03<00:00, 25.91it/s]\n"
     ]
    },
    {
     "name": "stdout",
     "output_type": "stream",
     "text": [
      "03_lofi_hiphop\n",
      "errors: 0\n"
     ]
    },
    {
     "name": "stderr",
     "output_type": "stream",
     "text": [
      "100%|██████████| 240/240 [03:40<00:00,  1.09it/s]"
     ]
    },
    {
     "name": "stdout",
     "output_type": "stream",
     "text": [
      "06_anime_music\n",
      "errors: 0\n"
     ]
    },
    {
     "name": "stderr",
     "output_type": "stream",
     "text": [
      "\n"
     ]
    }
   ],
   "source": [
    "for d in paths:\n",
    "    df = analyse_data_folder(f\"{PATH_MIDI}/{d}\")\n",
    "    if d[1] == \"_\":\n",
    "        d = \"0\" + d\n",
    "    df.to_csv(f\"{PATH_ANALYSIS}/{d}.csv\")\n",
    "    print(d)\n",
    "    print(\"errors:\", len(df[df[\"error\"]==True]))"
   ],
   "metadata": {
    "collapsed": false,
    "pycharm": {
     "name": "#%%\n"
    }
   }
  },
  {
   "cell_type": "markdown",
   "source": [
    "## Create Overview"
   ],
   "metadata": {
    "collapsed": false,
    "pycharm": {
     "name": "#%% md\n"
    }
   }
  },
  {
   "cell_type": "code",
   "execution_count": 13,
   "outputs": [
    {
     "name": "stdout",
     "output_type": "stream",
     "text": [
      "10_classic_midi_cont_melodies.csv\n",
      "11_classic_piano_vienna.csv\n",
      "17_POP909-Dataset-master.csv\n",
      "3_lofi_hiphop.csv\n"
     ]
    },
    {
     "data": {
      "text/plain": "                              folder  percentage_multitrack  avg_length  \\\n0  10_classic_midi_cont_melodies.csv                 1.0000      421.04   \n1        11_classic_piano_vienna.csv                 0.6071       98.21   \n2       17_POP909-Dataset-master.csv                 1.0000      249.60   \n3                  3_lofi_hiphop.csv                 0.3118        9.27   \n\n   song_4/4_beat  different_keys     bpm_avg  shortest_note  \n0             10               9  120.724138        0.00208  \n1              3               2  120.000000        0.00208  \n2            264               2   81.418042        0.00104  \n3             96               1    0.967742        0.00104  ",
      "text/html": "<div>\n<style scoped>\n    .dataframe tbody tr th:only-of-type {\n        vertical-align: middle;\n    }\n\n    .dataframe tbody tr th {\n        vertical-align: top;\n    }\n\n    .dataframe thead th {\n        text-align: right;\n    }\n</style>\n<table border=\"1\" class=\"dataframe\">\n  <thead>\n    <tr style=\"text-align: right;\">\n      <th></th>\n      <th>folder</th>\n      <th>percentage_multitrack</th>\n      <th>avg_length</th>\n      <th>song_4/4_beat</th>\n      <th>different_keys</th>\n      <th>bpm_avg</th>\n      <th>shortest_note</th>\n    </tr>\n  </thead>\n  <tbody>\n    <tr>\n      <th>0</th>\n      <td>10_classic_midi_cont_melodies.csv</td>\n      <td>1.0000</td>\n      <td>421.04</td>\n      <td>10</td>\n      <td>9</td>\n      <td>120.724138</td>\n      <td>0.00208</td>\n    </tr>\n    <tr>\n      <th>1</th>\n      <td>11_classic_piano_vienna.csv</td>\n      <td>0.6071</td>\n      <td>98.21</td>\n      <td>3</td>\n      <td>2</td>\n      <td>120.000000</td>\n      <td>0.00208</td>\n    </tr>\n    <tr>\n      <th>2</th>\n      <td>17_POP909-Dataset-master.csv</td>\n      <td>1.0000</td>\n      <td>249.60</td>\n      <td>264</td>\n      <td>2</td>\n      <td>81.418042</td>\n      <td>0.00104</td>\n    </tr>\n    <tr>\n      <th>3</th>\n      <td>3_lofi_hiphop.csv</td>\n      <td>0.3118</td>\n      <td>9.27</td>\n      <td>96</td>\n      <td>1</td>\n      <td>0.967742</td>\n      <td>0.00104</td>\n    </tr>\n  </tbody>\n</table>\n</div>"
     },
     "execution_count": 13,
     "metadata": {},
     "output_type": "execute_result"
    }
   ],
   "source": [
    "files,_ = get_file_and_dirnames(PATH_ANALYSIS)\n",
    "files.sort()\n",
    "\n",
    "df = pd.DataFrame()\n",
    "for f in files:\n",
    "    if f == \"00_overview.csv\":\n",
    "        continue\n",
    "    print(f)\n",
    "    try:\n",
    "        f_df = pd.read_csv(f\"{PATH_ANALYSIS}/{f}\")\n",
    "\n",
    "        mean_row = f_df[f_df[\"name\"]==\"mean\"]\n",
    "        min_row = f_df[f_df[\"name\"]==\"min\"]\n",
    "        max_row = f_df[f_df[\"name\"]==\"max\"]\n",
    "\n",
    "        f_df[\"numerator\"] = f_df[\"numerator\"].apply(lambda x: str(x))\n",
    "        f_df[\"denominator\"] = f_df[\"denominator\"].apply(lambda x: str(x))\n",
    "        numerator_df = f_df[f_df[\"numerator\"]==\"4.0\"]\n",
    "        denominator_df = numerator_df[numerator_df[\"denominator\"]==\"4.0\"]\n",
    "\n",
    "        r = {\n",
    "            \"folder\": f,\n",
    "            \"percentage_multitrack\": float(mean_row[\"type\"].iloc[0]).__round__(4),\n",
    "            \"percentage_monophonic\": float(mean_row[\"monophonic\"].iloc[0]).__round__(4),\n",
    "            \"percentage_overlap\": float(mean_row[\"overlap\"].iloc[0]).__round__(4),\n",
    "            \"avg_length\": float(mean_row[\"length_sec\"].iloc[0]).__round__(2),\n",
    "            \"song_4/4_beat\": len(denominator_df.index),\n",
    "            \"different_keys\": len(f_df[f_df[\"error\"]==False][\"key\"].unique()),\n",
    "            \"bpm_avg\": mean_row[\"bpm\"].iloc[0],\n",
    "            \"bpm_range\": float(max_row[\"bpm\"].iloc[0]) - float(f_df[f_df[\"bpm\"] > \"0\"][\"bpm\"].min()),\n",
    "            \"shortest_note\": float(min_row[\"duration_lowest\"].iloc[0]).__round__(5)\n",
    "        }\n",
    "\n",
    "    except:\n",
    "        print(\"error\")\n",
    "        r = {col: \"error\" for col in df.columns}\n",
    "        r[\"folder\"] = f\n",
    "\n",
    "    df = df.append(r, ignore_index=True)\n",
    "df.to_csv(f\"{PATH_ANALYSIS}/00_overview.csv\")\n",
    "df"
   ],
   "metadata": {
    "collapsed": false,
    "pycharm": {
     "name": "#%%\n"
    }
   }
  }
 ],
 "metadata": {
  "kernelspec": {
   "display_name": "Python 3",
   "language": "python",
   "name": "python3"
  },
  "language_info": {
   "codemirror_mode": {
    "name": "ipython",
    "version": 2
   },
   "file_extension": ".py",
   "mimetype": "text/x-python",
   "name": "python",
   "nbconvert_exporter": "python",
   "pygments_lexer": "ipython2",
   "version": "2.7.6"
  }
 },
 "nbformat": 4,
 "nbformat_minor": 0
}