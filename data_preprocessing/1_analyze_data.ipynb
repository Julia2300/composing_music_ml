{
 "cells": [
  {
   "cell_type": "code",
   "execution_count": 1,
   "metadata": {
    "collapsed": true
   },
   "outputs": [],
   "source": [
    "from mido import MidiFile, tempo2bpm\n",
    "import pandas as pd\n",
    "import os\n",
    "from helper_functions import get_file_and_dirnames\n",
    "from analysis_functions import analyse_data_folder\n",
    "from tqdm import tqdm\n",
    "import warnings\n",
    "warnings.filterwarnings('ignore')\n",
    "\n",
    "PATH_MIDI = \"../data/1_midi_sets\"\n",
    "PATH_ANALYSIS = \"../data/2_analysis\"\n",
    "\n",
    "if not os.path.exists(PATH_ANALYSIS):\n",
    "    os.makedirs(PATH_ANALYSIS)"
   ]
  },
  {
   "cell_type": "markdown",
   "source": [
    "## Analyse Datasets"
   ],
   "metadata": {
    "collapsed": false,
    "pycharm": {
     "name": "#%% md\n"
    }
   }
  },
  {
   "cell_type": "code",
   "execution_count": 3,
   "outputs": [
    {
     "data": {
      "text/plain": "['10_classic_midi_cont_melodies',\n '11_classic_piano_vienna',\n '12_emotion_classification',\n '13_NES_music',\n '14_national_anthems',\n '15_baroque',\n '16_classic_piano',\n '17_POP909-Dataset-master',\n '1_lakh_full',\n '2_lakh_subset',\n '3_lofi_hiphop',\n '4_Jazz_incl_csv',\n '6_anime_music',\n '7_Pop',\n '8_maestro-v3.0.0',\n '9_classic_midi_data']"
     },
     "execution_count": 3,
     "metadata": {},
     "output_type": "execute_result"
    }
   ],
   "source": [
    "_,dirs = get_file_and_dirnames(PATH_MIDI)\n",
    "dirs.sort()\n",
    "dirs"
   ],
   "metadata": {
    "collapsed": false,
    "pycharm": {
     "name": "#%%\n"
    }
   }
  },
  {
   "cell_type": "code",
   "execution_count": 4,
   "outputs": [],
   "source": [
    "paths = [\n",
    "#    #'10_classic_midi_cont_melodies',\n",
    "#    #'11_classic_piano_vienna',\n",
    "#    #'12_emotion_classification',\n",
    "#    #'14_national_anthems',\n",
    "#    #'15_baroque',\n",
    "#    #'16_classic_piano',\n",
    "#    #'17_POP909-Dataset-master',\n",
    "    #'1_lakh_full',\n",
    "    #'2_lakh_subset',\n",
    "#    #'3_lofi_hiphop',\n",
    "    '4_Jazz_incl_csv',\n",
    "    '5_classic_only_csv',\n",
    "    '6_anime_music',\n",
    "    #'7_Pop',\n",
    "    #'8_maestro-v3.0.0',\n",
    "    #'9_classic_midi_data'\n",
    "]"
   ],
   "metadata": {
    "collapsed": false,
    "pycharm": {
     "name": "#%%\n"
    }
   }
  },
  {
   "cell_type": "code",
   "execution_count": 5,
   "outputs": [
    {
     "name": "stderr",
     "output_type": "stream",
     "text": [
      "  4%|▎         | 34/934 [02:57<1:35:48,  6.39s/it]"
     ]
    },
    {
     "name": "stdout",
     "output_type": "stream",
     "text": [
      "err\n"
     ]
    },
    {
     "name": "stderr",
     "output_type": "stream",
     "text": [
      "  4%|▍         | 36/934 [03:00<1:00:45,  4.06s/it]"
     ]
    },
    {
     "name": "stdout",
     "output_type": "stream",
     "text": [
      "err\n"
     ]
    },
    {
     "name": "stderr",
     "output_type": "stream",
     "text": [
      "  7%|▋         | 62/934 [04:29<23:33,  1.62s/it]  "
     ]
    },
    {
     "name": "stdout",
     "output_type": "stream",
     "text": [
      "err\n"
     ]
    },
    {
     "name": "stderr",
     "output_type": "stream",
     "text": [
      "  8%|▊         | 71/934 [05:12<1:03:00,  4.38s/it]"
     ]
    },
    {
     "name": "stdout",
     "output_type": "stream",
     "text": [
      "err\n"
     ]
    },
    {
     "name": "stderr",
     "output_type": "stream",
     "text": [
      " 13%|█▎        | 121/934 [09:20<1:16:36,  5.65s/it]"
     ]
    },
    {
     "name": "stdout",
     "output_type": "stream",
     "text": [
      "err\n"
     ]
    },
    {
     "name": "stderr",
     "output_type": "stream",
     "text": [
      " 15%|█▌        | 143/934 [10:16<33:51,  2.57s/it]  "
     ]
    },
    {
     "name": "stdout",
     "output_type": "stream",
     "text": [
      "err\n"
     ]
    },
    {
     "name": "stderr",
     "output_type": "stream",
     "text": [
      " 18%|█▊        | 169/934 [12:04<51:16,  4.02s/it]  "
     ]
    },
    {
     "name": "stdout",
     "output_type": "stream",
     "text": [
      "err\n"
     ]
    },
    {
     "name": "stderr",
     "output_type": "stream",
     "text": [
      " 21%|██        | 193/934 [13:36<31:19,  2.54s/it]  "
     ]
    },
    {
     "name": "stdout",
     "output_type": "stream",
     "text": [
      "err\n"
     ]
    },
    {
     "name": "stderr",
     "output_type": "stream",
     "text": [
      " 21%|██▏       | 200/934 [13:52<26:00,  2.13s/it]"
     ]
    },
    {
     "name": "stdout",
     "output_type": "stream",
     "text": [
      "err\n"
     ]
    },
    {
     "name": "stderr",
     "output_type": "stream",
     "text": [
      " 29%|██▉       | 273/934 [18:34<22:44,  2.06s/it]  "
     ]
    },
    {
     "name": "stdout",
     "output_type": "stream",
     "text": [
      "err\n"
     ]
    },
    {
     "name": "stderr",
     "output_type": "stream",
     "text": [
      " 40%|███▉      | 370/934 [23:57<34:47,  3.70s/it]  "
     ]
    },
    {
     "name": "stdout",
     "output_type": "stream",
     "text": [
      "err\n"
     ]
    },
    {
     "name": "stderr",
     "output_type": "stream",
     "text": [
      " 46%|████▌     | 427/934 [27:32<26:53,  3.18s/it]"
     ]
    },
    {
     "name": "stdout",
     "output_type": "stream",
     "text": [
      "err\n"
     ]
    },
    {
     "name": "stderr",
     "output_type": "stream",
     "text": [
      " 54%|█████▍    | 503/934 [32:52<36:55,  5.14s/it]  "
     ]
    },
    {
     "name": "stdout",
     "output_type": "stream",
     "text": [
      "err\n"
     ]
    },
    {
     "name": "stderr",
     "output_type": "stream",
     "text": [
      " 55%|█████▍    | 510/934 [33:22<27:13,  3.85s/it]"
     ]
    },
    {
     "name": "stdout",
     "output_type": "stream",
     "text": [
      "err\n"
     ]
    },
    {
     "name": "stderr",
     "output_type": "stream",
     "text": [
      " 55%|█████▍    | 513/934 [33:35<29:20,  4.18s/it]"
     ]
    },
    {
     "name": "stdout",
     "output_type": "stream",
     "text": [
      "err\n"
     ]
    },
    {
     "name": "stderr",
     "output_type": "stream",
     "text": [
      " 58%|█████▊    | 538/934 [34:53<15:28,  2.35s/it]"
     ]
    },
    {
     "name": "stdout",
     "output_type": "stream",
     "text": [
      "err\n"
     ]
    },
    {
     "name": "stderr",
     "output_type": "stream",
     "text": [
      " 58%|█████▊    | 546/934 [35:07<13:30,  2.09s/it]"
     ]
    },
    {
     "name": "stdout",
     "output_type": "stream",
     "text": [
      "err\n"
     ]
    },
    {
     "name": "stderr",
     "output_type": "stream",
     "text": [
      " 80%|███████▉  | 743/934 [49:44<09:57,  3.13s/it]  "
     ]
    },
    {
     "name": "stdout",
     "output_type": "stream",
     "text": [
      "err\n"
     ]
    },
    {
     "name": "stderr",
     "output_type": "stream",
     "text": [
      " 80%|███████▉  | 746/934 [49:53<08:14,  2.63s/it]"
     ]
    },
    {
     "name": "stdout",
     "output_type": "stream",
     "text": [
      "err\n"
     ]
    },
    {
     "name": "stderr",
     "output_type": "stream",
     "text": [
      " 82%|████████▏ | 767/934 [51:26<13:55,  5.00s/it]"
     ]
    },
    {
     "name": "stdout",
     "output_type": "stream",
     "text": [
      "err\n"
     ]
    },
    {
     "name": "stderr",
     "output_type": "stream",
     "text": [
      " 96%|█████████▌| 894/934 [1:00:08<02:23,  3.58s/it]"
     ]
    },
    {
     "name": "stdout",
     "output_type": "stream",
     "text": [
      "err\n"
     ]
    },
    {
     "name": "stderr",
     "output_type": "stream",
     "text": [
      "100%|██████████| 934/934 [1:02:30<00:00,  4.02s/it]\n"
     ]
    },
    {
     "name": "stdout",
     "output_type": "stream",
     "text": [
      "04_Jazz_incl_csv\n",
      "errors: 21\n"
     ]
    },
    {
     "name": "stderr",
     "output_type": "stream",
     "text": [
      "0it [00:00, ?it/s]\n"
     ]
    },
    {
     "name": "stdout",
     "output_type": "stream",
     "text": [
      "05_classic_only_csv\n"
     ]
    },
    {
     "ename": "KeyError",
     "evalue": "'error'",
     "output_type": "error",
     "traceback": [
      "\u001B[0;31m---------------------------------------------------------------------------\u001B[0m",
      "\u001B[0;31mKeyError\u001B[0m                                  Traceback (most recent call last)",
      "File \u001B[0;32m~/venv/MusicAI/lib/python3.8/site-packages/pandas/core/indexes/base.py:3803\u001B[0m, in \u001B[0;36mIndex.get_loc\u001B[0;34m(self, key, method, tolerance)\u001B[0m\n\u001B[1;32m   3802\u001B[0m \u001B[38;5;28;01mtry\u001B[39;00m:\n\u001B[0;32m-> 3803\u001B[0m     \u001B[38;5;28;01mreturn\u001B[39;00m \u001B[38;5;28;43mself\u001B[39;49m\u001B[38;5;241;43m.\u001B[39;49m\u001B[43m_engine\u001B[49m\u001B[38;5;241;43m.\u001B[39;49m\u001B[43mget_loc\u001B[49m\u001B[43m(\u001B[49m\u001B[43mcasted_key\u001B[49m\u001B[43m)\u001B[49m\n\u001B[1;32m   3804\u001B[0m \u001B[38;5;28;01mexcept\u001B[39;00m \u001B[38;5;167;01mKeyError\u001B[39;00m \u001B[38;5;28;01mas\u001B[39;00m err:\n",
      "File \u001B[0;32m~/venv/MusicAI/lib/python3.8/site-packages/pandas/_libs/index.pyx:138\u001B[0m, in \u001B[0;36mpandas._libs.index.IndexEngine.get_loc\u001B[0;34m()\u001B[0m\n",
      "File \u001B[0;32m~/venv/MusicAI/lib/python3.8/site-packages/pandas/_libs/index.pyx:165\u001B[0m, in \u001B[0;36mpandas._libs.index.IndexEngine.get_loc\u001B[0;34m()\u001B[0m\n",
      "File \u001B[0;32mpandas/_libs/hashtable_class_helper.pxi:5745\u001B[0m, in \u001B[0;36mpandas._libs.hashtable.PyObjectHashTable.get_item\u001B[0;34m()\u001B[0m\n",
      "File \u001B[0;32mpandas/_libs/hashtable_class_helper.pxi:5753\u001B[0m, in \u001B[0;36mpandas._libs.hashtable.PyObjectHashTable.get_item\u001B[0;34m()\u001B[0m\n",
      "\u001B[0;31mKeyError\u001B[0m: 'error'",
      "\nThe above exception was the direct cause of the following exception:\n",
      "\u001B[0;31mKeyError\u001B[0m                                  Traceback (most recent call last)",
      "Cell \u001B[0;32mIn [5], line 7\u001B[0m\n\u001B[1;32m      5\u001B[0m df\u001B[38;5;241m.\u001B[39mto_csv(\u001B[38;5;124mf\u001B[39m\u001B[38;5;124m\"\u001B[39m\u001B[38;5;132;01m{\u001B[39;00mPATH_ANALYSIS\u001B[38;5;132;01m}\u001B[39;00m\u001B[38;5;124m/\u001B[39m\u001B[38;5;132;01m{\u001B[39;00md\u001B[38;5;132;01m}\u001B[39;00m\u001B[38;5;124m.csv\u001B[39m\u001B[38;5;124m\"\u001B[39m)\n\u001B[1;32m      6\u001B[0m \u001B[38;5;28mprint\u001B[39m(d)\n\u001B[0;32m----> 7\u001B[0m \u001B[38;5;28mprint\u001B[39m(\u001B[38;5;124m\"\u001B[39m\u001B[38;5;124merrors:\u001B[39m\u001B[38;5;124m\"\u001B[39m, \u001B[38;5;28mlen\u001B[39m(df[\u001B[43mdf\u001B[49m\u001B[43m[\u001B[49m\u001B[38;5;124;43m\"\u001B[39;49m\u001B[38;5;124;43merror\u001B[39;49m\u001B[38;5;124;43m\"\u001B[39;49m\u001B[43m]\u001B[49m\u001B[38;5;241m==\u001B[39m\u001B[38;5;28;01mTrue\u001B[39;00m]))\n",
      "File \u001B[0;32m~/venv/MusicAI/lib/python3.8/site-packages/pandas/core/frame.py:3804\u001B[0m, in \u001B[0;36mDataFrame.__getitem__\u001B[0;34m(self, key)\u001B[0m\n\u001B[1;32m   3802\u001B[0m \u001B[38;5;28;01mif\u001B[39;00m \u001B[38;5;28mself\u001B[39m\u001B[38;5;241m.\u001B[39mcolumns\u001B[38;5;241m.\u001B[39mnlevels \u001B[38;5;241m>\u001B[39m \u001B[38;5;241m1\u001B[39m:\n\u001B[1;32m   3803\u001B[0m     \u001B[38;5;28;01mreturn\u001B[39;00m \u001B[38;5;28mself\u001B[39m\u001B[38;5;241m.\u001B[39m_getitem_multilevel(key)\n\u001B[0;32m-> 3804\u001B[0m indexer \u001B[38;5;241m=\u001B[39m \u001B[38;5;28;43mself\u001B[39;49m\u001B[38;5;241;43m.\u001B[39;49m\u001B[43mcolumns\u001B[49m\u001B[38;5;241;43m.\u001B[39;49m\u001B[43mget_loc\u001B[49m\u001B[43m(\u001B[49m\u001B[43mkey\u001B[49m\u001B[43m)\u001B[49m\n\u001B[1;32m   3805\u001B[0m \u001B[38;5;28;01mif\u001B[39;00m is_integer(indexer):\n\u001B[1;32m   3806\u001B[0m     indexer \u001B[38;5;241m=\u001B[39m [indexer]\n",
      "File \u001B[0;32m~/venv/MusicAI/lib/python3.8/site-packages/pandas/core/indexes/base.py:3805\u001B[0m, in \u001B[0;36mIndex.get_loc\u001B[0;34m(self, key, method, tolerance)\u001B[0m\n\u001B[1;32m   3803\u001B[0m     \u001B[38;5;28;01mreturn\u001B[39;00m \u001B[38;5;28mself\u001B[39m\u001B[38;5;241m.\u001B[39m_engine\u001B[38;5;241m.\u001B[39mget_loc(casted_key)\n\u001B[1;32m   3804\u001B[0m \u001B[38;5;28;01mexcept\u001B[39;00m \u001B[38;5;167;01mKeyError\u001B[39;00m \u001B[38;5;28;01mas\u001B[39;00m err:\n\u001B[0;32m-> 3805\u001B[0m     \u001B[38;5;28;01mraise\u001B[39;00m \u001B[38;5;167;01mKeyError\u001B[39;00m(key) \u001B[38;5;28;01mfrom\u001B[39;00m \u001B[38;5;21;01merr\u001B[39;00m\n\u001B[1;32m   3806\u001B[0m \u001B[38;5;28;01mexcept\u001B[39;00m \u001B[38;5;167;01mTypeError\u001B[39;00m:\n\u001B[1;32m   3807\u001B[0m     \u001B[38;5;66;03m# If we have a listlike key, _check_indexing_error will raise\u001B[39;00m\n\u001B[1;32m   3808\u001B[0m     \u001B[38;5;66;03m#  InvalidIndexError. Otherwise we fall through and re-raise\u001B[39;00m\n\u001B[1;32m   3809\u001B[0m     \u001B[38;5;66;03m#  the TypeError.\u001B[39;00m\n\u001B[1;32m   3810\u001B[0m     \u001B[38;5;28mself\u001B[39m\u001B[38;5;241m.\u001B[39m_check_indexing_error(key)\n",
      "\u001B[0;31mKeyError\u001B[0m: 'error'"
     ]
    }
   ],
   "source": [
    "for d in paths:\n",
    "    df = analyse_data_folder(f\"{PATH_MIDI}/{d}\")\n",
    "    if d[1] == \"_\":\n",
    "        d = \"0\" + d\n",
    "    df.to_csv(f\"{PATH_ANALYSIS}/{d}.csv\")\n",
    "    print(d)\n",
    "    print(\"errors:\", len(df[df[\"error\"]==True]))"
   ],
   "metadata": {
    "collapsed": false,
    "pycharm": {
     "name": "#%%\n"
    }
   }
  },
  {
   "cell_type": "markdown",
   "source": [
    "## Create Overview"
   ],
   "metadata": {
    "collapsed": false,
    "pycharm": {
     "name": "#%% md\n"
    }
   }
  },
  {
   "cell_type": "code",
   "execution_count": 13,
   "outputs": [
    {
     "name": "stdout",
     "output_type": "stream",
     "text": [
      "10_classic_midi_cont_melodies.csv\n",
      "11_classic_piano_vienna.csv\n",
      "17_POP909-Dataset-master.csv\n",
      "3_lofi_hiphop.csv\n"
     ]
    },
    {
     "data": {
      "text/plain": "                              folder  percentage_multitrack  avg_length  \\\n0  10_classic_midi_cont_melodies.csv                 1.0000      421.04   \n1        11_classic_piano_vienna.csv                 0.6071       98.21   \n2       17_POP909-Dataset-master.csv                 1.0000      249.60   \n3                  3_lofi_hiphop.csv                 0.3118        9.27   \n\n   song_4/4_beat  different_keys     bpm_avg  shortest_note  \n0             10               9  120.724138        0.00208  \n1              3               2  120.000000        0.00208  \n2            264               2   81.418042        0.00104  \n3             96               1    0.967742        0.00104  ",
      "text/html": "<div>\n<style scoped>\n    .dataframe tbody tr th:only-of-type {\n        vertical-align: middle;\n    }\n\n    .dataframe tbody tr th {\n        vertical-align: top;\n    }\n\n    .dataframe thead th {\n        text-align: right;\n    }\n</style>\n<table border=\"1\" class=\"dataframe\">\n  <thead>\n    <tr style=\"text-align: right;\">\n      <th></th>\n      <th>folder</th>\n      <th>percentage_multitrack</th>\n      <th>avg_length</th>\n      <th>song_4/4_beat</th>\n      <th>different_keys</th>\n      <th>bpm_avg</th>\n      <th>shortest_note</th>\n    </tr>\n  </thead>\n  <tbody>\n    <tr>\n      <th>0</th>\n      <td>10_classic_midi_cont_melodies.csv</td>\n      <td>1.0000</td>\n      <td>421.04</td>\n      <td>10</td>\n      <td>9</td>\n      <td>120.724138</td>\n      <td>0.00208</td>\n    </tr>\n    <tr>\n      <th>1</th>\n      <td>11_classic_piano_vienna.csv</td>\n      <td>0.6071</td>\n      <td>98.21</td>\n      <td>3</td>\n      <td>2</td>\n      <td>120.000000</td>\n      <td>0.00208</td>\n    </tr>\n    <tr>\n      <th>2</th>\n      <td>17_POP909-Dataset-master.csv</td>\n      <td>1.0000</td>\n      <td>249.60</td>\n      <td>264</td>\n      <td>2</td>\n      <td>81.418042</td>\n      <td>0.00104</td>\n    </tr>\n    <tr>\n      <th>3</th>\n      <td>3_lofi_hiphop.csv</td>\n      <td>0.3118</td>\n      <td>9.27</td>\n      <td>96</td>\n      <td>1</td>\n      <td>0.967742</td>\n      <td>0.00104</td>\n    </tr>\n  </tbody>\n</table>\n</div>"
     },
     "execution_count": 13,
     "metadata": {},
     "output_type": "execute_result"
    }
   ],
   "source": [
    "files,_ = get_file_and_dirnames(PATH_ANALYSIS)\n",
    "files.sort()\n",
    "\n",
    "df = pd.DataFrame()\n",
    "for f in files:\n",
    "    if f == \"00_overview.csv\":\n",
    "        continue\n",
    "    print(f)\n",
    "    try:\n",
    "        f_df = pd.read_csv(f\"{PATH_ANALYSIS}/{f}\")\n",
    "\n",
    "        mean_row = f_df[f_df[\"name\"]==\"mean\"]\n",
    "        min_row = f_df[f_df[\"name\"]==\"min\"]\n",
    "        max_row = f_df[f_df[\"name\"]==\"max\"]\n",
    "\n",
    "        f_df[\"numerator\"] = f_df[\"numerator\"].apply(lambda x: str(x))\n",
    "        f_df[\"denominator\"] = f_df[\"denominator\"].apply(lambda x: str(x))\n",
    "        numerator_df = f_df[f_df[\"numerator\"]==\"4.0\"]\n",
    "        denominator_df = numerator_df[numerator_df[\"denominator\"]==\"4.0\"]\n",
    "\n",
    "        r = {\n",
    "            \"folder\": f,\n",
    "            \"percentage_multitrack\": float(mean_row[\"type\"].iloc[0]).__round__(4),\n",
    "            \"percentage_monophonic\": float(mean_row[\"monophonic\"].iloc[0]).__round__(4),\n",
    "            \"percentage_overlap\": float(mean_row[\"overlap\"].iloc[0]).__round__(4),\n",
    "            \"avg_length\": float(mean_row[\"length_sec\"].iloc[0]).__round__(2),\n",
    "            \"song_4/4_beat\": len(denominator_df.index),\n",
    "            \"different_keys\": len(f_df[f_df[\"error\"]==False][\"key\"].unique()),\n",
    "            \"bpm_avg\": mean_row[\"bpm\"].iloc[0],\n",
    "            \"bpm_range\": float(max_row[\"bpm\"].iloc[0]) - float(f_df[f_df[\"bpm\"] > \"0\"][\"bpm\"].min()),\n",
    "            \"shortest_note\": float(min_row[\"duration_lowest\"].iloc[0]).__round__(5)\n",
    "        }\n",
    "\n",
    "    except:\n",
    "        print(\"error\")\n",
    "        r = {col: \"error\" for col in df.columns}\n",
    "        r[\"folder\"] = f\n",
    "\n",
    "    df = df.append(r, ignore_index=True)\n",
    "df.to_csv(f\"{PATH_ANALYSIS}/00_overview.csv\")\n",
    "df"
   ],
   "metadata": {
    "collapsed": false,
    "pycharm": {
     "name": "#%%\n"
    }
   }
  }
 ],
 "metadata": {
  "kernelspec": {
   "display_name": "Python 3",
   "language": "python",
   "name": "python3"
  },
  "language_info": {
   "codemirror_mode": {
    "name": "ipython",
    "version": 2
   },
   "file_extension": ".py",
   "mimetype": "text/x-python",
   "name": "python",
   "nbconvert_exporter": "python",
   "pygments_lexer": "ipython2",
   "version": "2.7.6"
  }
 },
 "nbformat": 4,
 "nbformat_minor": 0
}