{
 "cells": [
  {
   "cell_type": "code",
   "execution_count": 1,
   "metadata": {
    "collapsed": true
   },
   "outputs": [],
   "source": [
    "import os\n",
    "import shutil\n",
    "from helper_functions import get_file_and_dirnames\n",
    "\n",
    "PATH_RAW = \"../data/0_raw_sets\"\n",
    "PATH_MIDI = \"../data/1_midi_sets\"\n",
    "\n",
    "# when paths not exist, create directories\n",
    "paths = [PATH_RAW, PATH_MIDI]\n",
    "for path in paths:\n",
    "    if not os.path.exists(path):\n",
    "        os.makedirs(path)"
   ]
  },
  {
   "cell_type": "code",
   "execution_count": 2,
   "outputs": [],
   "source": [
    "def get_all_nested_midis(p):\n",
    "    \"\"\"\n",
    "    get a list of all midi file paths in a given directory\n",
    "\n",
    "    :param p: path of directory\n",
    "    :return: list of midi file paths\n",
    "    \"\"\"\n",
    "    files, dirs =  get_file_and_dirnames(p)\n",
    "    while dirs:\n",
    "        for d in dirs:\n",
    "            nest_files, nest_dirs = get_file_and_dirnames(f\"{p}/{d}\")\n",
    "            dirs.extend([f\"{d}/{n}\" for n in nest_dirs])\n",
    "            files.extend([f\"{d}/{n}\" for n in nest_files])\n",
    "            dirs.remove(d)\n",
    "    files = [f for f in files if f[-4:]==\".mid\" or f[-5:]==\".midi\"]\n",
    "    return files"
   ],
   "metadata": {
    "collapsed": false,
    "pycharm": {
     "name": "#%%\n"
    }
   }
  },
  {
   "cell_type": "code",
   "execution_count": 3,
   "outputs": [
    {
     "data": {
      "text/plain": "['10_classic_midi_cont_melodies',\n '11_classic_piano_vienna',\n '12_emotion_classification',\n '13_NES_music',\n '14_national_anthems',\n '15_baroque',\n '16_classic_piano',\n '17_POP909-Dataset-master',\n '1_lakh_full',\n '2_lakh_subset',\n '3_lofi_hiphop',\n '4_Jazz_incl_csv',\n '6_anime_music',\n '7_Pop',\n '8_maestro-v3.0.0',\n '9_classic_midi_data']"
     },
     "execution_count": 3,
     "metadata": {},
     "output_type": "execute_result"
    }
   ],
   "source": [
    "# get list of directories in raw sets path\n",
    "_, dirs = get_file_and_dirnames(PATH_RAW)\n",
    "dirs.sort()\n",
    "dirs"
   ],
   "metadata": {
    "collapsed": false,
    "pycharm": {
     "name": "#%%\n"
    }
   }
  },
  {
   "cell_type": "code",
   "execution_count": 4,
   "outputs": [
    {
     "name": "stdout",
     "output_type": "stream",
     "text": [
      "../data/1_midi_sets/10_classic_midi_cont_melodies\n",
      "29\n",
      "29\n",
      "../data/1_midi_sets/11_classic_piano_vienna\n",
      "112\n",
      "112\n",
      "../data/1_midi_sets/12_emotion_classification\n",
      "196\n",
      "196\n",
      "../data/1_midi_sets/13_NES_music\n",
      "5278\n",
      "5278\n",
      "../data/1_midi_sets/14_national_anthems\n",
      "342\n",
      "342\n",
      "../data/1_midi_sets/15_baroque\n",
      "1114\n",
      "1114\n",
      "../data/1_midi_sets/16_classic_piano\n",
      "292\n",
      "292\n",
      "../data/1_midi_sets/17_POP909-Dataset-master\n",
      "2898\n",
      "2898\n",
      "../data/1_midi_sets/1_lakh_full\n",
      "178561\n",
      "178561\n",
      "../data/1_midi_sets/2_lakh_subset\n",
      "87\n",
      "87\n",
      "../data/1_midi_sets/3_lofi_hiphop\n",
      "93\n",
      "93\n",
      "../data/1_midi_sets/4_Jazz_incl_csv\n",
      "934\n",
      "934\n",
      "../data/1_midi_sets/6_anime_music\n",
      "240\n",
      "240\n",
      "../data/1_midi_sets/7_Pop\n",
      "50\n",
      "50\n",
      "../data/1_midi_sets/8_maestro-v3.0.0\n",
      "1276\n",
      "1276\n",
      "../data/1_midi_sets/9_classic_midi_data\n",
      "92\n",
      "92\n"
     ]
    }
   ],
   "source": [
    "# copy midi files from raw sets to midi only sets\n",
    "for dir in dirs:\n",
    "    midi_dir = f\"{PATH_MIDI}/{dir}\"\n",
    "    print(midi_dir)\n",
    "    # make dir if not existent else delete contents\n",
    "    if not os.path.exists(midi_dir):\n",
    "        os.makedirs(midi_dir)\n",
    "    else:\n",
    "        del_files,_ = get_file_and_dirnames(midi_dir)\n",
    "        for del_file in del_files:\n",
    "            os.remove(f\"{midi_dir}/{del_file}\")\n",
    "    # get files from raw set and copy to midi set if duplicates name with number\n",
    "    files = get_all_nested_midis(f\"{PATH_RAW}/{dir}\")\n",
    "    for file in files:\n",
    "        filename = file.split(\"/\")[-1]\n",
    "        if not os.path.exists(f\"{midi_dir}/{filename}\"):\n",
    "            shutil.copy2(f\"{PATH_RAW}/{dir}/{file}\", midi_dir)\n",
    "        else:\n",
    "            i = 2\n",
    "            filename = f\"{filename[:-4]}_{i}.mid\"\n",
    "            while os.path.exists(f\"{midi_dir}/{filename}\"):\n",
    "                i = i + 1\n",
    "                filename = f\"{filename[:-5]}{i}.mid\"\n",
    "            shutil.copy2(f\"{PATH_RAW}/{dir}/{file}\", f\"{midi_dir}/{filename}\")\n",
    "    # get files of new directory to count\n",
    "    files_new = get_all_nested_midis(midi_dir)\n",
    "    print(len(files))\n",
    "    print(len(files_new))"
   ],
   "metadata": {
    "collapsed": false,
    "pycharm": {
     "name": "#%%\n"
    }
   }
  },
  {
   "cell_type": "code",
   "execution_count": 5,
   "outputs": [
    {
     "name": "stdout",
     "output_type": "stream",
     "text": [
      "909\n"
     ]
    }
   ],
   "source": [
    "# remove versioning of songs in dataset 17\n",
    "dir_17 = f\"{PATH_MIDI}/17_POP909-Dataset-master\"\n",
    "files = get_all_nested_midis(dir_17)\n",
    "for f in files:\n",
    "    if \"v\" in f:\n",
    "        os.remove(f\"{PATH_MIDI}/17_POP909-Dataset-master/{f}\")\n",
    "print(len(get_all_nested_midis(dir_17)))"
   ],
   "metadata": {
    "collapsed": false,
    "pycharm": {
     "name": "#%%\n"
    }
   }
  }
 ],
 "metadata": {
  "kernelspec": {
   "display_name": "Python 3",
   "language": "python",
   "name": "python3"
  },
  "language_info": {
   "codemirror_mode": {
    "name": "ipython",
    "version": 2
   },
   "file_extension": ".py",
   "mimetype": "text/x-python",
   "name": "python",
   "nbconvert_exporter": "python",
   "pygments_lexer": "ipython2",
   "version": "2.7.6"
  }
 },
 "nbformat": 4,
 "nbformat_minor": 0
}