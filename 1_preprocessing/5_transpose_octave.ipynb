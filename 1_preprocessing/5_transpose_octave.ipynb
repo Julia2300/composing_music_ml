{
 "cells": [
  {
   "cell_type": "code",
   "execution_count": 1,
   "metadata": {
    "collapsed": true,
    "pycharm": {
     "name": "#%%\n"
    }
   },
   "outputs": [],
   "source": [
    "import pandas as pd\n",
    "from music21 import converter\n",
    "import os\n",
    "from helper_functions import get_file_and_dirnames\n",
    "from analysis_functions import analyse_data_folder\n",
    "from preprocessing_functions import transpose_to_octave_4_to_6\n",
    "from tqdm import tqdm\n",
    "import warnings\n",
    "warnings.filterwarnings('ignore')\n",
    "\n",
    "PATH_TRANSPOSED = \"../0_data/4_preprocessed_sets\""
   ]
  },
  {
   "cell_type": "markdown",
   "metadata": {
    "collapsed": false
   },
   "source": [
    "## Transposing Octave"
   ]
  },
  {
   "cell_type": "code",
   "execution_count": 2,
   "metadata": {
    "collapsed": false,
    "pycharm": {
     "name": "#%%\n"
    }
   },
   "outputs": [
    {
     "name": "stdout",
     "output_type": "stream",
     "text": [
      "songs in 4/4 metric and 120 bpm: 902\n",
      "songs in transposed key: 845\n"
     ]
    }
   ],
   "source": [
    "# get file list and print number of remaining songs\n",
    "dir = \"17_POP909-Dataset-master\"\n",
    "transposed_4_4_files,_ = get_file_and_dirnames(f\"{PATH_TRANSPOSED}/a)_4_4_metric_120_bpm/{dir}\")\n",
    "transposed_4_4_files.sort()\n",
    "transposed_key_files,_ = get_file_and_dirnames(f\"{PATH_TRANSPOSED}/b)_transposed_key/{dir}\")\n",
    "transposed_key_files.sort()\n",
    "\n",
    "print(\"songs in 4/4 metric and 120 bpm:\", len(transposed_4_4_files))\n",
    "print(\"songs in transposed key:\", len(transposed_key_files))"
   ]
  },
  {
   "cell_type": "code",
   "execution_count": 3,
   "metadata": {
    "collapsed": false,
    "pycharm": {
     "name": "#%%\n"
    }
   },
   "outputs": [
    {
     "name": "stderr",
     "output_type": "stream",
     "text": [
      "100%|██████████| 902/902 [07:41<00:00,  1.96it/s]\n",
      "100%|██████████| 845/845 [05:58<00:00,  2.35it/s]"
     ]
    },
    {
     "name": "stdout",
     "output_type": "stream",
     "text": [
      "mean note\n",
      "4/4 71.45787139689578\n",
      "transposed_key 70.67810650887574\n",
      "\n",
      "min note\n",
      "4/4 42.0\n",
      "transposed_key 39.0\n",
      "\n",
      "max note\n",
      "4/4 98.0\n",
      "transposed_key 101.0\n",
      "\n",
      "note variation\n",
      "4/4 26\n",
      "transposed_key 26\n",
      "\n"
     ]
    },
    {
     "name": "stderr",
     "output_type": "stream",
     "text": [
      "\n"
     ]
    }
   ],
   "source": [
    "# get note analysis\n",
    "df_4_4 = analyse_data_folder(f\"{PATH_TRANSPOSED}/a)_4_4_metric_120_bpm/{dir}\", compute_metrics=False)\n",
    "df_key = analyse_data_folder(f\"{PATH_TRANSPOSED}/b)_transposed_key/{dir}\", compute_metrics=False)"
   ]
  },
  {
   "cell_type": "code",
   "execution_count": 4,
   "metadata": {},
   "outputs": [
    {
     "name": "stdout",
     "output_type": "stream",
     "text": [
      "mean note\n",
      "4/4 71.45787139689578\n",
      "transposed_key 70.67810650887574\n",
      "\n",
      "min note\n",
      "4/4 42.0\n",
      "transposed_key 39.0\n",
      "\n",
      "max note\n",
      "4/4 98.0\n",
      "transposed_key 101.0\n",
      "\n",
      "note variation\n",
      "4/4 26\n",
      "transposed_key 26\n",
      "\n"
     ]
    }
   ],
   "source": [
    "# print some metrics\n",
    "print(\"mean note\")\n",
    "print(\"4/4\", df_4_4[\"note_avg\"].mean())\n",
    "print(\"transposed_key\", df_key[\"note_avg\"].mean())\n",
    "print()\n",
    "\n",
    "print(\"min note\")\n",
    "print(\"4/4\", df_4_4[\"note_lowest\"].min())\n",
    "print(\"transposed_key\", df_key[\"note_lowest\"].min())\n",
    "print()\n",
    "\n",
    "print(\"max note\")\n",
    "print(\"4/4\", df_4_4[\"note_highest\"].max())\n",
    "print(\"transposed_key\", df_key[\"note_highest\"].max())\n",
    "print()\n",
    "\n",
    "print(\"note variation\")\n",
    "print(\"4/4\", df_4_4[\"note_variation_count\"].max())\n",
    "print(\"transposed_key\", df_key[\"note_variation_count\"].max())\n",
    "print()"
   ]
  },
  {
   "cell_type": "code",
   "execution_count": 5,
   "metadata": {
    "collapsed": false,
    "pycharm": {
     "name": "#%%\n"
    }
   },
   "outputs": [
    {
     "name": "stdout",
     "output_type": "stream",
     "text": [
      "4_4 number range over 2 octaves: 44\n",
      "transposed key number range over 2 octaves: 42\n"
     ]
    }
   ],
   "source": [
    "# compute note range\n",
    "df_4_4[\"note_range\"] = df_4_4[\"note_highest\"] - df_4_4[\"note_lowest\"]\n",
    "df_key[\"note_range\"] = df_key[\"note_highest\"] - df_key[\"note_lowest\"]\n",
    "\n",
    "# print number of songs over 2 octaves \n",
    "print(\"4_4 number range over 2 octaves:\", len(df_4_4[df_4_4[\"note_range\"] > 24]))\n",
    "print(\"transposed key number range over 2 octaves:\", len(df_key[df_key[\"note_range\"] > 24]))\n",
    "\n",
    "# filter them out in a new dataframe\n",
    "df_4_4_within_2_octaves = df_4_4[df_4_4[\"note_range\"] <= 24]\n",
    "df_key_within_2_octaves = df_key[df_key[\"note_range\"] <= 24]"
   ]
  },
  {
   "cell_type": "code",
   "execution_count": 6,
   "metadata": {
    "collapsed": false,
    "pycharm": {
     "name": "#%%\n"
    }
   },
   "outputs": [
    {
     "name": "stdout",
     "output_type": "stream",
     "text": [
      "4_4 songs\n"
     ]
    },
    {
     "data": {
      "text/html": [
       "<div>\n",
       "<style scoped>\n",
       "    .dataframe tbody tr th:only-of-type {\n",
       "        vertical-align: middle;\n",
       "    }\n",
       "\n",
       "    .dataframe tbody tr th {\n",
       "        vertical-align: top;\n",
       "    }\n",
       "\n",
       "    .dataframe thead th {\n",
       "        text-align: right;\n",
       "    }\n",
       "</style>\n",
       "<table border=\"1\" class=\"dataframe\">\n",
       "  <thead>\n",
       "    <tr style=\"text-align: right;\">\n",
       "      <th></th>\n",
       "      <th>octave</th>\n",
       "      <th>begin</th>\n",
       "      <th>finish</th>\n",
       "    </tr>\n",
       "  </thead>\n",
       "  <tbody>\n",
       "    <tr>\n",
       "      <th>0</th>\n",
       "      <td>2</td>\n",
       "      <td>1</td>\n",
       "      <td>0</td>\n",
       "    </tr>\n",
       "    <tr>\n",
       "      <th>1</th>\n",
       "      <td>3</td>\n",
       "      <td>236</td>\n",
       "      <td>0</td>\n",
       "    </tr>\n",
       "    <tr>\n",
       "      <th>2</th>\n",
       "      <td>4</td>\n",
       "      <td>541</td>\n",
       "      <td>60</td>\n",
       "    </tr>\n",
       "    <tr>\n",
       "      <th>3</th>\n",
       "      <td>5</td>\n",
       "      <td>20</td>\n",
       "      <td>523</td>\n",
       "    </tr>\n",
       "    <tr>\n",
       "      <th>4</th>\n",
       "      <td>6</td>\n",
       "      <td>0</td>\n",
       "      <td>167</td>\n",
       "    </tr>\n",
       "    <tr>\n",
       "      <th>5</th>\n",
       "      <td>7</td>\n",
       "      <td>0</td>\n",
       "      <td>0</td>\n",
       "    </tr>\n",
       "  </tbody>\n",
       "</table>\n",
       "</div>"
      ],
      "text/plain": [
       "   octave  begin  finish\n",
       "0       2      1       0\n",
       "1       3    236       0\n",
       "2       4    541      60\n",
       "3       5     20     523\n",
       "4       6      0     167\n",
       "5       7      0       0"
      ]
     },
     "execution_count": 6,
     "metadata": {},
     "output_type": "execute_result"
    }
   ],
   "source": [
    "# check number of songs which begin and end in each octave 4_4\n",
    "octaves = []\n",
    "for octave in range(2,8):\n",
    "    octave_start = (octave+1)*12\n",
    "    octave_end = ((octave+2)*12)-1\n",
    "\n",
    "    count_begin_end = len(df_4_4_within_2_octaves[df_4_4_within_2_octaves[\"note_lowest\"] < octave_end])\n",
    "    count_begin_start = len(df_4_4_within_2_octaves[df_4_4_within_2_octaves[\"note_lowest\"] < octave_start])\n",
    "\n",
    "    count_fin_end = len(df_4_4_within_2_octaves[df_4_4_within_2_octaves[\"note_highest\"] > octave_end])\n",
    "    count_fin_start = len(df_4_4_within_2_octaves[df_4_4_within_2_octaves[\"note_highest\"] > octave_start])\n",
    "\n",
    "    octaves.append([octave, count_begin_end - count_begin_start, count_fin_start - count_fin_end])\n",
    "print(\"4_4 songs\")\n",
    "pd.DataFrame(octaves, columns= [\"octave\", \"begin\", \"finish\"])"
   ]
  },
  {
   "cell_type": "code",
   "execution_count": 7,
   "metadata": {
    "collapsed": false,
    "pycharm": {
     "name": "#%%\n"
    }
   },
   "outputs": [
    {
     "name": "stdout",
     "output_type": "stream",
     "text": [
      "transposed key songs\n"
     ]
    },
    {
     "data": {
      "text/html": [
       "<div>\n",
       "<style scoped>\n",
       "    .dataframe tbody tr th:only-of-type {\n",
       "        vertical-align: middle;\n",
       "    }\n",
       "\n",
       "    .dataframe tbody tr th {\n",
       "        vertical-align: top;\n",
       "    }\n",
       "\n",
       "    .dataframe thead th {\n",
       "        text-align: right;\n",
       "    }\n",
       "</style>\n",
       "<table border=\"1\" class=\"dataframe\">\n",
       "  <thead>\n",
       "    <tr style=\"text-align: right;\">\n",
       "      <th></th>\n",
       "      <th>octave</th>\n",
       "      <th>begin</th>\n",
       "      <th>finish</th>\n",
       "    </tr>\n",
       "  </thead>\n",
       "  <tbody>\n",
       "    <tr>\n",
       "      <th>0</th>\n",
       "      <td>2</td>\n",
       "      <td>23</td>\n",
       "      <td>0</td>\n",
       "    </tr>\n",
       "    <tr>\n",
       "      <th>1</th>\n",
       "      <td>3</td>\n",
       "      <td>288</td>\n",
       "      <td>2</td>\n",
       "    </tr>\n",
       "    <tr>\n",
       "      <th>2</th>\n",
       "      <td>4</td>\n",
       "      <td>414</td>\n",
       "      <td>109</td>\n",
       "    </tr>\n",
       "    <tr>\n",
       "      <th>3</th>\n",
       "      <td>5</td>\n",
       "      <td>62</td>\n",
       "      <td>351</td>\n",
       "    </tr>\n",
       "    <tr>\n",
       "      <th>4</th>\n",
       "      <td>6</td>\n",
       "      <td>0</td>\n",
       "      <td>145</td>\n",
       "    </tr>\n",
       "    <tr>\n",
       "      <th>5</th>\n",
       "      <td>7</td>\n",
       "      <td>0</td>\n",
       "      <td>1</td>\n",
       "    </tr>\n",
       "  </tbody>\n",
       "</table>\n",
       "</div>"
      ],
      "text/plain": [
       "   octave  begin  finish\n",
       "0       2     23       0\n",
       "1       3    288       2\n",
       "2       4    414     109\n",
       "3       5     62     351\n",
       "4       6      0     145\n",
       "5       7      0       1"
      ]
     },
     "execution_count": 7,
     "metadata": {},
     "output_type": "execute_result"
    }
   ],
   "source": [
    "# check number of songs which begin and end in each octave 4_4\n",
    "octaves = []\n",
    "for octave in range(2,8):\n",
    "    octave_start = (octave+1)*12\n",
    "    octave_end = ((octave+2)*12)-1\n",
    "\n",
    "    count_begin_end = len(df_key_within_2_octaves[df_key_within_2_octaves[\"note_lowest\"] < octave_end])\n",
    "    count_begin_start = len(df_key_within_2_octaves[df_key_within_2_octaves[\"note_lowest\"] < octave_start])\n",
    "\n",
    "    count_fin_end = len(df_key_within_2_octaves[df_key_within_2_octaves[\"note_highest\"] > octave_end])\n",
    "    count_fin_start = len(df_key_within_2_octaves[df_key_within_2_octaves[\"note_highest\"] > octave_start])\n",
    "\n",
    "    octaves.append([octave, count_begin_end - count_begin_start, count_fin_start - count_fin_end])\n",
    "print(\"transposed key songs\")\n",
    "pd.DataFrame(octaves, columns= [\"octave\", \"begin\", \"finish\"])"
   ]
  },
  {
   "cell_type": "code",
   "execution_count": 8,
   "metadata": {
    "collapsed": false,
    "pycharm": {
     "name": "#%%\n"
    }
   },
   "outputs": [
    {
     "name": "stderr",
     "output_type": "stream",
     "text": [
      "100%|██████████| 902/902 [07:10<00:00,  2.10it/s]"
     ]
    },
    {
     "name": "stdout",
     "output_type": "stream",
     "text": [
      "skipped: 44\n"
     ]
    },
    {
     "name": "stderr",
     "output_type": "stream",
     "text": [
      "\n"
     ]
    }
   ],
   "source": [
    "# when paths not exist, create directories\n",
    "if not os.path.exists(f\"{PATH_TRANSPOSED}/c)_transposed_octave/{dir}\"):\n",
    "    os.makedirs(f\"{PATH_TRANSPOSED}/c)_transposed_octave/{dir}\")\n",
    "\n",
    "skipped = []\n",
    "\n",
    "# transpose octave\n",
    "for f in tqdm(transposed_4_4_files):\n",
    "    # skip not MIDI files and already transposed ones\n",
    "    if f[-4:] != \".mid\":\n",
    "        continue\n",
    "    try:\n",
    "        note_range = df_4_4[df_4_4[\"name\"] == f][\"note_range\"].values[0]\n",
    "    except:\n",
    "        continue\n",
    "    # skip songs over more than 2 octaves\n",
    "    if note_range > 24:\n",
    "        skipped.append(f)\n",
    "    # convert other songs to octave 4 to 6\n",
    "    else:\n",
    "        try:\n",
    "            midi_score = converter.parse(f\"{PATH_TRANSPOSED}/a)_4_4_metric_120_bpm/{dir}/{f}\")\n",
    "            midi_score = transpose_to_octave_4_to_6(midi_score)\n",
    "            midi_score.write(\"midi\", fp=f\"{PATH_TRANSPOSED}/c)_transposed_octave/{dir}/{f}\")\n",
    "        except:\n",
    "            continue\n",
    "\n",
    "print(\"skipped:\", len(skipped))"
   ]
  },
  {
   "cell_type": "code",
   "execution_count": 9,
   "metadata": {},
   "outputs": [
    {
     "name": "stdout",
     "output_type": "stream",
     "text": [
      "skipped: 44\n"
     ]
    }
   ],
   "source": [
    "print(\"skipped:\", len(skipped))"
   ]
  },
  {
   "cell_type": "code",
   "execution_count": 10,
   "metadata": {
    "collapsed": false,
    "pycharm": {
     "name": "#%%\n"
    }
   },
   "outputs": [
    {
     "name": "stderr",
     "output_type": "stream",
     "text": [
      "100%|██████████| 902/902 [06:48<00:00,  2.21it/s]\n"
     ]
    },
    {
     "data": {
      "text/plain": [
       "42"
      ]
     },
     "execution_count": 10,
     "metadata": {},
     "output_type": "execute_result"
    }
   ],
   "source": [
    "# when paths not exist, create directories\n",
    "if not os.path.exists(f\"{PATH_TRANSPOSED}/d)_transposed_key_and_octave/{dir}\"):\n",
    "    os.makedirs(f\"{PATH_TRANSPOSED}/d)_transposed_key_and_octave/{dir}\")\n",
    "\n",
    "skipped = []\n",
    "\n",
    "# transpose octave\n",
    "for f in tqdm(transposed_4_4_files):\n",
    "    # skip not MIDI files and already transposed ones\n",
    "    if f[-4:] != \".mid\":\n",
    "        continue\n",
    "    try:\n",
    "        note_range = df_key[df_key[\"name\"] == f][\"note_range\"].values[0]\n",
    "    except:\n",
    "        continue\n",
    "    # skip songs over more than 2 octaves\n",
    "    if note_range > 24:\n",
    "        skipped.append(f)\n",
    "    # convert other songs to octave 4 to 6\n",
    "    else:\n",
    "        try:\n",
    "            midi_score = converter.parse(f\"{PATH_TRANSPOSED}/b)_transposed_key/{dir}/{f}\")\n",
    "            midi_score = transpose_to_octave_4_to_6(midi_score)\n",
    "            midi_score.write(\"midi\", fp=f\"{PATH_TRANSPOSED}/d)_transposed_key_and_octave/{dir}/{f}\")\n",
    "        except:\n",
    "            continue\n",
    "\n",
    "len(skipped)"
   ]
  },
  {
   "cell_type": "code",
   "execution_count": 11,
   "metadata": {
    "collapsed": false,
    "pycharm": {
     "name": "#%%\n"
    }
   },
   "outputs": [
    {
     "name": "stderr",
     "output_type": "stream",
     "text": [
      "100%|██████████| 858/858 [04:37<00:00,  3.09it/s]\n",
      "100%|██████████| 803/803 [04:15<00:00,  3.14it/s]\n"
     ]
    }
   ],
   "source": [
    "# analyse transposed MIDI fiels\n",
    "df_octave_only = analyse_data_folder(f\"{PATH_TRANSPOSED}/c)_transposed_octave/{dir}\", compute_metrics=False)\n",
    "df_octave_key = analyse_data_folder(f\"{PATH_TRANSPOSED}/d)_transposed_key_and_octave/{dir}\", compute_metrics=False)"
   ]
  },
  {
   "cell_type": "code",
   "execution_count": 12,
   "metadata": {
    "collapsed": false,
    "pycharm": {
     "name": "#%%\n"
    }
   },
   "outputs": [
    {
     "name": "stdout",
     "output_type": "stream",
     "text": [
      "transposed octave only songs\n"
     ]
    },
    {
     "data": {
      "text/html": [
       "<div>\n",
       "<style scoped>\n",
       "    .dataframe tbody tr th:only-of-type {\n",
       "        vertical-align: middle;\n",
       "    }\n",
       "\n",
       "    .dataframe tbody tr th {\n",
       "        vertical-align: top;\n",
       "    }\n",
       "\n",
       "    .dataframe thead th {\n",
       "        text-align: right;\n",
       "    }\n",
       "</style>\n",
       "<table border=\"1\" class=\"dataframe\">\n",
       "  <thead>\n",
       "    <tr style=\"text-align: right;\">\n",
       "      <th></th>\n",
       "      <th>octave</th>\n",
       "      <th>begin</th>\n",
       "      <th>finish</th>\n",
       "    </tr>\n",
       "  </thead>\n",
       "  <tbody>\n",
       "    <tr>\n",
       "      <th>0</th>\n",
       "      <td>2</td>\n",
       "      <td>0</td>\n",
       "      <td>0</td>\n",
       "    </tr>\n",
       "    <tr>\n",
       "      <th>1</th>\n",
       "      <td>3</td>\n",
       "      <td>0</td>\n",
       "      <td>0</td>\n",
       "    </tr>\n",
       "    <tr>\n",
       "      <th>2</th>\n",
       "      <td>4</td>\n",
       "      <td>798</td>\n",
       "      <td>2</td>\n",
       "    </tr>\n",
       "    <tr>\n",
       "      <th>3</th>\n",
       "      <td>5</td>\n",
       "      <td>0</td>\n",
       "      <td>404</td>\n",
       "    </tr>\n",
       "    <tr>\n",
       "      <th>4</th>\n",
       "      <td>6</td>\n",
       "      <td>0</td>\n",
       "      <td>344</td>\n",
       "    </tr>\n",
       "    <tr>\n",
       "      <th>5</th>\n",
       "      <td>7</td>\n",
       "      <td>0</td>\n",
       "      <td>0</td>\n",
       "    </tr>\n",
       "  </tbody>\n",
       "</table>\n",
       "</div>"
      ],
      "text/plain": [
       "   octave  begin  finish\n",
       "0       2      0       0\n",
       "1       3      0       0\n",
       "2       4    798       2\n",
       "3       5      0     404\n",
       "4       6      0     344\n",
       "5       7      0       0"
      ]
     },
     "execution_count": 12,
     "metadata": {},
     "output_type": "execute_result"
    }
   ],
   "source": [
    "# check number of songs which begin and end in each octave\n",
    "octaves = []\n",
    "for octave in range(2,8):\n",
    "    octave_start = (octave+1)*12\n",
    "    octave_end = ((octave+2)*12)-1\n",
    "\n",
    "    count_begin_end = len(df_octave_only[df_octave_only[\"note_lowest\"] < octave_end])\n",
    "    count_begin_start = len(df_octave_only[df_octave_only[\"note_lowest\"] < octave_start])\n",
    "\n",
    "    count_fin_end = len(df_octave_only[df_octave_only[\"note_highest\"] > octave_end])\n",
    "    count_fin_start = len(df_octave_only[df_octave_only[\"note_highest\"] > octave_start])\n",
    "\n",
    "    octaves.append([octave, count_begin_end - count_begin_start, count_fin_start - count_fin_end])\n",
    "print(\"transposed octave only songs\")\n",
    "pd.DataFrame(octaves, columns= [\"octave\", \"begin\", \"finish\"])"
   ]
  },
  {
   "cell_type": "code",
   "execution_count": 13,
   "metadata": {},
   "outputs": [
    {
     "name": "stdout",
     "output_type": "stream",
     "text": [
      "transposed octave only songs\n"
     ]
    },
    {
     "data": {
      "text/html": [
       "<div>\n",
       "<style scoped>\n",
       "    .dataframe tbody tr th:only-of-type {\n",
       "        vertical-align: middle;\n",
       "    }\n",
       "\n",
       "    .dataframe tbody tr th {\n",
       "        vertical-align: top;\n",
       "    }\n",
       "\n",
       "    .dataframe thead th {\n",
       "        text-align: right;\n",
       "    }\n",
       "</style>\n",
       "<table border=\"1\" class=\"dataframe\">\n",
       "  <thead>\n",
       "    <tr style=\"text-align: right;\">\n",
       "      <th></th>\n",
       "      <th>octave</th>\n",
       "      <th>begin</th>\n",
       "      <th>finish</th>\n",
       "    </tr>\n",
       "  </thead>\n",
       "  <tbody>\n",
       "    <tr>\n",
       "      <th>0</th>\n",
       "      <td>2</td>\n",
       "      <td>0</td>\n",
       "      <td>0</td>\n",
       "    </tr>\n",
       "    <tr>\n",
       "      <th>1</th>\n",
       "      <td>3</td>\n",
       "      <td>0</td>\n",
       "      <td>0</td>\n",
       "    </tr>\n",
       "    <tr>\n",
       "      <th>2</th>\n",
       "      <td>4</td>\n",
       "      <td>787</td>\n",
       "      <td>2</td>\n",
       "    </tr>\n",
       "    <tr>\n",
       "      <th>3</th>\n",
       "      <td>5</td>\n",
       "      <td>0</td>\n",
       "      <td>361</td>\n",
       "    </tr>\n",
       "    <tr>\n",
       "      <th>4</th>\n",
       "      <td>6</td>\n",
       "      <td>0</td>\n",
       "      <td>245</td>\n",
       "    </tr>\n",
       "    <tr>\n",
       "      <th>5</th>\n",
       "      <td>7</td>\n",
       "      <td>0</td>\n",
       "      <td>0</td>\n",
       "    </tr>\n",
       "  </tbody>\n",
       "</table>\n",
       "</div>"
      ],
      "text/plain": [
       "   octave  begin  finish\n",
       "0       2      0       0\n",
       "1       3      0       0\n",
       "2       4    787       2\n",
       "3       5      0     361\n",
       "4       6      0     245\n",
       "5       7      0       0"
      ]
     },
     "execution_count": 13,
     "metadata": {},
     "output_type": "execute_result"
    }
   ],
   "source": [
    "# check number of songs which begin and end in each octave\n",
    "octaves = []\n",
    "for octave in range(2,8):\n",
    "    octave_start = (octave+1)*12\n",
    "    octave_end = ((octave+2)*12)-1\n",
    "\n",
    "    count_begin_end = len(df_octave_key[df_octave_key[\"note_lowest\"] < octave_end])\n",
    "    count_begin_start = len(df_octave_key[df_octave_key[\"note_lowest\"] < octave_start])\n",
    "\n",
    "    count_fin_end = len(df_octave_key[df_octave_key[\"note_highest\"] > octave_end])\n",
    "    count_fin_start = len(df_octave_key[df_octave_key[\"note_highest\"] > octave_start])\n",
    "\n",
    "    octaves.append([octave, count_begin_end - count_begin_start, count_fin_start - count_fin_end])\n",
    "print(\"transposed octave only songs\")\n",
    "pd.DataFrame(octaves, columns= [\"octave\", \"begin\", \"finish\"])"
   ]
  },
  {
   "cell_type": "code",
   "execution_count": 14,
   "metadata": {
    "collapsed": false,
    "pycharm": {
     "name": "#%%\n"
    }
   },
   "outputs": [
    {
     "name": "stdout",
     "output_type": "stream",
     "text": [
      "mean note\n",
      "octave only 75.1002331002331\n",
      "transposed key and octave 74.89290161892902\n",
      "\n",
      "min note\n",
      "octave only 60.0\n",
      "transposed key and octave 60.0\n",
      "\n",
      "max note\n",
      "octave only 95.0\n",
      "transposed key and octave 95.0\n",
      "\n",
      "note variation\n",
      "octave only 22\n",
      "transposed key and octave 22\n",
      "\n"
     ]
    }
   ],
   "source": [
    "# print some metrics\n",
    "print(\"mean note\")\n",
    "print(\"octave only\", df_octave_only[\"note_avg\"].mean())\n",
    "print(\"transposed key and octave\", df_octave_key[\"note_avg\"].mean())\n",
    "print()\n",
    "\n",
    "print(\"min note\")\n",
    "print(\"octave only\", df_octave_only[\"note_lowest\"].min())\n",
    "print(\"transposed key and octave\", df_octave_key[\"note_lowest\"].min())\n",
    "print()\n",
    "\n",
    "print(\"max note\")\n",
    "print(\"octave only\", df_octave_only[\"note_highest\"].max())\n",
    "print(\"transposed key and octave\", df_octave_key[\"note_highest\"].max())\n",
    "print()\n",
    "\n",
    "print(\"note variation\")\n",
    "print(\"octave only\", df_octave_only[\"note_variation_count\"].max())\n",
    "print(\"transposed key and octave\", df_octave_key[\"note_variation_count\"].max())\n",
    "print()"
   ]
  }
 ],
 "metadata": {
  "kernelspec": {
   "display_name": "MusicAI",
   "language": "python",
   "name": "python3"
  },
  "language_info": {
   "codemirror_mode": {
    "name": "ipython",
    "version": 3
   },
   "file_extension": ".py",
   "mimetype": "text/x-python",
   "name": "python",
   "nbconvert_exporter": "python",
   "pygments_lexer": "ipython3",
   "version": "3.8.0"
  },
  "vscode": {
   "interpreter": {
    "hash": "b45485cfab4f9d3f2b74db78e445236bebb198055b9cbaed4a83d587e72b6464"
   }
  }
 },
 "nbformat": 4,
 "nbformat_minor": 0
}
