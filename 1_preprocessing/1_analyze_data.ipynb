{
 "cells": [
  {
   "cell_type": "code",
   "execution_count": 1,
   "metadata": {
    "collapsed": true
   },
   "outputs": [],
   "source": [
    "import pandas as pd\n",
    "import os\n",
    "from helper_functions import get_file_and_dirnames\n",
    "from analysis_functions import analyse_data_folder\n",
    "import warnings\n",
    "warnings.filterwarnings('ignore')\n",
    "\n",
    "PATH_MIDI = \"../0_data/1_midi_sets\"\n",
    "PATH_ANALYSIS = \"../0_data/2_analysis\"\n",
    "\n",
    "# when paths not exist, create directories\n",
    "if not os.path.exists(PATH_ANALYSIS):\n",
    "    os.makedirs(PATH_ANALYSIS)"
   ]
  },
  {
   "cell_type": "markdown",
   "metadata": {
    "collapsed": false,
    "pycharm": {
     "name": "#%% md\n"
    }
   },
   "source": [
    "## Analyse Datasets"
   ]
  },
  {
   "cell_type": "code",
   "execution_count": 2,
   "metadata": {
    "collapsed": false,
    "pycharm": {
     "name": "#%%\n"
    }
   },
   "outputs": [
    {
     "data": {
      "text/plain": [
       "['10_classic_midi_cont_melodies',\n",
       " '11_classic_piano_vienna',\n",
       " '12_emotion_classification',\n",
       " '13_NES_music',\n",
       " '14_national_anthems',\n",
       " '15_baroque',\n",
       " '16_classic_piano',\n",
       " '17_POP909-Dataset-master',\n",
       " '1_lakh_full',\n",
       " '2_lakh_subset',\n",
       " '3_lofi_hiphop',\n",
       " '4_Jazz_incl_csv',\n",
       " '6_anime_music',\n",
       " '7_Pop',\n",
       " '8_maestro-v3.0.0',\n",
       " '9_classic_midi_data']"
      ]
     },
     "execution_count": 2,
     "metadata": {},
     "output_type": "execute_result"
    }
   ],
   "source": [
    "# get list of directories in raw sets path\n",
    "_,dirs = get_file_and_dirnames(PATH_MIDI)\n",
    "dirs.sort()\n",
    "dirs"
   ]
  },
  {
   "cell_type": "code",
   "execution_count": 3,
   "metadata": {
    "collapsed": false,
    "pycharm": {
     "name": "#%%\n"
    }
   },
   "outputs": [],
   "source": [
    "paths = [\n",
    "    '10_classic_midi_cont_melodies',\n",
    "    '11_classic_piano_vienna',\n",
    "    '12_emotion_classification',\n",
    "    '14_national_anthems',\n",
    "    '15_baroque',\n",
    "    '16_classic_piano',\n",
    "    '17_POP909-Dataset-master',\n",
    "    '1_lakh_full',\n",
    "    '2_lakh_subset',\n",
    "    '3_lofi_hiphop',\n",
    "    '4_Jazz_incl_csv',\n",
    "    '6_anime_music',\n",
    "    '7_Pop',\n",
    "    '8_maestro-v3.0.0',\n",
    "    '9_classic_midi_data'\n",
    "]"
   ]
  },
  {
   "cell_type": "code",
   "execution_count": 4,
   "metadata": {
    "collapsed": false,
    "pycharm": {
     "name": "#%%\n"
    }
   },
   "outputs": [
    {
     "name": "stderr",
     "output_type": "stream",
     "text": [
      "100%|██████████| 1276/1276 [3:39:38<00:00, 10.33s/it]  \n"
     ]
    },
    {
     "name": "stdout",
     "output_type": "stream",
     "text": [
      "08_maestro-v3.0.0\n",
      "errors: 0\n"
     ]
    },
    {
     "name": "stderr",
     "output_type": "stream",
     "text": [
      "100%|██████████| 92/92 [01:04<00:00,  1.43it/s]"
     ]
    },
    {
     "name": "stdout",
     "output_type": "stream",
     "text": [
      "09_classic_midi_data\n",
      "errors: 0\n"
     ]
    },
    {
     "name": "stderr",
     "output_type": "stream",
     "text": [
      "\n"
     ]
    }
   ],
   "source": [
    "# analyse midi sets, save results in csv and print out error count\n",
    "for d in paths:\n",
    "    df = analyse_data_folder(f\"{PATH_MIDI}/{d}\")\n",
    "    if d[1] == \"_\":\n",
    "        d = \"0\" + d\n",
    "    df.to_csv(f\"{PATH_ANALYSIS}/{d}.csv\")\n",
    "    print(d)\n",
    "    print(\"errors:\", len(df[df[\"error\"]==True]))"
   ]
  },
  {
   "cell_type": "markdown",
   "metadata": {
    "collapsed": false,
    "pycharm": {
     "name": "#%% md\n"
    }
   },
   "source": [
    "## Create Overview of Analysis CSVs"
   ]
  },
  {
   "cell_type": "code",
   "execution_count": 5,
   "metadata": {
    "collapsed": false,
    "pycharm": {
     "name": "#%%\n"
    }
   },
   "outputs": [
    {
     "name": "stdout",
     "output_type": "stream",
     "text": [
      "02_lakh_subset.csv\n",
      "03_lofi_hiphop.csv\n",
      "04_Jazz_incl_csv.csv\n",
      "06_anime_music.csv\n",
      "07_Pop.csv\n",
      "08_maestro-v3.0.0.csv\n",
      "09_classic_midi_data.csv\n",
      "10_classic_midi_cont_melodies.csv\n",
      "11_classic_piano_vienna.csv\n",
      "12_emotion_classification.csv\n",
      "14_national_anthems.csv\n",
      "15_baroque.csv\n",
      "16_classic_piano.csv\n",
      "17_POP909-Dataset-master.csv\n"
     ]
    },
    {
     "data": {
      "text/html": [
       "<div>\n",
       "<style scoped>\n",
       "    .dataframe tbody tr th:only-of-type {\n",
       "        vertical-align: middle;\n",
       "    }\n",
       "\n",
       "    .dataframe tbody tr th {\n",
       "        vertical-align: top;\n",
       "    }\n",
       "\n",
       "    .dataframe thead th {\n",
       "        text-align: right;\n",
       "    }\n",
       "</style>\n",
       "<table border=\"1\" class=\"dataframe\">\n",
       "  <thead>\n",
       "    <tr style=\"text-align: right;\">\n",
       "      <th></th>\n",
       "      <th>folder</th>\n",
       "      <th>percentage_multitrack</th>\n",
       "      <th>percentage_monophonic</th>\n",
       "      <th>percentage_overlap</th>\n",
       "      <th>avg_length</th>\n",
       "      <th>song_4/4_beat</th>\n",
       "      <th>different_keys</th>\n",
       "      <th>bpm_avg</th>\n",
       "      <th>bpm_range</th>\n",
       "      <th>shortest_note</th>\n",
       "    </tr>\n",
       "  </thead>\n",
       "  <tbody>\n",
       "    <tr>\n",
       "      <th>0</th>\n",
       "      <td>02_lakh_subset.csv</td>\n",
       "      <td>0.6463</td>\n",
       "      <td>0.7317</td>\n",
       "      <td>0.3902</td>\n",
       "      <td>173.89</td>\n",
       "      <td>61</td>\n",
       "      <td>11</td>\n",
       "      <td>124.59</td>\n",
       "      <td>161.00</td>\n",
       "      <td>0.00098</td>\n",
       "    </tr>\n",
       "    <tr>\n",
       "      <th>1</th>\n",
       "      <td>03_lofi_hiphop.csv</td>\n",
       "      <td>0.3118</td>\n",
       "      <td>0.2688</td>\n",
       "      <td>0.9892</td>\n",
       "      <td>9.27</td>\n",
       "      <td>96</td>\n",
       "      <td>1</td>\n",
       "      <td>0.97</td>\n",
       "      <td>89.03</td>\n",
       "      <td>0.00104</td>\n",
       "    </tr>\n",
       "    <tr>\n",
       "      <th>2</th>\n",
       "      <td>04_Jazz_incl_csv.csv</td>\n",
       "      <td>0.8368</td>\n",
       "      <td>0.7974</td>\n",
       "      <td>0.2804</td>\n",
       "      <td>243.02</td>\n",
       "      <td>796</td>\n",
       "      <td>20</td>\n",
       "      <td>115.13</td>\n",
       "      <td>261.00</td>\n",
       "      <td>0.00010</td>\n",
       "    </tr>\n",
       "    <tr>\n",
       "      <th>3</th>\n",
       "      <td>06_anime_music.csv</td>\n",
       "      <td>0.9250</td>\n",
       "      <td>0.1667</td>\n",
       "      <td>0.8667</td>\n",
       "      <td>134.09</td>\n",
       "      <td>192</td>\n",
       "      <td>28</td>\n",
       "      <td>116.86</td>\n",
       "      <td>226.00</td>\n",
       "      <td>0.00098</td>\n",
       "    </tr>\n",
       "    <tr>\n",
       "      <th>4</th>\n",
       "      <td>07_Pop.csv</td>\n",
       "      <td>1.0000</td>\n",
       "      <td>1.0000</td>\n",
       "      <td>0.0000</td>\n",
       "      <td>65.42</td>\n",
       "      <td>53</td>\n",
       "      <td>1</td>\n",
       "      <td>105.86</td>\n",
       "      <td>108.00</td>\n",
       "      <td>0.01042</td>\n",
       "    </tr>\n",
       "    <tr>\n",
       "      <th>5</th>\n",
       "      <td>08_maestro-v3.0.0.csv</td>\n",
       "      <td>1.0000</td>\n",
       "      <td>0.0008</td>\n",
       "      <td>1.0000</td>\n",
       "      <td>561.41</td>\n",
       "      <td>1279</td>\n",
       "      <td>1</td>\n",
       "      <td>120.00</td>\n",
       "      <td>0.00</td>\n",
       "      <td>0.00208</td>\n",
       "    </tr>\n",
       "    <tr>\n",
       "      <th>6</th>\n",
       "      <td>09_classic_midi_data.csv</td>\n",
       "      <td>0.8913</td>\n",
       "      <td>0.2935</td>\n",
       "      <td>0.6848</td>\n",
       "      <td>134.73</td>\n",
       "      <td>63</td>\n",
       "      <td>17</td>\n",
       "      <td>112.95</td>\n",
       "      <td>180.00</td>\n",
       "      <td>0.00098</td>\n",
       "    </tr>\n",
       "    <tr>\n",
       "      <th>7</th>\n",
       "      <td>10_classic_midi_cont_melodies.csv</td>\n",
       "      <td>1.0000</td>\n",
       "      <td>0.0000</td>\n",
       "      <td>1.0000</td>\n",
       "      <td>421.04</td>\n",
       "      <td>10</td>\n",
       "      <td>9</td>\n",
       "      <td>120.72</td>\n",
       "      <td>177.00</td>\n",
       "      <td>0.00208</td>\n",
       "    </tr>\n",
       "    <tr>\n",
       "      <th>8</th>\n",
       "      <td>11_classic_piano_vienna.csv</td>\n",
       "      <td>0.6071</td>\n",
       "      <td>0.0000</td>\n",
       "      <td>1.0000</td>\n",
       "      <td>98.21</td>\n",
       "      <td>3</td>\n",
       "      <td>2</td>\n",
       "      <td>120.00</td>\n",
       "      <td>0.00</td>\n",
       "      <td>0.00208</td>\n",
       "    </tr>\n",
       "    <tr>\n",
       "      <th>9</th>\n",
       "      <td>12_emotion_classification.csv</td>\n",
       "      <td>0.8402</td>\n",
       "      <td>0.7732</td>\n",
       "      <td>0.2887</td>\n",
       "      <td>223.21</td>\n",
       "      <td>173</td>\n",
       "      <td>13</td>\n",
       "      <td>122.59</td>\n",
       "      <td>347.00</td>\n",
       "      <td>0.00208</td>\n",
       "    </tr>\n",
       "    <tr>\n",
       "      <th>10</th>\n",
       "      <td>14_national_anthems.csv</td>\n",
       "      <td>0.9702</td>\n",
       "      <td>0.3750</td>\n",
       "      <td>0.6250</td>\n",
       "      <td>71.10</td>\n",
       "      <td>260</td>\n",
       "      <td>5</td>\n",
       "      <td>95.50</td>\n",
       "      <td>182.00</td>\n",
       "      <td>0.00208</td>\n",
       "    </tr>\n",
       "    <tr>\n",
       "      <th>11</th>\n",
       "      <td>15_baroque.csv</td>\n",
       "      <td>0.9935</td>\n",
       "      <td>0.6676</td>\n",
       "      <td>0.4123</td>\n",
       "      <td>183.04</td>\n",
       "      <td>682</td>\n",
       "      <td>20</td>\n",
       "      <td>105.82</td>\n",
       "      <td>598.00</td>\n",
       "      <td>0.00098</td>\n",
       "    </tr>\n",
       "    <tr>\n",
       "      <th>12</th>\n",
       "      <td>16_classic_piano.csv</td>\n",
       "      <td>1.0000</td>\n",
       "      <td>0.0103</td>\n",
       "      <td>0.9966</td>\n",
       "      <td>254.81</td>\n",
       "      <td>96</td>\n",
       "      <td>13</td>\n",
       "      <td>114.97</td>\n",
       "      <td>250.00</td>\n",
       "      <td>0.00208</td>\n",
       "    </tr>\n",
       "    <tr>\n",
       "      <th>13</th>\n",
       "      <td>17_POP909-Dataset-master.csv</td>\n",
       "      <td>1.0000</td>\n",
       "      <td>0.9340</td>\n",
       "      <td>0.9186</td>\n",
       "      <td>249.60</td>\n",
       "      <td>264</td>\n",
       "      <td>2</td>\n",
       "      <td>81.42</td>\n",
       "      <td>160.00</td>\n",
       "      <td>0.00104</td>\n",
       "    </tr>\n",
       "  </tbody>\n",
       "</table>\n",
       "</div>"
      ],
      "text/plain": [
       "                               folder  percentage_multitrack  \\\n",
       "0                  02_lakh_subset.csv                 0.6463   \n",
       "1                  03_lofi_hiphop.csv                 0.3118   \n",
       "2                04_Jazz_incl_csv.csv                 0.8368   \n",
       "3                  06_anime_music.csv                 0.9250   \n",
       "4                          07_Pop.csv                 1.0000   \n",
       "5               08_maestro-v3.0.0.csv                 1.0000   \n",
       "6            09_classic_midi_data.csv                 0.8913   \n",
       "7   10_classic_midi_cont_melodies.csv                 1.0000   \n",
       "8         11_classic_piano_vienna.csv                 0.6071   \n",
       "9       12_emotion_classification.csv                 0.8402   \n",
       "10            14_national_anthems.csv                 0.9702   \n",
       "11                     15_baroque.csv                 0.9935   \n",
       "12               16_classic_piano.csv                 1.0000   \n",
       "13       17_POP909-Dataset-master.csv                 1.0000   \n",
       "\n",
       "    percentage_monophonic  percentage_overlap  avg_length  song_4/4_beat  \\\n",
       "0                  0.7317              0.3902      173.89             61   \n",
       "1                  0.2688              0.9892        9.27             96   \n",
       "2                  0.7974              0.2804      243.02            796   \n",
       "3                  0.1667              0.8667      134.09            192   \n",
       "4                  1.0000              0.0000       65.42             53   \n",
       "5                  0.0008              1.0000      561.41           1279   \n",
       "6                  0.2935              0.6848      134.73             63   \n",
       "7                  0.0000              1.0000      421.04             10   \n",
       "8                  0.0000              1.0000       98.21              3   \n",
       "9                  0.7732              0.2887      223.21            173   \n",
       "10                 0.3750              0.6250       71.10            260   \n",
       "11                 0.6676              0.4123      183.04            682   \n",
       "12                 0.0103              0.9966      254.81             96   \n",
       "13                 0.9340              0.9186      249.60            264   \n",
       "\n",
       "    different_keys  bpm_avg  bpm_range  shortest_note  \n",
       "0               11   124.59     161.00        0.00098  \n",
       "1                1     0.97      89.03        0.00104  \n",
       "2               20   115.13     261.00        0.00010  \n",
       "3               28   116.86     226.00        0.00098  \n",
       "4                1   105.86     108.00        0.01042  \n",
       "5                1   120.00       0.00        0.00208  \n",
       "6               17   112.95     180.00        0.00098  \n",
       "7                9   120.72     177.00        0.00208  \n",
       "8                2   120.00       0.00        0.00208  \n",
       "9               13   122.59     347.00        0.00208  \n",
       "10               5    95.50     182.00        0.00208  \n",
       "11              20   105.82     598.00        0.00098  \n",
       "12              13   114.97     250.00        0.00208  \n",
       "13               2    81.42     160.00        0.00104  "
      ]
     },
     "execution_count": 5,
     "metadata": {},
     "output_type": "execute_result"
    }
   ],
   "source": [
    "files,_ = get_file_and_dirnames(PATH_ANALYSIS)\n",
    "files.sort()\n",
    "\n",
    "df = pd.DataFrame()\n",
    "for f in files:\n",
    "    if f == \"00_overview.csv\":\n",
    "        continue\n",
    "    print(f)\n",
    "    try:\n",
    "        f_df = pd.read_csv(f\"{PATH_ANALYSIS}/{f}\")\n",
    "        # filter out errors and change type\n",
    "        f_df = f_df[f_df[\"error\"] != True]\n",
    "        f_df[\"bpm\"] = f_df[\"bpm\"].apply(lambda x: float(x))\n",
    "        # extract analysis rows\n",
    "        mean_row = f_df[f_df[\"name\"]==\"mean\"]\n",
    "        min_row = f_df[f_df[\"name\"]==\"min\"]\n",
    "        max_row = f_df[f_df[\"name\"]==\"max\"]\n",
    "        # extract entries where time metric is 4/4\n",
    "        f_df[\"numerator\"] = f_df[\"numerator\"].apply(lambda x: str(x))\n",
    "        f_df[\"denominator\"] = f_df[\"denominator\"].apply(lambda x: str(x))\n",
    "        numerator_df = f_df[f_df[\"numerator\"]==\"4.0\"]\n",
    "        denominator_df = numerator_df[numerator_df[\"denominator\"]==\"4.0\"]\n",
    "        # compute statistics\n",
    "        r = {\n",
    "            \"folder\": f,\n",
    "            \"percentage_multitrack\": float(mean_row[\"type\"].iloc[0]).__round__(4),\n",
    "            \"percentage_monophonic\": float(mean_row[\"monophonic\"].iloc[0]).__round__(4),\n",
    "            \"percentage_overlap\": float(mean_row[\"overlap\"].iloc[0]).__round__(4),\n",
    "            \"avg_length\": float(mean_row[\"length_sec\"].iloc[0]).__round__(2),\n",
    "            \"song_4/4_beat\": len(denominator_df.index),\n",
    "            \"different_keys\": len(f_df[f_df[\"error\"]==False][\"key\"].unique()),\n",
    "            \"bpm_avg\": float(mean_row[\"bpm\"].iloc[0]).__round__(2),\n",
    "            \"bpm_range\": (float(max_row[\"bpm\"].iloc[0]) - float(f_df[f_df[\"bpm\"] > 0][\"bpm\"].min())).__round__(2),\n",
    "            \"shortest_note\": float(min_row[\"duration_lowest\"].iloc[0]).__round__(5)\n",
    "        }\n",
    "    # catch any error\n",
    "    except:\n",
    "        print(\"error\")\n",
    "        r = {col: \"error\" for col in df.columns}\n",
    "        r[\"folder\"] = f\n",
    "\n",
    "    df = df.append(r, ignore_index=True)\n",
    "df.to_csv(f\"{PATH_ANALYSIS}/00_overview.csv\")\n",
    "df"
   ]
  }
 ],
 "metadata": {
  "kernelspec": {
   "display_name": "MusicAI",
   "language": "python",
   "name": "python3"
  },
  "language_info": {
   "codemirror_mode": {
    "name": "ipython",
    "version": 2
   },
   "file_extension": ".py",
   "mimetype": "text/x-python",
   "name": "python",
   "nbconvert_exporter": "python",
   "pygments_lexer": "ipython2",
   "version": "3.8.0 (v3.8.0:fa919fdf25, Oct 14 2019, 10:23:27) \n[Clang 6.0 (clang-600.0.57)]"
  },
  "vscode": {
   "interpreter": {
    "hash": "b45485cfab4f9d3f2b74db78e445236bebb198055b9cbaed4a83d587e72b6464"
   }
  }
 },
 "nbformat": 4,
 "nbformat_minor": 0
}
